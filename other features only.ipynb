{
 "cells": [
  {
   "cell_type": "code",
   "execution_count": 15,
   "metadata": {},
   "outputs": [],
   "source": [
    "import json\n",
    "import pandas as pd\n",
    "import numpy as np\n",
    "## for plotting\n",
    "import matplotlib.pyplot as plt\n",
    "import seaborn as sns\n",
    "## for processing\n",
    "import re\n",
    "import nltk\n",
    "## for bag-of-words\n",
    "from sklearn import feature_extraction, model_selection, naive_bayes, pipeline, manifold, preprocessing,feature_selection\n",
    "## for explainer\n",
    "from lime import lime_text\n",
    "## for word embedding\n",
    "import gensim\n",
    "import gensim.downloader as gensim_api\n",
    "## for deep learning\n",
    "from tensorflow.keras import models, layers, preprocessing as kprocessing\n",
    "from tensorflow.keras import backend as K\n",
    "## for bert language model\n",
    "import transformers\n",
    "from time import time\n",
    "from sklearn.metrics import confusion_matrix\n",
    "from sklearn import metrics\n",
    "from sklearn.linear_model import LogisticRegression\n",
    "from time import time\n",
    "from sklearn.neighbors import KNeighborsClassifier\n",
    "from sklearn.naive_bayes import GaussianNB\n",
    "from sklearn import tree\n",
    "from sklearn.linear_model import LogisticRegression\n",
    "from sklearn.metrics import mean_squared_error\n",
    "from sklearn.metrics import f1_score\n",
    "from sklearn.naive_bayes import GaussianNB\n",
    "from sklearn.ensemble import RandomForestClassifier\n",
    "from sklearn.neural_network import MLPClassifier\n",
    "from sklearn.ensemble import GradientBoostingClassifier"
   ]
  },
  {
   "cell_type": "code",
   "execution_count": 16,
   "metadata": {},
   "outputs": [],
   "source": [
    "review1=pd.read_csv(r'C:\\Users\\11638\\Favorites\\Code\\Project\\Review_project_sentiment_wUser.csv')"
   ]
  },
  {
   "cell_type": "code",
   "execution_count": 17,
   "metadata": {},
   "outputs": [
    {
     "data": {
      "text/html": [
       "<div>\n",
       "<style scoped>\n",
       "    .dataframe tbody tr th:only-of-type {\n",
       "        vertical-align: middle;\n",
       "    }\n",
       "\n",
       "    .dataframe tbody tr th {\n",
       "        vertical-align: top;\n",
       "    }\n",
       "\n",
       "    .dataframe thead th {\n",
       "        text-align: right;\n",
       "    }\n",
       "</style>\n",
       "<table border=\"1\" class=\"dataframe\">\n",
       "  <thead>\n",
       "    <tr style=\"text-align: right;\">\n",
       "      <th></th>\n",
       "      <th>Unnamed: 0</th>\n",
       "      <th>review_id</th>\n",
       "      <th>user_id</th>\n",
       "      <th>business_id</th>\n",
       "      <th>stars</th>\n",
       "      <th>useful</th>\n",
       "      <th>funny</th>\n",
       "      <th>cool</th>\n",
       "      <th>text</th>\n",
       "      <th>date</th>\n",
       "      <th>...</th>\n",
       "      <th>language</th>\n",
       "      <th>text_clean</th>\n",
       "      <th>read_ease</th>\n",
       "      <th>polarity</th>\n",
       "      <th>subjectivity</th>\n",
       "      <th>Adj_ratio</th>\n",
       "      <th>review_count</th>\n",
       "      <th>NumElite</th>\n",
       "      <th>average_stars</th>\n",
       "      <th>NumofWords</th>\n",
       "    </tr>\n",
       "  </thead>\n",
       "  <tbody>\n",
       "    <tr>\n",
       "      <th>0</th>\n",
       "      <td>1073206</td>\n",
       "      <td>JdReKgETiiJEDmshrO4TLw</td>\n",
       "      <td>pyarmAnR-i-qookQamqRTA</td>\n",
       "      <td>V2GOReqPvr8qpCC7sWfoTw</td>\n",
       "      <td>1.0</td>\n",
       "      <td>17</td>\n",
       "      <td>1</td>\n",
       "      <td>0</td>\n",
       "      <td>Just to let this car company that people DO re...</td>\n",
       "      <td>2014-03-06 12:38:52</td>\n",
       "      <td>...</td>\n",
       "      <td>en</td>\n",
       "      <td>let car company people read yelp check review ...</td>\n",
       "      <td>85.49</td>\n",
       "      <td>-0.500000</td>\n",
       "      <td>1.000000</td>\n",
       "      <td>0.120000</td>\n",
       "      <td>9</td>\n",
       "      <td>0</td>\n",
       "      <td>3.00</td>\n",
       "      <td>56</td>\n",
       "    </tr>\n",
       "    <tr>\n",
       "      <th>1</th>\n",
       "      <td>6229216</td>\n",
       "      <td>zL4se_Ixdcl8kvTOHCS3rg</td>\n",
       "      <td>s16-BUo-orUsELvMu5ocKg</td>\n",
       "      <td>VH0Ib9S3E-dxbQdQC4rffg</td>\n",
       "      <td>1.0</td>\n",
       "      <td>15</td>\n",
       "      <td>6</td>\n",
       "      <td>4</td>\n",
       "      <td>Mistral was the worst dining experience I have...</td>\n",
       "      <td>2010-07-22 18:08:01</td>\n",
       "      <td>...</td>\n",
       "      <td>en</td>\n",
       "      <td>mistral worst dining experience ever life bad ...</td>\n",
       "      <td>79.19</td>\n",
       "      <td>0.029864</td>\n",
       "      <td>0.502499</td>\n",
       "      <td>0.225888</td>\n",
       "      <td>1777</td>\n",
       "      <td>10</td>\n",
       "      <td>3.82</td>\n",
       "      <td>767</td>\n",
       "    </tr>\n",
       "  </tbody>\n",
       "</table>\n",
       "<p>2 rows × 21 columns</p>\n",
       "</div>"
      ],
      "text/plain": [
       "   Unnamed: 0               review_id                 user_id  \\\n",
       "0     1073206  JdReKgETiiJEDmshrO4TLw  pyarmAnR-i-qookQamqRTA   \n",
       "1     6229216  zL4se_Ixdcl8kvTOHCS3rg  s16-BUo-orUsELvMu5ocKg   \n",
       "\n",
       "              business_id  stars  useful  funny  cool  \\\n",
       "0  V2GOReqPvr8qpCC7sWfoTw    1.0      17      1     0   \n",
       "1  VH0Ib9S3E-dxbQdQC4rffg    1.0      15      6     4   \n",
       "\n",
       "                                                text                 date  \\\n",
       "0  Just to let this car company that people DO re...  2014-03-06 12:38:52   \n",
       "1  Mistral was the worst dining experience I have...  2010-07-22 18:08:01   \n",
       "\n",
       "   ...  language                                         text_clean read_ease  \\\n",
       "0  ...        en  let car company people read yelp check review ...     85.49   \n",
       "1  ...        en  mistral worst dining experience ever life bad ...     79.19   \n",
       "\n",
       "   polarity  subjectivity  Adj_ratio  review_count  NumElite  average_stars  \\\n",
       "0 -0.500000      1.000000   0.120000             9         0           3.00   \n",
       "1  0.029864      0.502499   0.225888          1777        10           3.82   \n",
       "\n",
       "   NumofWords  \n",
       "0          56  \n",
       "1         767  \n",
       "\n",
       "[2 rows x 21 columns]"
      ]
     },
     "execution_count": 17,
     "metadata": {},
     "output_type": "execute_result"
    }
   ],
   "source": [
    "review1.head(2)"
   ]
  },
  {
   "cell_type": "code",
   "execution_count": 18,
   "metadata": {},
   "outputs": [],
   "source": [
    "X1 = review1[[\"read_ease\", \"polarity\", \"subjectivity\", \n",
    "                           \"Adj_ratio\",'review_count','NumElite','NumofWords']]\n",
    "Y1 = review1[[\"useful_level\"]]\n",
    "X2 = review1[[\"useful_level\", \"read_ease\", \"polarity\", \"subjectivity\", \n",
    "                           \"Adj_ratio\",'review_count','NumElite','NumofWords']]"
   ]
  },
  {
   "cell_type": "code",
   "execution_count": 19,
   "metadata": {},
   "outputs": [],
   "source": [
    "sample = X2.sample(n = 5000)"
   ]
  },
  {
   "cell_type": "code",
   "execution_count": 20,
   "metadata": {},
   "outputs": [],
   "source": [
    "Y = np.array(sample[\"useful_level\"].values)"
   ]
  },
  {
   "cell_type": "code",
   "execution_count": 21,
   "metadata": {},
   "outputs": [],
   "source": [
    "X = sample[[ \"read_ease\", \"polarity\", \"subjectivity\", \n",
    "                           \"Adj_ratio\",'review_count','NumElite','NumofWords']]"
   ]
  },
  {
   "cell_type": "code",
   "execution_count": null,
   "metadata": {},
   "outputs": [],
   "source": []
  },
  {
   "cell_type": "code",
   "execution_count": 22,
   "metadata": {},
   "outputs": [],
   "source": [
    "## split dataset\n",
    "X_train, X_test,y_train,y_test = model_selection.train_test_split(X1,Y1, test_size=0.1,stratify=Y1)# 10% test size"
   ]
  },
  {
   "cell_type": "code",
   "execution_count": 23,
   "metadata": {},
   "outputs": [],
   "source": [
    "X_train1, X_valid,y_train1,y_valid = model_selection.train_test_split(X_train,y_train, test_size=0.2,stratify=y_train)# 20% validation"
   ]
  },
  {
   "cell_type": "code",
   "execution_count": 24,
   "metadata": {},
   "outputs": [
    {
     "data": {
      "text/html": [
       "<div>\n",
       "<style scoped>\n",
       "    .dataframe tbody tr th:only-of-type {\n",
       "        vertical-align: middle;\n",
       "    }\n",
       "\n",
       "    .dataframe tbody tr th {\n",
       "        vertical-align: top;\n",
       "    }\n",
       "\n",
       "    .dataframe thead th {\n",
       "        text-align: right;\n",
       "    }\n",
       "</style>\n",
       "<table border=\"1\" class=\"dataframe\">\n",
       "  <thead>\n",
       "    <tr style=\"text-align: right;\">\n",
       "      <th></th>\n",
       "      <th>read_ease</th>\n",
       "      <th>polarity</th>\n",
       "      <th>subjectivity</th>\n",
       "      <th>Adj_ratio</th>\n",
       "      <th>review_count</th>\n",
       "      <th>NumElite</th>\n",
       "      <th>NumofWords</th>\n",
       "    </tr>\n",
       "  </thead>\n",
       "  <tbody>\n",
       "    <tr>\n",
       "      <th>4345</th>\n",
       "      <td>62.21</td>\n",
       "      <td>-0.700000</td>\n",
       "      <td>0.666667</td>\n",
       "      <td>0.106061</td>\n",
       "      <td>21</td>\n",
       "      <td>0</td>\n",
       "      <td>163</td>\n",
       "    </tr>\n",
       "    <tr>\n",
       "      <th>21818</th>\n",
       "      <td>70.57</td>\n",
       "      <td>0.080245</td>\n",
       "      <td>0.476340</td>\n",
       "      <td>0.184143</td>\n",
       "      <td>13</td>\n",
       "      <td>0</td>\n",
       "      <td>803</td>\n",
       "    </tr>\n",
       "    <tr>\n",
       "      <th>8245</th>\n",
       "      <td>9.33</td>\n",
       "      <td>0.130132</td>\n",
       "      <td>0.520418</td>\n",
       "      <td>0.204545</td>\n",
       "      <td>75</td>\n",
       "      <td>0</td>\n",
       "      <td>547</td>\n",
       "    </tr>\n",
       "    <tr>\n",
       "      <th>49733</th>\n",
       "      <td>97.94</td>\n",
       "      <td>0.296667</td>\n",
       "      <td>0.520000</td>\n",
       "      <td>0.083333</td>\n",
       "      <td>91</td>\n",
       "      <td>0</td>\n",
       "      <td>78</td>\n",
       "    </tr>\n",
       "    <tr>\n",
       "      <th>31403</th>\n",
       "      <td>90.80</td>\n",
       "      <td>0.131886</td>\n",
       "      <td>0.502856</td>\n",
       "      <td>0.210191</td>\n",
       "      <td>193</td>\n",
       "      <td>3</td>\n",
       "      <td>975</td>\n",
       "    </tr>\n",
       "    <tr>\n",
       "      <th>...</th>\n",
       "      <td>...</td>\n",
       "      <td>...</td>\n",
       "      <td>...</td>\n",
       "      <td>...</td>\n",
       "      <td>...</td>\n",
       "      <td>...</td>\n",
       "      <td>...</td>\n",
       "    </tr>\n",
       "    <tr>\n",
       "      <th>38745</th>\n",
       "      <td>66.74</td>\n",
       "      <td>0.342500</td>\n",
       "      <td>0.530000</td>\n",
       "      <td>0.571429</td>\n",
       "      <td>7</td>\n",
       "      <td>0</td>\n",
       "      <td>13</td>\n",
       "    </tr>\n",
       "    <tr>\n",
       "      <th>37421</th>\n",
       "      <td>91.51</td>\n",
       "      <td>0.253993</td>\n",
       "      <td>0.503299</td>\n",
       "      <td>0.275000</td>\n",
       "      <td>20</td>\n",
       "      <td>0</td>\n",
       "      <td>68</td>\n",
       "    </tr>\n",
       "    <tr>\n",
       "      <th>48719</th>\n",
       "      <td>76.45</td>\n",
       "      <td>0.236023</td>\n",
       "      <td>0.489859</td>\n",
       "      <td>0.187970</td>\n",
       "      <td>762</td>\n",
       "      <td>5</td>\n",
       "      <td>282</td>\n",
       "    </tr>\n",
       "    <tr>\n",
       "      <th>46978</th>\n",
       "      <td>94.66</td>\n",
       "      <td>-0.261667</td>\n",
       "      <td>0.676667</td>\n",
       "      <td>0.179688</td>\n",
       "      <td>511</td>\n",
       "      <td>11</td>\n",
       "      <td>254</td>\n",
       "    </tr>\n",
       "    <tr>\n",
       "      <th>52443</th>\n",
       "      <td>78.55</td>\n",
       "      <td>0.181851</td>\n",
       "      <td>0.441526</td>\n",
       "      <td>0.181818</td>\n",
       "      <td>1563</td>\n",
       "      <td>8</td>\n",
       "      <td>98</td>\n",
       "    </tr>\n",
       "  </tbody>\n",
       "</table>\n",
       "<p>39734 rows × 7 columns</p>\n",
       "</div>"
      ],
      "text/plain": [
       "       read_ease  polarity  subjectivity  Adj_ratio  review_count  NumElite  \\\n",
       "4345       62.21 -0.700000      0.666667   0.106061            21         0   \n",
       "21818      70.57  0.080245      0.476340   0.184143            13         0   \n",
       "8245        9.33  0.130132      0.520418   0.204545            75         0   \n",
       "49733      97.94  0.296667      0.520000   0.083333            91         0   \n",
       "31403      90.80  0.131886      0.502856   0.210191           193         3   \n",
       "...          ...       ...           ...        ...           ...       ...   \n",
       "38745      66.74  0.342500      0.530000   0.571429             7         0   \n",
       "37421      91.51  0.253993      0.503299   0.275000            20         0   \n",
       "48719      76.45  0.236023      0.489859   0.187970           762         5   \n",
       "46978      94.66 -0.261667      0.676667   0.179688           511        11   \n",
       "52443      78.55  0.181851      0.441526   0.181818          1563         8   \n",
       "\n",
       "       NumofWords  \n",
       "4345          163  \n",
       "21818         803  \n",
       "8245          547  \n",
       "49733          78  \n",
       "31403         975  \n",
       "...           ...  \n",
       "38745          13  \n",
       "37421          68  \n",
       "48719         282  \n",
       "46978         254  \n",
       "52443          98  \n",
       "\n",
       "[39734 rows x 7 columns]"
      ]
     },
     "execution_count": 24,
     "metadata": {},
     "output_type": "execute_result"
    }
   ],
   "source": [
    "X_train1"
   ]
  },
  {
   "cell_type": "code",
   "execution_count": null,
   "metadata": {},
   "outputs": [],
   "source": [
    "t0 = time()\n",
    "import xgboost \n",
    " \n",
    "# initializing all the base model objects with default parameters\n",
    "model_1 = LogisticRegression()\n",
    "model_2 = xgboost.XGBClassifier()\n",
    "model_3 = GaussianNB()\n",
    "model_4 = RandomForestClassifier()\n",
    "model_5 = GradientBoostingClassifier(n_estimators=100, learning_rate=1.0,max_depth=1, random_state=0)\n",
    "\n",
    "# tfidf\n",
    "model_1.fit(X_train1, y_train1)\n",
    "val_pred_1 = model_1.predict(X_valid)\n",
    "test_pred_1 = model_1.predict(X_test)\n",
    "final_pred_Prob = model_2.predict_proba(X_test)\n",
    "# converting to dataframe\n",
    "val_pred_1 = pd.DataFrame(val_pred_1)\n",
    "test_pred_1 = pd.DataFrame(test_pred_1)\n",
    "\n",
    "\n",
    "# concatenating validation dataset along with all the predicted validation data (meta features)\n",
    "\n",
    "print(time() - t0)"
   ]
  },
  {
   "cell_type": "code",
   "execution_count": null,
   "metadata": {},
   "outputs": [],
   "source": [
    "test_pred_1 = model_2.predict(X)\n",
    "final_pred_Prob = model_2.predict_proba(X)\n",
    "# converting to dataframe\n",
    "val_pred_1 = pd.DataFrame(val_pred_1)\n",
    "test_pred_1 = pd.DataFrame(test_pred_1)"
   ]
  },
  {
   "cell_type": "code",
   "execution_count": 14,
   "metadata": {},
   "outputs": [
    {
     "name": "stdout",
     "output_type": "stream",
     "text": [
      "0.4456\n",
      "0.729\n",
      "0.704818533594055\n"
     ]
    }
   ],
   "source": [
    "\n",
    "print(mean_squared_error(Y, test_pred_1))\n",
    "print(f1_score(Y, test_pred_1, average='micro'))\n",
    "print(f1_score(Y, test_pred_1, average='macro'))"
   ]
  },
  {
   "cell_type": "code",
   "execution_count": 107,
   "metadata": {},
   "outputs": [
    {
     "name": "stdout",
     "output_type": "stream",
     "text": [
      "Accuracy: 0.75\n",
      "Auc: 0.89\n",
      "Detail:\n",
      "              precision    recall  f1-score   support\n",
      "\n",
      "           0       0.77      0.88      0.83      2175\n",
      "           1       0.66      0.74      0.70      1539\n",
      "           2       0.87      0.53      0.66      1286\n",
      "\n",
      "    accuracy                           0.75      5000\n",
      "   macro avg       0.77      0.72      0.73      5000\n",
      "weighted avg       0.76      0.75      0.74      5000\n",
      "\n"
     ]
    }
   ],
   "source": [
    "accuracy = metrics.accuracy_score(Y, test_pred_1)\n",
    "auc = metrics.roc_auc_score(Y, final_pred_Prob, \n",
    "                            multi_class=\"ovr\")\n",
    "print(\"Accuracy:\",  round(accuracy,2))\n",
    "print(\"Auc:\", round(auc,2))\n",
    "print(\"Detail:\")\n",
    "print(metrics.classification_report(Y, test_pred_1))"
   ]
  },
  {
   "cell_type": "markdown",
   "metadata": {},
   "source": [
    "LogisticRegression 0.7344729900360107 0.57129914839644870.46119721076063147"
   ]
  },
  {
   "cell_type": "code",
   "execution_count": null,
   "metadata": {},
   "outputs": [],
   "source": [
    "from sklearn.metrics import roc_curve, roc_auc_score\n",
    "from sklearn.preprocessing import label_binarize\n",
    "import itertools\n",
    "import matplotlib.pyplot as plt\n",
    "t0 = time()\n",
    "    ## test\n",
    "#     predicted = model1.predict(NewXValid)\n",
    "#     predicted_prob = model1.predict_proba(NewXValid)\n",
    "print('Training Time:', time() - t0)\n",
    "print('')\n",
    "accuracy = metrics.accuracy_score(Test_y, final_pred)\n",
    "auc = metrics.roc_auc_score(Test_y, final_pred_Prob, \n",
    "                                multi_class=\"ovr\")\n",
    "print('\\033[1m' + 'Validation Set')\n",
    "print('\\033[0m')\n",
    "print(\"Accuracy:\",  round(accuracy,2))\n",
    "print(\"Auc:\", round(auc,2))\n",
    "print('Macros:')\n",
    "print(\"F1 Score:\", f1_score(Test_y, final_pred, average='macro'))\n",
    "print(\"Precision:\", precision_score(Test_y, final_pred, average='macro'))\n",
    "print(\"Recall:\", recall_score(Test_y, final_pred, average='macro'))\n",
    "print('Micros:')\n",
    "print(\"F1 Score:\", f1_score(Test_y, final_pred, average='micro'))\n",
    "print(\"Precision:\", precision_score(Test_y, final_pred, average='micro'))\n",
    "print(\"Recall:\", recall_score(Test_y, final_pred, average='micro'))\n",
    "\n",
    "\n",
    "print(\"Detail Report:\")\n",
    "print(metrics.classification_report(Test_y, final_pred))\n",
    "\n",
    "#     predicted = model1.predict(NewXtest)\n",
    "#     predicted_prob = model1.predict_proba(NewXtest)\n",
    "#     accuracy = metrics.accuracy_score(y_test, predicted)\n",
    "#     auc = metrics.roc_auc_score(y_test, predicted_prob, \n",
    "#                                 multi_class=\"ovr\")\n",
    "#     print('\\033[1m' + 'Test Set')\n",
    "#     print('\\033[0m')\n",
    "#     print(\"Accuracy:\",  round(accuracy,2))\n",
    "#     print(\"Auc:\", round(auc,2))\n",
    "#     print('Macros:')\n",
    "#     print(\"F1 Score:\", f1_score(y_test, predicted, average='macro'))\n",
    "#     print(\"Precision:\", precision_score(y_test, predicted, average='macro'))\n",
    "#     print(\"Recall:\", recall_score(y_test, predicted, average='macro'))\n",
    "#     print('Micros:')\n",
    "#     print(\"F1 Score:\", f1_score(y_test, predicted, average='micro'))\n",
    "#     print(\"Precision:\", precision_score(y_test, predicted, average='micro'))\n",
    "#     print(\"Recall:\", recall_score(y_test, predicted, average='micro'))\n",
    "\n",
    "#     print(\"Detail Report:\")\n",
    "#     print(metrics.classification_report(y_test, predicted))\n",
    "    \n",
    "y_test1 = label_binarize(Test_y, classes=[0, 1, 2])\n",
    "fpr = dict()\n",
    "tpr = dict()\n",
    "roc_auc = dict()\n",
    "for i in range(3):\n",
    "    fpr[i], tpr[i], _ = metrics.roc_curve(y_test1[:, i], final_pred_Prob[:, i])\n",
    "    roc_auc[i] = metrics.auc(fpr[i], tpr[i])\n",
    "colors = itertools.cycle(['blue', 'red', 'green'])\n",
    "for i, color in zip(range(3), colors):\n",
    "    plt.plot(fpr[i], tpr[i], color=color, lw=0.6,\n",
    "                label='ROC curve of class {0} (area = {1:0.2f})'\n",
    "                ''.format(i, roc_auc[i]))\n",
    "\n",
    "plt.plot([0, 1], [0, 1], 'k--', lw=0.6)\n",
    "plt.xlim([-0.05, 1.0])\n",
    "plt.ylim([0.0, 1.05])\n",
    "plt.xlabel('False Positive Rate')\n",
    "plt.ylabel('True Positive Rate')\n",
    "plt.title('Receiver operating characteristic for multi-class data')\n",
    "plt.legend(loc=\"lower right\")\n",
    "plt.show()"
   ]
  },
  {
   "cell_type": "code",
   "execution_count": 30,
   "metadata": {},
   "outputs": [],
   "source": [
    "from sklearn.metrics import f1_score, precision_score, recall_score"
   ]
  },
  {
   "cell_type": "code",
   "execution_count": 31,
   "metadata": {},
   "outputs": [],
   "source": [
    "from sklearn.ensemble import RandomForestClassifier\n",
    "from sklearn.ensemble import GradientBoostingClassifier\n",
    "from sklearn.linear_model import SGDClassifier\n",
    "from sklearn import tree\n",
    "from sklearn.naive_bayes import BernoulliNB\n",
    "from sklearn.metrics import accuracy_score\n",
    "from time import time\n"
   ]
  },
  {
   "cell_type": "markdown",
   "metadata": {},
   "source": [
    "model evaluation Def Function"
   ]
  },
  {
   "cell_type": "code",
   "execution_count": 32,
   "metadata": {},
   "outputs": [],
   "source": [
    "from sklearn.metrics import roc_curve, roc_auc_score\n",
    "from sklearn.preprocessing import label_binarize\n",
    "import itertools\n",
    "def model_evaluation(model1):\n",
    "    t0 = time()\n",
    "    model1.fit(NewXTrain, y_train1.astype(int))\n",
    "    ## test\n",
    "    predicted = model1.predict(NewXValid)\n",
    "    predicted_prob = model1.predict_proba(NewXValid)\n",
    "    print('Training Time:', time() - t0)\n",
    "    print('')\n",
    "    accuracy = metrics.accuracy_score(y_valid, predicted)\n",
    "    auc = metrics.roc_auc_score(y_valid, predicted_prob, \n",
    "                                multi_class=\"ovr\")\n",
    "    print('\\033[1m' + 'Validation Set')\n",
    "    print('\\033[0m')\n",
    "    print(\"Accuracy:\",  round(accuracy,2))\n",
    "    print(\"Auc:\", round(auc,2))\n",
    "    print('Macros:')\n",
    "    print(\"F1 Score:\", f1_score(y_valid, predicted, average='macro'))\n",
    "    print(\"Precision:\", precision_score(y_valid, predicted, average='macro'))\n",
    "    print(\"Recall:\", recall_score(y_valid, predicted, average='macro'))\n",
    "    print('Micros:')\n",
    "    print(\"F1 Score:\", f1_score(y_valid, predicted, average='micro'))\n",
    "    print(\"Precision:\", precision_score(y_valid, predicted, average='micro'))\n",
    "    print(\"Recall:\", recall_score(y_valid, predicted, average='micro'))\n",
    "\n",
    "\n",
    "    print(\"Detail Report:\")\n",
    "    print(metrics.classification_report(y_valid, predicted))\n",
    "\n",
    "    predicted = model1.predict(NewXtest)\n",
    "    predicted_prob = model1.predict_proba(NewXtest)\n",
    "    accuracy = metrics.accuracy_score(y_test, predicted)\n",
    "    auc = metrics.roc_auc_score(y_test, predicted_prob, \n",
    "                                multi_class=\"ovr\")\n",
    "    print('\\033[1m' + 'Test Set')\n",
    "    print('\\033[0m')\n",
    "    print(\"Accuracy:\",  round(accuracy,2))\n",
    "    print(\"Auc:\", round(auc,2))\n",
    "    print('Macros:')\n",
    "    print(\"F1 Score:\", f1_score(y_test, predicted, average='macro'))\n",
    "    print(\"Precision:\", precision_score(y_test, predicted, average='macro'))\n",
    "    print(\"Recall:\", recall_score(y_test, predicted, average='macro'))\n",
    "    print('Micros:')\n",
    "    print(\"F1 Score:\", f1_score(y_test, predicted, average='micro'))\n",
    "    print(\"Precision:\", precision_score(y_test, predicted, average='micro'))\n",
    "    print(\"Recall:\", recall_score(y_test, predicted, average='micro'))\n",
    "\n",
    "    print(\"Detail Report:\")\n",
    "    print(metrics.classification_report(y_test, predicted))\n",
    "    \n",
    "    y_test1 = label_binarize(y_test, classes=[0, 1, 2])\n",
    "    fpr = dict()\n",
    "    tpr = dict()\n",
    "    roc_auc = dict()\n",
    "    for i in range(3):\n",
    "        fpr[i], tpr[i], _ = metrics.roc_curve(y_test1[:, i], predicted_prob[:, i])\n",
    "        roc_auc[i] = metrics.auc(fpr[i], tpr[i])\n",
    "    colors = itertools.cycle(['blue', 'red', 'green'])\n",
    "    for i, color in zip(range(3), colors):\n",
    "        plt.plot(fpr[i], tpr[i], color=color, lw=0.6,\n",
    "                 label='ROC curve of class {0} (area = {1:0.2f})'\n",
    "                 ''.format(i, roc_auc[i]))\n",
    "\n",
    "    plt.plot([0, 1], [0, 1], 'k--', lw=0.6)\n",
    "    plt.xlim([-0.05, 1.0])\n",
    "    plt.ylim([0.0, 1.05])\n",
    "    plt.xlabel('False Positive Rate')\n",
    "    plt.ylabel('True Positive Rate')\n",
    "    plt.title('Receiver operating characteristic for multi-class data')\n",
    "    plt.legend(loc=\"lower right\")\n",
    "    plt.show()"
   ]
  },
  {
   "cell_type": "markdown",
   "metadata": {},
   "source": [
    "LogisticRegression"
   ]
  },
  {
   "cell_type": "code",
   "execution_count": 56,
   "metadata": {},
   "outputs": [
    {
     "name": "stderr",
     "output_type": "stream",
     "text": [
      "C:\\Users\\Fannie\\anaconda3\\lib\\site-packages\\sklearn\\linear_model\\_logistic.py:762: ConvergenceWarning: lbfgs failed to converge (status=1):\n",
      "STOP: TOTAL NO. of ITERATIONS REACHED LIMIT.\n",
      "\n",
      "Increase the number of iterations (max_iter) or scale the data as shown in:\n",
      "    https://scikit-learn.org/stable/modules/preprocessing.html\n",
      "Please also refer to the documentation for alternative solver options:\n",
      "    https://scikit-learn.org/stable/modules/linear_model.html#logistic-regression\n",
      "  n_iter_i = _check_optimize_result(\n"
     ]
    },
    {
     "name": "stdout",
     "output_type": "stream",
     "text": [
      "Training Time: 18.1965274810791\n",
      "\n",
      "\u001b[1mValidation Set\n",
      "\u001b[0m\n",
      "Accuracy: 0.59\n",
      "Auc: 0.74\n",
      "Macros:\n",
      "F1 Score: 0.5178555643865986\n",
      "Precision: 0.5626468802046003\n",
      "Recall: 0.5269406412658352\n",
      "Micros:\n",
      "F1 Score: 0.5873766861284477\n",
      "Precision: 0.5873766861284477\n",
      "Recall: 0.5873766861284477\n",
      "Detail Report:\n",
      "              precision    recall  f1-score   support\n",
      "\n",
      "           0       0.66      0.85      0.74      4361\n",
      "           1       0.47      0.51      0.49      3124\n",
      "           2       0.55      0.23      0.32      2449\n",
      "\n",
      "    accuracy                           0.59      9934\n",
      "   macro avg       0.56      0.53      0.52      9934\n",
      "weighted avg       0.58      0.59      0.56      9934\n",
      "\n",
      "\u001b[1mTest Set\n",
      "\u001b[0m\n",
      "Accuracy: 0.6\n",
      "Auc: 0.76\n",
      "Macros:\n",
      "F1 Score: 0.5254176136975074\n",
      "Precision: 0.5672340336233036\n",
      "Recall: 0.5349091952625179\n",
      "Micros:\n",
      "F1 Score: 0.5955789092226853\n",
      "Precision: 0.5955789092226853\n",
      "Recall: 0.5955789092226853\n",
      "Detail Report:\n",
      "              precision    recall  f1-score   support\n",
      "\n",
      "           0       0.67      0.85      0.75      2423\n",
      "           1       0.48      0.52      0.50      1736\n",
      "           2       0.54      0.23      0.32      1360\n",
      "\n",
      "    accuracy                           0.60      5519\n",
      "   macro avg       0.57      0.53      0.53      5519\n",
      "weighted avg       0.58      0.60      0.57      5519\n",
      "\n"
     ]
    },
    {
     "data": {
      "image/png": "[encoded data removed]",
      "text/plain": [
       "<Figure size 432x288 with 1 Axes>"
      ]
     },
     "metadata": {
      "needs_background": "light"
     },
     "output_type": "display_data"
    }
   ],
   "source": [
    "model_evaluation(model1=LogisticRegression(max_iter = 1000))"
   ]
  },
  {
   "cell_type": "markdown",
   "metadata": {},
   "source": [
    "XGB"
   ]
  },
  {
   "cell_type": "code",
   "execution_count": 57,
   "metadata": {},
   "outputs": [
    {
     "name": "stderr",
     "output_type": "stream",
     "text": [
      "C:\\Users\\Fannie\\anaconda3\\lib\\site-packages\\xgboost\\sklearn.py:1224: UserWarning: The use of label encoder in XGBClassifier is deprecated and will be removed in a future release. To remove this warning, do the following: 1) Pass option use_label_encoder=False when constructing XGBClassifier object; and 2) Encode your labels (y) as integers starting with 0, i.e. 0, 1, 2, ..., [num_class - 1].\n",
      "  warnings.warn(label_encoder_deprecation_msg, UserWarning)\n"
     ]
    },
    {
     "name": "stdout",
     "output_type": "stream",
     "text": [
      "[18:34:31] WARNING: C:/Users/Administrator/workspace/xgboost-win64_release_1.5.1/src/learner.cc:1115: Starting in XGBoost 1.3.0, the default evaluation metric used with the objective 'multi:softprob' was changed from 'merror' to 'mlogloss'. Explicitly set eval_metric if you'd like to restore the old behavior.\n",
      "Training Time: 14.144911527633667\n",
      "\n",
      "\u001b[1mValidation Set\n",
      "\u001b[0m\n",
      "Accuracy: 0.66\n",
      "Auc: 0.82\n",
      "Macros:\n",
      "F1 Score: 0.6267597227783978\n",
      "Precision: 0.6533145809216375\n",
      "Recall: 0.6220410694575086\n",
      "Micros:\n",
      "F1 Score: 0.6649889269176565\n",
      "Precision: 0.6649889269176565\n",
      "Recall: 0.6649889269176565\n",
      "Detail Report:\n",
      "              precision    recall  f1-score   support\n",
      "\n",
      "           0       0.73      0.86      0.79      4361\n",
      "           1       0.56      0.58      0.57      3124\n",
      "           2       0.67      0.43      0.52      2449\n",
      "\n",
      "    accuracy                           0.66      9934\n",
      "   macro avg       0.65      0.62      0.63      9934\n",
      "weighted avg       0.66      0.66      0.65      9934\n",
      "\n",
      "\u001b[1mTest Set\n",
      "\u001b[0m\n",
      "Accuracy: 0.67\n",
      "Auc: 0.83\n",
      "Macros:\n",
      "F1 Score: 0.6325560043714568\n",
      "Precision: 0.6580428787253948\n",
      "Recall: 0.6283931821900008\n",
      "Micros:\n",
      "F1 Score: 0.6718608443558616\n",
      "Precision: 0.6718608443558616\n",
      "Recall: 0.6718608443558616\n",
      "Detail Report:\n",
      "              precision    recall  f1-score   support\n",
      "\n",
      "           0       0.74      0.87      0.80      2423\n",
      "           1       0.57      0.60      0.58      1736\n",
      "           2       0.67      0.42      0.52      1360\n",
      "\n",
      "    accuracy                           0.67      5519\n",
      "   macro avg       0.66      0.63      0.63      5519\n",
      "weighted avg       0.67      0.67      0.66      5519\n",
      "\n"
     ]
    },
    {
     "data": {
      "image/png": "[encoded data removed]",
      "text/plain": [
       "<Figure size 432x288 with 1 Axes>"
      ]
     },
     "metadata": {
      "needs_background": "light"
     },
     "output_type": "display_data"
    }
   ],
   "source": [
    "import xgboost as xgb\n",
    "model_evaluation(model1=xgb.XGBClassifier())"
   ]
  },
  {
   "cell_type": "markdown",
   "metadata": {},
   "source": [
    "Decision Tree"
   ]
  },
  {
   "cell_type": "code",
   "execution_count": 58,
   "metadata": {},
   "outputs": [
    {
     "name": "stdout",
     "output_type": "stream",
     "text": [
      "Training Time: 3.9590952396392822\n",
      "\n",
      "\u001b[1mValidation Set\n",
      "\u001b[0m\n",
      "Accuracy: 0.56\n",
      "Auc: 0.66\n",
      "Macros:\n",
      "F1 Score: 0.5398034662383788\n",
      "Precision: 0.5394937689247599\n",
      "Recall: 0.5401653098159328\n",
      "Micros:\n",
      "F1 Score: 0.5623112542782364\n",
      "Precision: 0.5623112542782364\n",
      "Recall: 0.5623112542782364\n",
      "Detail Report:\n",
      "              precision    recall  f1-score   support\n",
      "\n",
      "           0       0.69      0.68      0.68      4361\n",
      "           1       0.47      0.47      0.47      3124\n",
      "           2       0.46      0.47      0.47      2449\n",
      "\n",
      "    accuracy                           0.56      9934\n",
      "   macro avg       0.54      0.54      0.54      9934\n",
      "weighted avg       0.56      0.56      0.56      9934\n",
      "\n",
      "\u001b[1mTest Set\n",
      "\u001b[0m\n",
      "Accuracy: 0.56\n",
      "Auc: 0.66\n",
      "Macros:\n",
      "F1 Score: 0.5371740720740908\n",
      "Precision: 0.5377255117892804\n",
      "Recall: 0.5367229545952819\n",
      "Micros:\n",
      "F1 Score: 0.5615147671679652\n",
      "Precision: 0.5615147671679652\n",
      "Recall: 0.5615147671679652\n",
      "Detail Report:\n",
      "              precision    recall  f1-score   support\n",
      "\n",
      "           0       0.69      0.69      0.69      2423\n",
      "           1       0.46      0.47      0.47      1736\n",
      "           2       0.47      0.45      0.46      1360\n",
      "\n",
      "    accuracy                           0.56      5519\n",
      "   macro avg       0.54      0.54      0.54      5519\n",
      "weighted avg       0.56      0.56      0.56      5519\n",
      "\n"
     ]
    },
    {
     "data": {
      "image/png": "[encoded data removed]",
      "text/plain": [
       "<Figure size 432x288 with 1 Axes>"
      ]
     },
     "metadata": {
      "needs_background": "light"
     },
     "output_type": "display_data"
    }
   ],
   "source": [
    "model_evaluation(model1=tree.DecisionTreeClassifier())"
   ]
  },
  {
   "cell_type": "markdown",
   "metadata": {},
   "source": [
    "KNN"
   ]
  },
  {
   "cell_type": "code",
   "execution_count": 59,
   "metadata": {},
   "outputs": [
    {
     "name": "stdout",
     "output_type": "stream",
     "text": [
      "Training Time: 165.4017207622528\n",
      "\n",
      "\u001b[1mValidation Set\n",
      "\u001b[0m\n",
      "Accuracy: 0.49\n",
      "Auc: 0.63\n",
      "Macros:\n",
      "F1 Score: 0.36631267260694655\n",
      "Precision: 0.42824045227542623\n",
      "Recall: 0.4046751598635084\n",
      "Micros:\n",
      "F1 Score: 0.4858063217233743\n",
      "Precision: 0.4858063217233743\n",
      "Recall: 0.4858063217233743\n",
      "Detail Report:\n",
      "              precision    recall  f1-score   support\n",
      "\n",
      "           0       0.51      0.89      0.65      4361\n",
      "           1       0.43      0.22      0.29      3124\n",
      "           2       0.34      0.10      0.16      2449\n",
      "\n",
      "    accuracy                           0.49      9934\n",
      "   macro avg       0.43      0.40      0.37      9934\n",
      "weighted avg       0.44      0.49      0.42      9934\n",
      "\n",
      "\u001b[1mTest Set\n",
      "\u001b[0m\n",
      "Accuracy: 0.49\n",
      "Auc: 0.63\n",
      "Macros:\n",
      "F1 Score: 0.3678636633017935\n",
      "Precision: 0.42928061134814216\n",
      "Recall: 0.40585383242003154\n",
      "Micros:\n",
      "F1 Score: 0.48704475448450807\n",
      "Precision: 0.48704475448450807\n",
      "Recall: 0.48704475448450807\n",
      "Detail Report:\n",
      "              precision    recall  f1-score   support\n",
      "\n",
      "           0       0.51      0.89      0.65      2423\n",
      "           1       0.45      0.22      0.29      1736\n",
      "           2       0.33      0.11      0.16      1360\n",
      "\n",
      "    accuracy                           0.49      5519\n",
      "   macro avg       0.43      0.41      0.37      5519\n",
      "weighted avg       0.45      0.49      0.42      5519\n",
      "\n"
     ]
    },
    {
     "data": {
      "image/png": "[encoded data removed]",
      "text/plain": [
       "<Figure size 432x288 with 1 Axes>"
      ]
     },
     "metadata": {
      "needs_background": "light"
     },
     "output_type": "display_data"
    }
   ],
   "source": [
    "model_evaluation(model1=KNeighborsClassifier())"
   ]
  },
  {
   "cell_type": "markdown",
   "metadata": {},
   "source": [
    "RandomForest"
   ]
  },
  {
   "cell_type": "code",
   "execution_count": 60,
   "metadata": {},
   "outputs": [
    {
     "name": "stdout",
     "output_type": "stream",
     "text": [
      "Training Time: 24.881465911865234\n",
      "\n",
      "\u001b[1mValidation Set\n",
      "\u001b[0m\n",
      "Accuracy: 0.64\n",
      "Auc: 0.8\n",
      "Macros:\n",
      "F1 Score: 0.5867980922699071\n",
      "Precision: 0.6344965154380412\n",
      "Recall: 0.5887569686929267\n",
      "Micros:\n",
      "F1 Score: 0.6406281457620294\n",
      "Precision: 0.6406281457620294\n",
      "Recall: 0.6406281457620294\n",
      "Detail Report:\n",
      "              precision    recall  f1-score   support\n",
      "\n",
      "           0       0.72      0.85      0.78      4361\n",
      "           1       0.52      0.61      0.56      3124\n",
      "           2       0.66      0.31      0.42      2449\n",
      "\n",
      "    accuracy                           0.64      9934\n",
      "   macro avg       0.63      0.59      0.59      9934\n",
      "weighted avg       0.64      0.64      0.62      9934\n",
      "\n",
      "\u001b[1mTest Set\n",
      "\u001b[0m\n",
      "Accuracy: 0.64\n",
      "Auc: 0.8\n",
      "Macros:\n",
      "F1 Score: 0.5848913641472074\n",
      "Precision: 0.6314586061938915\n",
      "Recall: 0.5891458605728713\n",
      "Micros:\n",
      "F1 Score: 0.6448631998550463\n",
      "Precision: 0.6448631998550463\n",
      "Recall: 0.6448631998550463\n",
      "Detail Report:\n",
      "              precision    recall  f1-score   support\n",
      "\n",
      "           0       0.73      0.87      0.79      2423\n",
      "           1       0.53      0.61      0.56      1736\n",
      "           2       0.64      0.29      0.40      1360\n",
      "\n",
      "    accuracy                           0.64      5519\n",
      "   macro avg       0.63      0.59      0.58      5519\n",
      "weighted avg       0.64      0.64      0.62      5519\n",
      "\n"
     ]
    },
    {
     "data": {
      "image/png": "[encoded data removed]",
      "text/plain": [
       "<Figure size 432x288 with 1 Axes>"
      ]
     },
     "metadata": {
      "needs_background": "light"
     },
     "output_type": "display_data"
    }
   ],
   "source": [
    "model_evaluation(model1=RandomForestClassifier())"
   ]
  },
  {
   "cell_type": "markdown",
   "metadata": {},
   "source": [
    "MLP"
   ]
  },
  {
   "cell_type": "code",
   "execution_count": 61,
   "metadata": {},
   "outputs": [
    {
     "name": "stdout",
     "output_type": "stream",
     "text": [
      "Training Time: 27.287930488586426\n",
      "\n",
      "\u001b[1mValidation Set\n",
      "\u001b[0m\n",
      "Accuracy: 0.56\n",
      "Auc: 0.72\n",
      "Macros:\n",
      "F1 Score: 0.42867085692613527\n",
      "Precision: 0.4566993596823175\n",
      "Recall: 0.5013442685053463\n",
      "Micros:\n",
      "F1 Score: 0.562411918663177\n",
      "Precision: 0.562411918663177\n",
      "Recall: 0.562411918663177\n",
      "Detail Report:\n",
      "              precision    recall  f1-score   support\n",
      "\n",
      "           0       0.74      0.72      0.73      4361\n",
      "           1       0.43      0.79      0.56      3124\n",
      "           2       0.20      0.00      0.00      2449\n",
      "\n",
      "    accuracy                           0.56      9934\n",
      "   macro avg       0.46      0.50      0.43      9934\n",
      "weighted avg       0.51      0.56      0.50      9934\n",
      "\n",
      "\u001b[1mTest Set\n",
      "\u001b[0m\n",
      "Accuracy: 0.57\n",
      "Auc: 0.73\n",
      "Macros:\n",
      "F1 Score: 0.4394679008449342\n",
      "Precision: 0.6499702280838099\n",
      "Recall: 0.5134333845502841\n",
      "Micros:\n",
      "F1 Score: 0.5749229932958869\n",
      "Precision: 0.5749229932958869\n",
      "Recall: 0.5749229932958869\n",
      "Detail Report:\n",
      "              precision    recall  f1-score   support\n",
      "\n",
      "           0       0.76      0.73      0.74      2423\n",
      "           1       0.44      0.81      0.57      1736\n",
      "           2       0.75      0.00      0.00      1360\n",
      "\n",
      "    accuracy                           0.57      5519\n",
      "   macro avg       0.65      0.51      0.44      5519\n",
      "weighted avg       0.66      0.57      0.51      5519\n",
      "\n"
     ]
    },
    {
     "data": {
      "image/png": "[encoded data removed]",
      "text/plain": [
       "<Figure size 432x288 with 1 Axes>"
      ]
     },
     "metadata": {
      "needs_background": "light"
     },
     "output_type": "display_data"
    }
   ],
   "source": [
    "from sklearn.neural_network import MLPClassifier\n",
    "model_evaluation(model1=MLPClassifier(random_state=1, max_iter=500))"
   ]
  },
  {
   "cell_type": "code",
   "execution_count": null,
   "metadata": {},
   "outputs": [],
   "source": []
  },
  {
   "cell_type": "code",
   "execution_count": 12,
   "metadata": {},
   "outputs": [],
   "source": [
    "from sklearn.model_selection import GridSearchCV\n",
    "def algorithm_pipeline(X_train_data, X_test_data, y_train_data, y_test_data, \n",
    "                       model, param_grid, cv=10, scoring_fit='neg_mean_squared_error',\n",
    "                       do_probabilities = False):\n",
    "    gs = GridSearchCV(\n",
    "        estimator=model,\n",
    "        param_grid=param_grid, \n",
    "        cv=cv, \n",
    "        n_jobs=-1, \n",
    "        scoring=scoring_fit,\n",
    "        verbose=2\n",
    "    )\n",
    "    fitted_model = gs.fit(X_train_data, y_train_data)\n",
    "    \n",
    "    if do_probabilities:\n",
    "      pred = fitted_model.predict_proba(X_test_data)\n",
    "    else:\n",
    "      pred = fitted_model.predict(X_test_data)\n",
    "    \n",
    "    return fitted_model, pred"
   ]
  },
  {
   "cell_type": "code",
   "execution_count": 27,
   "metadata": {},
   "outputs": [
    {
     "name": "stdout",
     "output_type": "stream",
     "text": [
      "Fitting 5 folds for each of 96 candidates, totalling 480 fits\n"
     ]
    },
    {
     "name": "stderr",
     "output_type": "stream",
     "text": [
      "[Parallel(n_jobs=-1)]: Using backend LokyBackend with 8 concurrent workers.\n",
      "[Parallel(n_jobs=-1)]: Done  25 tasks      | elapsed:   53.1s\n",
      "[Parallel(n_jobs=-1)]: Done 146 tasks      | elapsed: 14.7min\n",
      "[Parallel(n_jobs=-1)]: Done 349 tasks      | elapsed: 36.8min\n",
      "[Parallel(n_jobs=-1)]: Done 480 out of 480 | elapsed: 52.7min finished\n",
      "C:\\Users\\11638\\anaconda3\\lib\\site-packages\\xgboost\\sklearn.py:1224: UserWarning: The use of label encoder in XGBClassifier is deprecated and will be removed in a future release. To remove this warning, do the following: 1) Pass option use_label_encoder=False when constructing XGBClassifier object; and 2) Encode your labels (y) as integers starting with 0, i.e. 0, 1, 2, ..., [num_class - 1].\n",
      "  warnings.warn(label_encoder_deprecation_msg, UserWarning)\n",
      "C:\\Users\\11638\\anaconda3\\lib\\site-packages\\sklearn\\utils\\validation.py:73: DataConversionWarning: A column-vector y was passed when a 1d array was expected. Please change the shape of y to (n_samples, ), for example using ravel().\n",
      "  return f(**kwargs)\n"
     ]
    },
    {
     "name": "stdout",
     "output_type": "stream",
     "text": [
      "[17:46:19] WARNING: C:/Users/Administrator/workspace/xgboost-win64_release_1.5.1/src/learner.cc:1115: Starting in XGBoost 1.3.0, the default evaluation metric used with the objective 'multi:softprob' was changed from 'merror' to 'mlogloss'. Explicitly set eval_metric if you'd like to restore the old behavior.\n",
      "{'learning_rate': 0.1, 'max_depth': 8, 'n_estimators': 60}\n"
     ]
    }
   ],
   "source": [
    "import xgboost as xgb\n",
    "model = xgb.XGBClassifier()\n",
    "param_grid = {\n",
    "    'max_depth': range (2, 10, 1),\n",
    "    'n_estimators': range(60, 220, 40),\n",
    "    'learning_rate': [0.1, 0.01, 0.05]\n",
    "}\n",
    "\n",
    "model, pred = algorithm_pipeline(X_train1, X_valid, y_train1.astype(int), y_valid, model, \n",
    "                                     param_grid, cv=5)\n",
    "\n",
    "\n",
    "print(model.best_params_)"
   ]
  },
  {
   "cell_type": "code",
   "execution_count": null,
   "metadata": {},
   "outputs": [],
   "source": []
  },
  {
   "cell_type": "code",
   "execution_count": 35,
   "metadata": {},
   "outputs": [
    {
     "name": "stderr",
     "output_type": "stream",
     "text": [
      "C:\\Users\\11638\\anaconda3\\lib\\site-packages\\xgboost\\sklearn.py:1224: UserWarning: The use of label encoder in XGBClassifier is deprecated and will be removed in a future release. To remove this warning, do the following: 1) Pass option use_label_encoder=False when constructing XGBClassifier object; and 2) Encode your labels (y) as integers starting with 0, i.e. 0, 1, 2, ..., [num_class - 1].\n",
      "  warnings.warn(label_encoder_deprecation_msg, UserWarning)\n",
      "C:\\Users\\11638\\anaconda3\\lib\\site-packages\\sklearn\\utils\\validation.py:73: DataConversionWarning: A column-vector y was passed when a 1d array was expected. Please change the shape of y to (n_samples, ), for example using ravel().\n",
      "  return f(**kwargs)\n"
     ]
    },
    {
     "name": "stdout",
     "output_type": "stream",
     "text": [
      "[17:58:43] WARNING: C:/Users/Administrator/workspace/xgboost-win64_release_1.5.1/src/learner.cc:1115: Starting in XGBoost 1.3.0, the default evaluation metric used with the objective 'multi:softprob' was changed from 'merror' to 'mlogloss'. Explicitly set eval_metric if you'd like to restore the old behavior.\n",
      "Training Time: 7.656193494796753\n",
      "\n",
      "\u001b[1mValidation Set\n",
      "\u001b[0m\n",
      "Accuracy: 0.68\n",
      "Auc: 0.83\n",
      "Macros:\n",
      "F1 Score: 0.651944408457491\n",
      "Precision: 0.6928122639030327\n",
      "Recall: 0.6439626803181427\n",
      "Micros:\n",
      "F1 Score: 0.6833098449768472\n",
      "Precision: 0.6833098449768472\n",
      "Recall: 0.6833098449768472\n",
      "Detail Report:\n",
      "              precision    recall  f1-score   support\n",
      "\n",
      "           0       0.73      0.85      0.79      4361\n",
      "           1       0.58      0.63      0.60      3124\n",
      "           2       0.77      0.45      0.56      2449\n",
      "\n",
      "    accuracy                           0.68      9934\n",
      "   macro avg       0.69      0.64      0.65      9934\n",
      "weighted avg       0.69      0.68      0.67      9934\n",
      "\n",
      "\u001b[1mTest Set\n",
      "\u001b[0m\n",
      "Accuracy: 0.68\n",
      "Auc: 0.83\n",
      "Macros:\n",
      "F1 Score: 0.6491514963130021\n",
      "Precision: 0.6938700176248984\n",
      "Recall: 0.6408749132632697\n",
      "Micros:\n",
      "F1 Score: 0.6803768798695415\n",
      "Precision: 0.6803768798695415\n",
      "Recall: 0.6803768798695415\n",
      "Detail Report:\n",
      "              precision    recall  f1-score   support\n",
      "\n",
      "           0       0.72      0.85      0.78      2423\n",
      "           1       0.57      0.64      0.60      1736\n",
      "           2       0.78      0.44      0.56      1360\n",
      "\n",
      "    accuracy                           0.68      5519\n",
      "   macro avg       0.69      0.64      0.65      5519\n",
      "weighted avg       0.69      0.68      0.67      5519\n",
      "\n"
     ]
    }
   ],
   "source": [
    "    t0 = time()\n",
    "    model1 = xgb.XGBClassifier(learning_rate = 0.1, max_depth = 8, n_estimators = 60)\n",
    "   # X_train1, X_valid, y_train1.astype(int), y_valid\n",
    "    model1.fit(X_train1, y_train1.astype(int))\n",
    "    ## test\n",
    "    predicted = model1.predict(X_valid)\n",
    "    predicted_prob = model1.predict_proba(X_valid)\n",
    "    print('Training Time:', time() - t0)\n",
    "    print('')\n",
    "    accuracy = metrics.accuracy_score(y_valid, predicted)\n",
    "    auc = metrics.roc_auc_score(y_valid, predicted_prob, \n",
    "                                multi_class=\"ovr\")\n",
    "    print('\\033[1m' + 'Validation Set')\n",
    "    print('\\033[0m')\n",
    "    print(\"Accuracy:\",  round(accuracy,2))\n",
    "    print(\"Auc:\", round(auc,2))\n",
    "    print('Macros:')\n",
    "    print(\"F1 Score:\", f1_score(y_valid, predicted, average='macro'))\n",
    "    print(\"Precision:\", precision_score(y_valid, predicted, average='macro'))\n",
    "    print(\"Recall:\", recall_score(y_valid, predicted, average='macro'))\n",
    "    print('Micros:')\n",
    "    print(\"F1 Score:\", f1_score(y_valid, predicted, average='micro'))\n",
    "    print(\"Precision:\", precision_score(y_valid, predicted, average='micro'))\n",
    "    print(\"Recall:\", recall_score(y_valid, predicted, average='micro'))\n",
    "\n",
    "\n",
    "    print(\"Detail Report:\")\n",
    "    print(metrics.classification_report(y_valid, predicted))\n",
    "\n",
    "    #X_train, X_test,y_train,y_test\n",
    "    predicted = model1.predict(X_test)\n",
    "    predicted_prob = model1.predict_proba(X_test)\n",
    "    accuracy = metrics.accuracy_score(y_test, predicted)\n",
    "    auc = metrics.roc_auc_score(y_test, predicted_prob, \n",
    "                                multi_class=\"ovr\")\n",
    "    print('\\033[1m' + 'Test Set')\n",
    "    print('\\033[0m')\n",
    "    print(\"Accuracy:\",  round(accuracy,2))\n",
    "    print(\"Auc:\", round(auc,2))\n",
    "    print('Macros:')\n",
    "    print(\"F1 Score:\", f1_score(y_test, predicted, average='macro'))\n",
    "    print(\"Precision:\", precision_score(y_test, predicted, average='macro'))\n",
    "    print(\"Recall:\", recall_score(y_test, predicted, average='macro'))\n",
    "    print('Micros:')\n",
    "    print(\"F1 Score:\", f1_score(y_test, predicted, average='micro'))\n",
    "    print(\"Precision:\", precision_score(y_test, predicted, average='micro'))\n",
    "    print(\"Recall:\", recall_score(y_test, predicted, average='micro'))\n",
    "\n",
    "    print(\"Detail Report:\")\n",
    "    print(metrics.classification_report(y_test, predicted))\n",
    "    "
   ]
  },
  {
   "cell_type": "code",
   "execution_count": null,
   "metadata": {},
   "outputs": [],
   "source": []
  }
 ],
 "metadata": {
  "kernelspec": {
   "display_name": "Python 3",
   "language": "python",
   "name": "python3"
  },
  "language_info": {
   "codemirror_mode": {
    "name": "ipython",
    "version": 3
   },
   "file_extension": ".py",
   "mimetype": "text/x-python",
   "name": "python",
   "nbconvert_exporter": "python",
   "pygments_lexer": "ipython3",
   "version": "3.8.3"
  }
 },
 "nbformat": 4,
 "nbformat_minor": 4
}

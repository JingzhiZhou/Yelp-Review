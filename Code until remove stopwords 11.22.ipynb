{
 "cells": [
  {
   "cell_type": "code",
   "execution_count": 81,
   "metadata": {},
   "outputs": [],
   "source": [
    "import ijson\n",
    "import pandas as pd\n",
    "import numpy as np\n",
    "import re\n",
    "import string\n",
    "import liwc\n",
    "from langdetect import detect\n",
    "import nltk\n",
    "from stop_words import get_stop_words\n",
    "from nltk.corpus import stopwords\n",
    "import tqdm"
   ]
  },
  {
   "cell_type": "code",
   "execution_count": 66,
   "metadata": {},
   "outputs": [
    {
     "name": "stdout",
     "output_type": "stream",
     "text": [
      "Collecting stop_words\n",
      "  Downloading stop-words-2018.7.23.tar.gz (31 kB)\n",
      "Building wheels for collected packages: stop-words\n",
      "  Building wheel for stop-words (setup.py): started\n",
      "  Building wheel for stop-words (setup.py): finished with status 'done'\n",
      "  Created wheel for stop-words: filename=stop_words-2018.7.23-py3-none-any.whl size=32920 sha256=d945dff944dae69fc35d8f9b496ae2fbc94011704d988bcfe572ea926e4121bf\n",
      "  Stored in directory: c:\\users\\fannie\\appdata\\local\\pip\\cache\\wheels\\eb\\03\\0d\\3bd31c983789aeb0b4d5e2ca48590288d9db1586cf5f225062\n",
      "Successfully built stop-words\n",
      "Installing collected packages: stop-words\n",
      "Successfully installed stop-words-2018.7.23\n",
      "Note: you may need to restart the kernel to use updated packages.\n"
     ]
    }
   ],
   "source": [
    "pip install stop_words"
   ]
  },
  {
   "cell_type": "code",
   "execution_count": 65,
   "metadata": {},
   "outputs": [
    {
     "name": "stdout",
     "output_type": "stream",
     "text": [
      "Collecting textcleaner\n",
      "  Downloading textcleaner-0.4.26.tar.gz (4.9 kB)\n",
      "Requirement already satisfied: nltk in c:\\users\\fannie\\anaconda3\\lib\\site-packages (from textcleaner) (3.5)\n",
      "Requirement already satisfied: regex in c:\\users\\fannie\\anaconda3\\lib\\site-packages (from textcleaner) (2020.10.15)\n",
      "Requirement already satisfied: click in c:\\users\\fannie\\anaconda3\\lib\\site-packages (from nltk->textcleaner) (7.1.2)\n",
      "Requirement already satisfied: joblib in c:\\users\\fannie\\anaconda3\\lib\\site-packages (from nltk->textcleaner) (0.17.0)\n",
      "Requirement already satisfied: tqdm in c:\\users\\fannie\\anaconda3\\lib\\site-packages (from nltk->textcleaner) (4.50.2)\n",
      "Building wheels for collected packages: textcleaner\n",
      "  Building wheel for textcleaner (setup.py): started\n",
      "  Building wheel for textcleaner (setup.py): finished with status 'done'\n",
      "  Created wheel for textcleaner: filename=textcleaner-0.4.26-py3-none-any.whl size=4741 sha256=f1b245595eb81af2e95f501b417d6fe60d8ee5896af733d20c35dc2b5945530a\n",
      "  Stored in directory: c:\\users\\fannie\\appdata\\local\\pip\\cache\\wheels\\42\\f4\\c4\\9284af2d3be0674e9637abca7cfb1d3ee982ab5208075fb833\n",
      "Successfully built textcleaner\n",
      "Installing collected packages: textcleaner\n",
      "Successfully installed textcleaner-0.4.26\n",
      "Note: you may need to restart the kernel to use updated packages.\n"
     ]
    }
   ],
   "source": [
    "pip install textcleaner"
   ]
  },
  {
   "cell_type": "code",
   "execution_count": 5,
   "metadata": {},
   "outputs": [
    {
     "name": "stdout",
     "output_type": "stream",
     "text": [
      "Processing c:\\users\\fannie\\appdata\\local\\pip\\cache\\wheels\\13\\c7\\b0\\79f66658626032e78fc1a83103690ef6797d551cb22e56e734\\langdetect-1.0.9-py3-none-any.whl\n",
      "Requirement already satisfied: six in c:\\users\\fannie\\anaconda3\\lib\\site-packages (from langdetect) (1.12.0)\n",
      "Installing collected packages: langdetect\n",
      "Successfully installed langdetect-1.0.9\n",
      "Note: you may need to restart the kernel to use updated packages.\n"
     ]
    }
   ],
   "source": [
    "pip install langdetect"
   ]
  },
  {
   "cell_type": "code",
   "execution_count": 49,
   "metadata": {},
   "outputs": [],
   "source": [
    "review_sample=pd.read_csv('review_sample.csv')\n",
    "review_sample1=review_sample"
   ]
  },
  {
   "cell_type": "code",
   "execution_count": 50,
   "metadata": {},
   "outputs": [],
   "source": [
    "language = []\n",
    "for i in list(range(len(review_sample1))):   \n",
    "    m = detect(review_sample1.iat[i,8])\n",
    "    language.append(m)"
   ]
  },
  {
   "cell_type": "code",
   "execution_count": 51,
   "metadata": {},
   "outputs": [
    {
     "data": {
      "text/html": [
       "<div>\n",
       "<style scoped>\n",
       "    .dataframe tbody tr th:only-of-type {\n",
       "        vertical-align: middle;\n",
       "    }\n",
       "\n",
       "    .dataframe tbody tr th {\n",
       "        vertical-align: top;\n",
       "    }\n",
       "\n",
       "    .dataframe thead th {\n",
       "        text-align: right;\n",
       "    }\n",
       "</style>\n",
       "<table border=\"1\" class=\"dataframe\">\n",
       "  <thead>\n",
       "    <tr style=\"text-align: right;\">\n",
       "      <th></th>\n",
       "      <th>Unnamed: 0</th>\n",
       "      <th>review_id</th>\n",
       "      <th>user_id</th>\n",
       "      <th>business_id</th>\n",
       "      <th>stars</th>\n",
       "      <th>useful</th>\n",
       "      <th>funny</th>\n",
       "      <th>cool</th>\n",
       "      <th>text</th>\n",
       "      <th>date</th>\n",
       "      <th>useful_level</th>\n",
       "      <th>language</th>\n",
       "      <th>textcopy1</th>\n",
       "      <th>textcopy2</th>\n",
       "    </tr>\n",
       "  </thead>\n",
       "  <tbody>\n",
       "    <tr>\n",
       "      <th>0</th>\n",
       "      <td>38869</td>\n",
       "      <td>MjnHa2qe5_BLKOv2Yk7dxQ</td>\n",
       "      <td>dSVqrbqRoH4_a0CV4TqPzw</td>\n",
       "      <td>zH5SKmxO4-YalZnMMQRPtA</td>\n",
       "      <td>1.0</td>\n",
       "      <td>14</td>\n",
       "      <td>6</td>\n",
       "      <td>1</td>\n",
       "      <td>DO NOT SHOP HERE!!!!!!!!!!!!!!!!!!!!  BE FOREW...</td>\n",
       "      <td>2009-10-21 17:14:39</td>\n",
       "      <td>4.0</td>\n",
       "      <td>en</td>\n",
       "      <td>DO NOT SHOP HERE!!!!!!!!!!!!!!!!!!!!  BE FOREW...</td>\n",
       "      <td>DO NOT SHOP HERE!!!!!!!!!!!!!!!!!!!!  BE FOREW...</td>\n",
       "    </tr>\n",
       "    <tr>\n",
       "      <th>1</th>\n",
       "      <td>41643</td>\n",
       "      <td>4iKp1TPdLGh6Jcq-wa8DrA</td>\n",
       "      <td>GmHLPpVYrC3ibFwSrhONPw</td>\n",
       "      <td>U5fyW8R622QWtsFrbgwg8Q</td>\n",
       "      <td>5.0</td>\n",
       "      <td>13</td>\n",
       "      <td>2</td>\n",
       "      <td>0</td>\n",
       "      <td>I laughed when my wife told me the double-digi...</td>\n",
       "      <td>2013-01-03 22:19:44</td>\n",
       "      <td>4.0</td>\n",
       "      <td>en</td>\n",
       "      <td>I laughed when my wife told me the double-digi...</td>\n",
       "      <td>I laughed when my wife told me the double-digi...</td>\n",
       "    </tr>\n",
       "    <tr>\n",
       "      <th>2</th>\n",
       "      <td>12479</td>\n",
       "      <td>IcSchN-nE9mWCTM5oeBK8g</td>\n",
       "      <td>bo-T1AOS1mR-Xcr-PBBIiA</td>\n",
       "      <td>upY1H63uocaOJm_cBD81ww</td>\n",
       "      <td>2.0</td>\n",
       "      <td>13</td>\n",
       "      <td>1</td>\n",
       "      <td>1</td>\n",
       "      <td>My partner and I were tenants at this property...</td>\n",
       "      <td>2016-03-17 23:14:23</td>\n",
       "      <td>4.0</td>\n",
       "      <td>en</td>\n",
       "      <td>My partner and I were tenants at this property...</td>\n",
       "      <td>My partner and I were tenants at this property...</td>\n",
       "    </tr>\n",
       "  </tbody>\n",
       "</table>\n",
       "</div>"
      ],
      "text/plain": [
       "   Unnamed: 0               review_id                 user_id  \\\n",
       "0       38869  MjnHa2qe5_BLKOv2Yk7dxQ  dSVqrbqRoH4_a0CV4TqPzw   \n",
       "1       41643  4iKp1TPdLGh6Jcq-wa8DrA  GmHLPpVYrC3ibFwSrhONPw   \n",
       "2       12479  IcSchN-nE9mWCTM5oeBK8g  bo-T1AOS1mR-Xcr-PBBIiA   \n",
       "\n",
       "              business_id  stars  useful  funny  cool  \\\n",
       "0  zH5SKmxO4-YalZnMMQRPtA    1.0      14      6     1   \n",
       "1  U5fyW8R622QWtsFrbgwg8Q    5.0      13      2     0   \n",
       "2  upY1H63uocaOJm_cBD81ww    2.0      13      1     1   \n",
       "\n",
       "                                                text                 date  \\\n",
       "0  DO NOT SHOP HERE!!!!!!!!!!!!!!!!!!!!  BE FOREW...  2009-10-21 17:14:39   \n",
       "1  I laughed when my wife told me the double-digi...  2013-01-03 22:19:44   \n",
       "2  My partner and I were tenants at this property...  2016-03-17 23:14:23   \n",
       "\n",
       "   useful_level language                                          textcopy1  \\\n",
       "0           4.0       en  DO NOT SHOP HERE!!!!!!!!!!!!!!!!!!!!  BE FOREW...   \n",
       "1           4.0       en  I laughed when my wife told me the double-digi...   \n",
       "2           4.0       en  My partner and I were tenants at this property...   \n",
       "\n",
       "                                           textcopy2  \n",
       "0  DO NOT SHOP HERE!!!!!!!!!!!!!!!!!!!!  BE FOREW...  \n",
       "1  I laughed when my wife told me the double-digi...  \n",
       "2  My partner and I were tenants at this property...  "
      ]
     },
     "execution_count": 51,
     "metadata": {},
     "output_type": "execute_result"
    }
   ],
   "source": [
    "review_sample1['language']=language\n",
    "review_sample1['textcopy1']=review_sample1['text']\n",
    "review_sample1['textcopy2']=review_sample1['text']\n",
    "review_sample1.head(3)"
   ]
  },
  {
   "cell_type": "code",
   "execution_count": null,
   "metadata": {},
   "outputs": [],
   "source": [
    "review_sample1 = review_sample1[review_sample1['language'] == 'en']# 保留英文"
   ]
  },
  {
   "cell_type": "code",
   "execution_count": 52,
   "metadata": {},
   "outputs": [],
   "source": [
    "for j in list(range(len(review_sample1))):  # 去掉分行\n",
    "    review_sample1.iat[j,8].replace(\"\\n\",\" \")"
   ]
  },
  {
   "cell_type": "code",
   "execution_count": 53,
   "metadata": {},
   "outputs": [],
   "source": [
    "for i in list(range(len(review_sample1))): \n",
    "    review_sample1.iat[i,12]=re.sub(r'[^\\w\\s]','', review_sample1.iat[i,13])#去掉符号和bullet point\n",
    "    review_sample1.iat[i,8]=re.sub(r'\\n[0-9]?(spoilers)?', '', review_sample1.iat[i,12])"
   ]
  },
  {
   "cell_type": "code",
   "execution_count": 54,
   "metadata": {},
   "outputs": [
    {
     "data": {
      "text/plain": [
       "'I am not a customer here but as a healthcare worker I come here frequently as part of my jobI can say that this is one of the worst medical centers in the city Their staff is overworked and it shows in how they interact with allied healthcare personnel and their patients Walking into the ER feels more like walking into a room of juvenile high school students gossiping about one another and their patients The staff is extremely rude and I can say both from first hand experience and from discussing with other health care personnel that most of the staff cares more about getting patients out of the building as quickly as possible than educating or helping people This place is a product of profits over patients They only want your money and want to make you a repeat customer They run on a bare minimum staff most of whom are admittedly underpaid which may explain why they are all so unhappy and are not able to meet the needs of Dekalb County Several times a week the hospital is filled to capacity and they are unable to accept any more patients Do yourself and the staff at DMC a favor Go somewhere else'"
      ]
     },
     "execution_count": 54,
     "metadata": {},
     "output_type": "execute_result"
    }
   ],
   "source": [
    "review_sample1.iat[6,8]"
   ]
  },
  {
   "cell_type": "code",
   "execution_count": 55,
   "metadata": {},
   "outputs": [],
   "source": [
    "review_sample1['textcopy3']=review_sample1['text']"
   ]
  },
  {
   "cell_type": "code",
   "execution_count": 56,
   "metadata": {},
   "outputs": [
    {
     "data": {
      "text/html": [
       "<div>\n",
       "<style scoped>\n",
       "    .dataframe tbody tr th:only-of-type {\n",
       "        vertical-align: middle;\n",
       "    }\n",
       "\n",
       "    .dataframe tbody tr th {\n",
       "        vertical-align: top;\n",
       "    }\n",
       "\n",
       "    .dataframe thead th {\n",
       "        text-align: right;\n",
       "    }\n",
       "</style>\n",
       "<table border=\"1\" class=\"dataframe\">\n",
       "  <thead>\n",
       "    <tr style=\"text-align: right;\">\n",
       "      <th></th>\n",
       "      <th>Unnamed: 0</th>\n",
       "      <th>review_id</th>\n",
       "      <th>user_id</th>\n",
       "      <th>business_id</th>\n",
       "      <th>stars</th>\n",
       "      <th>useful</th>\n",
       "      <th>funny</th>\n",
       "      <th>cool</th>\n",
       "      <th>text</th>\n",
       "      <th>date</th>\n",
       "      <th>useful_level</th>\n",
       "      <th>language</th>\n",
       "      <th>textcopy1</th>\n",
       "      <th>textcopy2</th>\n",
       "      <th>textcopy3</th>\n",
       "    </tr>\n",
       "  </thead>\n",
       "  <tbody>\n",
       "    <tr>\n",
       "      <th>0</th>\n",
       "      <td>38869</td>\n",
       "      <td>MjnHa2qe5_BLKOv2Yk7dxQ</td>\n",
       "      <td>dSVqrbqRoH4_a0CV4TqPzw</td>\n",
       "      <td>zH5SKmxO4-YalZnMMQRPtA</td>\n",
       "      <td>1.0</td>\n",
       "      <td>14</td>\n",
       "      <td>6</td>\n",
       "      <td>1</td>\n",
       "      <td>DO NOT SHOP HERE  BE FOREWARNEDI wishe that I ...</td>\n",
       "      <td>2009-10-21 17:14:39</td>\n",
       "      <td>4.0</td>\n",
       "      <td>en</td>\n",
       "      <td>DO NOT SHOP HERE  BE FOREWARNED\\n\\nI wishe tha...</td>\n",
       "      <td>DO NOT SHOP HERE!!!!!!!!!!!!!!!!!!!!  BE FOREW...</td>\n",
       "      <td>DO NOT SHOP HERE  BE FOREWARNEDI wishe that I ...</td>\n",
       "    </tr>\n",
       "    <tr>\n",
       "      <th>1</th>\n",
       "      <td>41643</td>\n",
       "      <td>4iKp1TPdLGh6Jcq-wa8DrA</td>\n",
       "      <td>GmHLPpVYrC3ibFwSrhONPw</td>\n",
       "      <td>U5fyW8R622QWtsFrbgwg8Q</td>\n",
       "      <td>5.0</td>\n",
       "      <td>13</td>\n",
       "      <td>2</td>\n",
       "      <td>0</td>\n",
       "      <td>I laughed when my wife told me the doubledigit...</td>\n",
       "      <td>2013-01-03 22:19:44</td>\n",
       "      <td>4.0</td>\n",
       "      <td>en</td>\n",
       "      <td>I laughed when my wife told me the doubledigit...</td>\n",
       "      <td>I laughed when my wife told me the double-digi...</td>\n",
       "      <td>I laughed when my wife told me the doubledigit...</td>\n",
       "    </tr>\n",
       "    <tr>\n",
       "      <th>2</th>\n",
       "      <td>12479</td>\n",
       "      <td>IcSchN-nE9mWCTM5oeBK8g</td>\n",
       "      <td>bo-T1AOS1mR-Xcr-PBBIiA</td>\n",
       "      <td>upY1H63uocaOJm_cBD81ww</td>\n",
       "      <td>2.0</td>\n",
       "      <td>13</td>\n",
       "      <td>1</td>\n",
       "      <td>1</td>\n",
       "      <td>My partner and I were tenants at this property...</td>\n",
       "      <td>2016-03-17 23:14:23</td>\n",
       "      <td>4.0</td>\n",
       "      <td>en</td>\n",
       "      <td>My partner and I were tenants at this property...</td>\n",
       "      <td>My partner and I were tenants at this property...</td>\n",
       "      <td>My partner and I were tenants at this property...</td>\n",
       "    </tr>\n",
       "  </tbody>\n",
       "</table>\n",
       "</div>"
      ],
      "text/plain": [
       "   Unnamed: 0               review_id                 user_id  \\\n",
       "0       38869  MjnHa2qe5_BLKOv2Yk7dxQ  dSVqrbqRoH4_a0CV4TqPzw   \n",
       "1       41643  4iKp1TPdLGh6Jcq-wa8DrA  GmHLPpVYrC3ibFwSrhONPw   \n",
       "2       12479  IcSchN-nE9mWCTM5oeBK8g  bo-T1AOS1mR-Xcr-PBBIiA   \n",
       "\n",
       "              business_id  stars  useful  funny  cool  \\\n",
       "0  zH5SKmxO4-YalZnMMQRPtA    1.0      14      6     1   \n",
       "1  U5fyW8R622QWtsFrbgwg8Q    5.0      13      2     0   \n",
       "2  upY1H63uocaOJm_cBD81ww    2.0      13      1     1   \n",
       "\n",
       "                                                text                 date  \\\n",
       "0  DO NOT SHOP HERE  BE FOREWARNEDI wishe that I ...  2009-10-21 17:14:39   \n",
       "1  I laughed when my wife told me the doubledigit...  2013-01-03 22:19:44   \n",
       "2  My partner and I were tenants at this property...  2016-03-17 23:14:23   \n",
       "\n",
       "   useful_level language                                          textcopy1  \\\n",
       "0           4.0       en  DO NOT SHOP HERE  BE FOREWARNED\\n\\nI wishe tha...   \n",
       "1           4.0       en  I laughed when my wife told me the doubledigit...   \n",
       "2           4.0       en  My partner and I were tenants at this property...   \n",
       "\n",
       "                                           textcopy2  \\\n",
       "0  DO NOT SHOP HERE!!!!!!!!!!!!!!!!!!!!  BE FOREW...   \n",
       "1  I laughed when my wife told me the double-digi...   \n",
       "2  My partner and I were tenants at this property...   \n",
       "\n",
       "                                           textcopy3  \n",
       "0  DO NOT SHOP HERE  BE FOREWARNEDI wishe that I ...  \n",
       "1  I laughed when my wife told me the doubledigit...  \n",
       "2  My partner and I were tenants at this property...  "
      ]
     },
     "execution_count": 56,
     "metadata": {},
     "output_type": "execute_result"
    }
   ],
   "source": [
    "review_sample1.head(3)"
   ]
  },
  {
   "cell_type": "code",
   "execution_count": 57,
   "metadata": {},
   "outputs": [],
   "source": [
    "# lower case\n",
    "for i in list(range(len(review_sample1))): \n",
    "    review_sample1.iat[i,8]=review_sample1.iat[i,14].lower()"
   ]
  },
  {
   "cell_type": "code",
   "execution_count": 58,
   "metadata": {},
   "outputs": [
    {
     "data": {
      "text/plain": [
       "'i am not a customer here but as a healthcare worker i come here frequently as part of my jobi can say that this is one of the worst medical centers in the city their staff is overworked and it shows in how they interact with allied healthcare personnel and their patients walking into the er feels more like walking into a room of juvenile high school students gossiping about one another and their patients the staff is extremely rude and i can say both from first hand experience and from discussing with other health care personnel that most of the staff cares more about getting patients out of the building as quickly as possible than educating or helping people this place is a product of profits over patients they only want your money and want to make you a repeat customer they run on a bare minimum staff most of whom are admittedly underpaid which may explain why they are all so unhappy and are not able to meet the needs of dekalb county several times a week the hospital is filled to capacity and they are unable to accept any more patients do yourself and the staff at dmc a favor go somewhere else'"
      ]
     },
     "execution_count": 58,
     "metadata": {},
     "output_type": "execute_result"
    }
   ],
   "source": [
    "review_sample1.iat[6,8]"
   ]
  },
  {
   "cell_type": "code",
   "execution_count": 59,
   "metadata": {},
   "outputs": [
    {
     "name": "stderr",
     "output_type": "stream",
     "text": [
      "[nltk_data] Downloading package stopwords to\n",
      "[nltk_data]     C:\\Users\\Fannie\\AppData\\Roaming\\nltk_data...\n",
      "[nltk_data]   Package stopwords is already up-to-date!\n"
     ]
    },
    {
     "data": {
      "text/plain": [
       "True"
      ]
     },
     "execution_count": 59,
     "metadata": {},
     "output_type": "execute_result"
    }
   ],
   "source": [
    "nltk.download('stopwords')"
   ]
  },
  {
   "cell_type": "code",
   "execution_count": 60,
   "metadata": {},
   "outputs": [],
   "source": [
    "from nltk.corpus import stopwords\n",
    "stop_words = stopwords.words('english')"
   ]
  },
  {
   "cell_type": "code",
   "execution_count": 61,
   "metadata": {},
   "outputs": [],
   "source": [
    "review_sample1['textcopy4']=review_sample1['text']"
   ]
  },
  {
   "cell_type": "code",
   "execution_count": 62,
   "metadata": {},
   "outputs": [],
   "source": [
    "for i in list(range(len(review_sample1))): \n",
    "    review_sample1.iat[i,8]= review_sample1.iat[i,15].split()"
   ]
  },
  {
   "cell_type": "code",
   "execution_count": 68,
   "metadata": {},
   "outputs": [],
   "source": [
    "review_sample1['textcopy5']=review_sample1['text']"
   ]
  },
  {
   "cell_type": "code",
   "execution_count": 71,
   "metadata": {},
   "outputs": [
    {
     "data": {
      "text/plain": [
       "['do',\n",
       " 'not',\n",
       " 'conduct',\n",
       " 'any',\n",
       " 'sort',\n",
       " 'of',\n",
       " 'business',\n",
       " 'with',\n",
       " 'this',\n",
       " 'company',\n",
       " 'they',\n",
       " 'overcharged',\n",
       " 'me',\n",
       " 'for',\n",
       " 'a',\n",
       " 'system',\n",
       " 'that',\n",
       " 'wasnt',\n",
       " 'even',\n",
       " 'installed',\n",
       " 'properly',\n",
       " 'when',\n",
       " 'i',\n",
       " 'asked',\n",
       " 'to',\n",
       " 'remove',\n",
       " 'additional',\n",
       " 'components',\n",
       " 'that',\n",
       " 'werent',\n",
       " 'even',\n",
       " 'installed',\n",
       " 'properly',\n",
       " 'they',\n",
       " 'refused',\n",
       " 'to',\n",
       " 'take',\n",
       " 'these',\n",
       " 'items',\n",
       " 'out',\n",
       " 'shoddy',\n",
       " 'workmanship',\n",
       " 'way',\n",
       " 'overpriced',\n",
       " 'and',\n",
       " 'extremely',\n",
       " 'poor',\n",
       " 'customer',\n",
       " 'service']"
      ]
     },
     "execution_count": 71,
     "metadata": {},
     "output_type": "execute_result"
    }
   ],
   "source": [
    "review_sample1.iat[5,16]"
   ]
  },
  {
   "cell_type": "code",
   "execution_count": 72,
   "metadata": {},
   "outputs": [],
   "source": [
    "stop_words = list(get_stop_words('en'))         #About 900 stopwords\n",
    "nltk_words = list(stopwords.words('english')) #About 150 stopwords\n",
    "stop_words.extend(nltk_words)\n",
    "\n",
    "for i in list(range(len(review_sample1))): \n",
    "    review_sample1.iat[i,8]= [w for w in review_sample1.iat[i,16] if not w in stop_words]\n",
    "\n",
    "#output = [w for w in review_sample1.iat[i,16] if not w in stop_words]"
   ]
  },
  {
   "cell_type": "code",
   "execution_count": 73,
   "metadata": {},
   "outputs": [],
   "source": [
    "for i in list(range(len(review_sample1))): \n",
    "    review_sample1.iat[i,8]= [w for w in review_sample1.iat[i,16] if not w in stop_words]"
   ]
  },
  {
   "cell_type": "code",
   "execution_count": 77,
   "metadata": {},
   "outputs": [
    {
     "data": {
      "text/plain": [
       "['conduct',\n",
       " 'sort',\n",
       " 'business',\n",
       " 'company',\n",
       " 'overcharged',\n",
       " 'system',\n",
       " 'wasnt',\n",
       " 'even',\n",
       " 'installed',\n",
       " 'properly',\n",
       " 'asked',\n",
       " 'remove',\n",
       " 'additional',\n",
       " 'components',\n",
       " 'werent',\n",
       " 'even',\n",
       " 'installed',\n",
       " 'properly',\n",
       " 'refused',\n",
       " 'take',\n",
       " 'items',\n",
       " 'shoddy',\n",
       " 'workmanship',\n",
       " 'way',\n",
       " 'overpriced',\n",
       " 'extremely',\n",
       " 'poor',\n",
       " 'customer',\n",
       " 'service']"
      ]
     },
     "execution_count": 77,
     "metadata": {},
     "output_type": "execute_result"
    }
   ],
   "source": [
    "review_sample1.iat[5,8]"
   ]
  },
  {
   "cell_type": "code",
   "execution_count": 79,
   "metadata": {},
   "outputs": [
    {
     "data": {
      "text/plain": [
       "29"
      ]
     },
     "execution_count": 79,
     "metadata": {},
     "output_type": "execute_result"
    }
   ],
   "source": [
    "len(review_sample1.iat[5,8])"
   ]
  },
  {
   "cell_type": "code",
   "execution_count": 78,
   "metadata": {},
   "outputs": [],
   "source": [
    "review_sample1['review_length']=\"\""
   ]
  },
  {
   "cell_type": "code",
   "execution_count": 80,
   "metadata": {},
   "outputs": [],
   "source": [
    "for i in list(range(len(review_sample1))): \n",
    "    review_sample1.at[i,'review_length']= len(review_sample1.iat[i,8])"
   ]
  },
  {
   "cell_type": "code",
   "execution_count": 84,
   "metadata": {},
   "outputs": [],
   "source": [
    "review_sample1.to_csv('review_sample_1_stopwordsremoved.csv', sep=',', index=False)"
   ]
  },
  {
   "cell_type": "code",
   "execution_count": null,
   "metadata": {},
   "outputs": [],
   "source": []
  }
 ],
 "metadata": {
  "kernelspec": {
   "display_name": "Python 3",
   "language": "python",
   "name": "python3"
  },
  "language_info": {
   "codemirror_mode": {
    "name": "ipython",
    "version": 3
   },
   "file_extension": ".py",
   "mimetype": "text/x-python",
   "name": "python",
   "nbconvert_exporter": "python",
   "pygments_lexer": "ipython3",
   "version": "3.8.5"
  }
 },
 "nbformat": 4,
 "nbformat_minor": 4
}

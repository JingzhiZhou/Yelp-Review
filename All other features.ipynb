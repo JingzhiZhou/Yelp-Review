{
 "cells": [
  {
   "cell_type": "code",
   "execution_count": 1,
   "metadata": {},
   "outputs": [],
   "source": [
    "import pandas as pd\n",
    "import numpy as np\n",
    "## for plotting\n",
    "import matplotlib.pyplot as plt\n",
    "import seaborn as sns\n",
    "## for processing\n",
    "import re\n",
    "import nltk\n",
    "## for bag-of-words\n",
    "from sklearn import feature_extraction, model_selection, naive_bayes, pipeline, manifold, preprocessing,feature_selection\n",
    "## for explainer\n",
    "from lime import lime_text\n",
    "## for word embedding\n",
    "import gensim\n",
    "import gensim.downloader as gensim_api\n",
    "## for deep learning\n",
    "from tensorflow.keras import models, layers, preprocessing as kprocessing\n",
    "from tensorflow.keras import backend as K\n",
    "## for bert language model\n",
    "import transformers"
   ]
  },
  {
   "cell_type": "code",
   "execution_count": 2,
   "metadata": {},
   "outputs": [],
   "source": [
    "from sklearn import feature_selection\n",
    "from sklearn import metrics\n",
    "from sklearn.preprocessing import LabelEncoder"
   ]
  },
  {
   "cell_type": "code",
   "execution_count": 3,
   "metadata": {},
   "outputs": [],
   "source": [
    "review1=pd.read_csv('Review_project_sentiment_wUser.csv')"
   ]
  },
  {
   "cell_type": "code",
   "execution_count": 4,
   "metadata": {},
   "outputs": [
    {
     "data": {
      "text/html": [
       "<div>\n",
       "<style scoped>\n",
       "    .dataframe tbody tr th:only-of-type {\n",
       "        vertical-align: middle;\n",
       "    }\n",
       "\n",
       "    .dataframe tbody tr th {\n",
       "        vertical-align: top;\n",
       "    }\n",
       "\n",
       "    .dataframe thead th {\n",
       "        text-align: right;\n",
       "    }\n",
       "</style>\n",
       "<table border=\"1\" class=\"dataframe\">\n",
       "  <thead>\n",
       "    <tr style=\"text-align: right;\">\n",
       "      <th></th>\n",
       "      <th>Unnamed: 0</th>\n",
       "      <th>review_id</th>\n",
       "      <th>user_id</th>\n",
       "      <th>business_id</th>\n",
       "      <th>stars</th>\n",
       "      <th>useful</th>\n",
       "      <th>funny</th>\n",
       "      <th>cool</th>\n",
       "      <th>text</th>\n",
       "      <th>date</th>\n",
       "      <th>...</th>\n",
       "      <th>language</th>\n",
       "      <th>text_clean</th>\n",
       "      <th>read_ease</th>\n",
       "      <th>polarity</th>\n",
       "      <th>subjectivity</th>\n",
       "      <th>Adj_ratio</th>\n",
       "      <th>review_count</th>\n",
       "      <th>NumElite</th>\n",
       "      <th>average_stars</th>\n",
       "      <th>NumofWords</th>\n",
       "    </tr>\n",
       "  </thead>\n",
       "  <tbody>\n",
       "    <tr>\n",
       "      <th>0</th>\n",
       "      <td>1073206</td>\n",
       "      <td>JdReKgETiiJEDmshrO4TLw</td>\n",
       "      <td>pyarmAnR-i-qookQamqRTA</td>\n",
       "      <td>V2GOReqPvr8qpCC7sWfoTw</td>\n",
       "      <td>1.0</td>\n",
       "      <td>17</td>\n",
       "      <td>1</td>\n",
       "      <td>0</td>\n",
       "      <td>Just to let this car company that people DO re...</td>\n",
       "      <td>2014-03-06 12:38:52</td>\n",
       "      <td>...</td>\n",
       "      <td>en</td>\n",
       "      <td>let car company people read yelp check review ...</td>\n",
       "      <td>85.49</td>\n",
       "      <td>-0.500000</td>\n",
       "      <td>1.000000</td>\n",
       "      <td>0.120000</td>\n",
       "      <td>9</td>\n",
       "      <td>0</td>\n",
       "      <td>3.00</td>\n",
       "      <td>56</td>\n",
       "    </tr>\n",
       "    <tr>\n",
       "      <th>1</th>\n",
       "      <td>6229216</td>\n",
       "      <td>zL4se_Ixdcl8kvTOHCS3rg</td>\n",
       "      <td>s16-BUo-orUsELvMu5ocKg</td>\n",
       "      <td>VH0Ib9S3E-dxbQdQC4rffg</td>\n",
       "      <td>1.0</td>\n",
       "      <td>15</td>\n",
       "      <td>6</td>\n",
       "      <td>4</td>\n",
       "      <td>Mistral was the worst dining experience I have...</td>\n",
       "      <td>2010-07-22 18:08:01</td>\n",
       "      <td>...</td>\n",
       "      <td>en</td>\n",
       "      <td>mistral worst dining experience ever life bad ...</td>\n",
       "      <td>79.19</td>\n",
       "      <td>0.029864</td>\n",
       "      <td>0.502499</td>\n",
       "      <td>0.225888</td>\n",
       "      <td>1777</td>\n",
       "      <td>10</td>\n",
       "      <td>3.82</td>\n",
       "      <td>767</td>\n",
       "    </tr>\n",
       "  </tbody>\n",
       "</table>\n",
       "<p>2 rows × 21 columns</p>\n",
       "</div>"
      ],
      "text/plain": [
       "   Unnamed: 0               review_id                 user_id  \\\n",
       "0     1073206  JdReKgETiiJEDmshrO4TLw  pyarmAnR-i-qookQamqRTA   \n",
       "1     6229216  zL4se_Ixdcl8kvTOHCS3rg  s16-BUo-orUsELvMu5ocKg   \n",
       "\n",
       "              business_id  stars  useful  funny  cool  \\\n",
       "0  V2GOReqPvr8qpCC7sWfoTw    1.0      17      1     0   \n",
       "1  VH0Ib9S3E-dxbQdQC4rffg    1.0      15      6     4   \n",
       "\n",
       "                                                text                 date  \\\n",
       "0  Just to let this car company that people DO re...  2014-03-06 12:38:52   \n",
       "1  Mistral was the worst dining experience I have...  2010-07-22 18:08:01   \n",
       "\n",
       "   ...  language                                         text_clean read_ease  \\\n",
       "0  ...        en  let car company people read yelp check review ...     85.49   \n",
       "1  ...        en  mistral worst dining experience ever life bad ...     79.19   \n",
       "\n",
       "   polarity  subjectivity  Adj_ratio  review_count  NumElite  average_stars  \\\n",
       "0 -0.500000      1.000000   0.120000             9         0           3.00   \n",
       "1  0.029864      0.502499   0.225888          1777        10           3.82   \n",
       "\n",
       "   NumofWords  \n",
       "0          56  \n",
       "1         767  \n",
       "\n",
       "[2 rows x 21 columns]"
      ]
     },
     "execution_count": 4,
     "metadata": {},
     "output_type": "execute_result"
    }
   ],
   "source": [
    "review1.head(2)"
   ]
  },
  {
   "cell_type": "code",
   "execution_count": 10,
   "metadata": {},
   "outputs": [
    {
     "name": "stdout",
     "output_type": "stream",
     "text": [
      "0\n"
     ]
    }
   ],
   "source": [
    "#import random\n",
    "#list1 = [0,1,2]\n",
    "#a = random.choice(list1)\n",
    "#print(a)"
   ]
  },
  {
   "cell_type": "code",
   "execution_count": 9,
   "metadata": {},
   "outputs": [],
   "source": [
    "X = review1[[ \"read_ease\", \"polarity\", \"subjectivity\", \n",
    "                           \"Adj_ratio\",'review_count','NumElite','average_stars','NumofWords']]"
   ]
  },
  {
   "cell_type": "code",
   "execution_count": 6,
   "metadata": {},
   "outputs": [],
   "source": [
    "Y = np.array(review1[\"useful_level\"].values)"
   ]
  },
  {
   "cell_type": "code",
   "execution_count": 11,
   "metadata": {},
   "outputs": [],
   "source": [
    "X_train, X_test,y_train,y_test = model_selection.train_test_split(X,Y, test_size=0.1,stratify=Y)# 10% test size"
   ]
  },
  {
   "cell_type": "code",
   "execution_count": 12,
   "metadata": {},
   "outputs": [],
   "source": [
    "X_train1, X_valid,y_train1,y_valid = model_selection.train_test_split(X_train,y_train, test_size=0.2,stratify=y_train)# 20% validation"
   ]
  },
  {
   "cell_type": "code",
   "execution_count": null,
   "metadata": {},
   "outputs": [],
   "source": []
  }
 ],
 "metadata": {
  "kernelspec": {
   "display_name": "Python 3",
   "language": "python",
   "name": "python3"
  },
  "language_info": {
   "codemirror_mode": {
    "name": "ipython",
    "version": 3
   },
   "file_extension": ".py",
   "mimetype": "text/x-python",
   "name": "python",
   "nbconvert_exporter": "python",
   "pygments_lexer": "ipython3",
   "version": "3.8.5"
  }
 },
 "nbformat": 4,
 "nbformat_minor": 4
}

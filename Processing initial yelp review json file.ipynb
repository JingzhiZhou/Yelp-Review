{
 "cells": [
  {
   "cell_type": "code",
   "execution_count": 1,
   "metadata": {},
   "outputs": [
    {
     "name": "stdout",
     "output_type": "stream",
     "text": [
      "Requirement already satisfied: ijson in c:\\users\\11638\\anaconda3\\lib\\site-packages (3.1.4)\n",
      "Note: you may need to restart the kernel to use updated packages.\n"
     ]
    }
   ],
   "source": [
    "pip install ijson\n"
   ]
  },
  {
   "cell_type": "code",
   "execution_count": null,
   "metadata": {},
   "outputs": [],
   "source": []
  },
  {
   "cell_type": "code",
   "execution_count": 74,
   "metadata": {},
   "outputs": [
    {
     "name": "stdout",
     "output_type": "stream",
     "text": [
      "Requirement already satisfied: liwc in c:\\users\\fannie\\anaconda3\\lib\\site-packages (0.5.0)\n",
      "Collecting liwc-text-analysis\n",
      "  Downloading liwc_text_analysis-1.0.2-py3-none-any.whl (5.7 kB)\n",
      "Collecting attrs==19.1.0\n",
      "  Downloading attrs-19.1.0-py2.py3-none-any.whl (35 kB)\n",
      "Collecting wcwidth==0.1.7\n",
      "  Downloading wcwidth-0.1.7-py2.py3-none-any.whl (21 kB)\n",
      "Collecting six==1.12.0\n",
      "  Downloading six-1.12.0-py2.py3-none-any.whl (10 kB)\n",
      "Collecting pyparsing==2.4.2\n",
      "  Downloading pyparsing-2.4.2-py2.py3-none-any.whl (65 kB)\n",
      "Collecting pluggy==0.12.0\n",
      "  Downloading pluggy-0.12.0-py2.py3-none-any.whl (17 kB)\n",
      "Collecting zipp==0.6.0\n",
      "  Downloading zipp-0.6.0-py2.py3-none-any.whl (4.1 kB)\n",
      "Collecting py==1.8.0\n",
      "  Downloading py-1.8.0-py2.py3-none-any.whl (83 kB)\n",
      "Collecting pytest==5.1.2\n",
      "  Downloading pytest-5.1.2-py3-none-any.whl (224 kB)\n",
      "Collecting importlib-metadata==0.19\n",
      "  Downloading importlib_metadata-0.19-py2.py3-none-any.whl (26 kB)\n",
      "Collecting atomicwrites==1.3.0"
     ]
    },
    {
     "name": "stderr",
     "output_type": "stream",
     "text": [
      "ERROR: After October 2020 you may experience errors when installing or updating packages. This is because pip will change the way that it resolves dependency conflicts.\n",
      "\n",
      "We recommend you use --use-feature=2020-resolver to test your packages with the new resolver before it becomes the default.\n",
      "\n",
      "spyder 4.1.5 requires pyqt5<5.13; python_version >= \"3\", which is not installed.\n",
      "spyder 4.1.5 requires pyqtwebengine<5.13; python_version >= \"3\", which is not installed.\n"
     ]
    },
    {
     "name": "stdout",
     "output_type": "stream",
     "text": [
      "\n",
      "  Downloading atomicwrites-1.3.0-py2.py3-none-any.whl (5.9 kB)\n",
      "Collecting packaging==19.1\n",
      "  Downloading packaging-19.1-py2.py3-none-any.whl (30 kB)\n",
      "Collecting more-itertools==7.2.0\n",
      "  Downloading more_itertools-7.2.0-py3-none-any.whl (57 kB)\n",
      "Requirement already satisfied: colorama; sys_platform == \"win32\" in c:\\users\\fannie\\anaconda3\\lib\\site-packages (from pytest==5.1.2->liwc-text-analysis) (0.4.4)\n",
      "Installing collected packages: attrs, wcwidth, six, pyparsing, more-itertools, zipp, importlib-metadata, pluggy, py, atomicwrites, packaging, pytest, liwc-text-analysis\n",
      "  Attempting uninstall: attrs\n",
      "    Found existing installation: attrs 20.3.0\n",
      "    Uninstalling attrs-20.3.0:\n",
      "      Successfully uninstalled attrs-20.3.0\n",
      "  Attempting uninstall: wcwidth\n",
      "    Found existing installation: wcwidth 0.2.5\n",
      "    Uninstalling wcwidth-0.2.5:\n",
      "      Successfully uninstalled wcwidth-0.2.5\n",
      "  Attempting uninstall: six\n",
      "    Found existing installation: six 1.15.0\n",
      "    Uninstalling six-1.15.0:\n",
      "      Successfully uninstalled six-1.15.0\n",
      "  Attempting uninstall: pyparsing\n",
      "    Found existing installation: pyparsing 2.4.7\n",
      "    Uninstalling pyparsing-2.4.7:\n",
      "      Successfully uninstalled pyparsing-2.4.7\n",
      "  Attempting uninstall: more-itertools\n",
      "    Found existing installation: more-itertools 8.6.0\n",
      "    Uninstalling more-itertools-8.6.0:\n",
      "      Successfully uninstalled more-itertools-8.6.0\n",
      "  Attempting uninstall: zipp\n",
      "    Found existing installation: zipp 3.4.0\n",
      "    Uninstalling zipp-3.4.0:\n",
      "      Successfully uninstalled zipp-3.4.0\n",
      "  Attempting uninstall: importlib-metadata\n",
      "    Found existing installation: importlib-metadata 2.0.0\n",
      "    Uninstalling importlib-metadata-2.0.0:\n",
      "      Successfully uninstalled importlib-metadata-2.0.0\n",
      "  Attempting uninstall: pluggy\n",
      "    Found existing installation: pluggy 0.13.1\n",
      "    Uninstalling pluggy-0.13.1:\n",
      "      Successfully uninstalled pluggy-0.13.1\n",
      "  Attempting uninstall: py\n",
      "    Found existing installation: py 1.9.0\n",
      "    Uninstalling py-1.9.0:\n",
      "      Successfully uninstalled py-1.9.0\n",
      "  Attempting uninstall: atomicwrites\n",
      "    Found existing installation: atomicwrites 1.4.0\n",
      "    Uninstalling atomicwrites-1.4.0:\n",
      "      Successfully uninstalled atomicwrites-1.4.0\n",
      "  Attempting uninstall: packaging\n",
      "    Found existing installation: packaging 20.4\n",
      "    Uninstalling packaging-20.4:\n",
      "      Successfully uninstalled packaging-20.4\n",
      "  Attempting uninstall: pytest\n",
      "    Found existing installation: pytest 0.0.0\n",
      "    Uninstalling pytest-0.0.0:\n",
      "      Successfully uninstalled pytest-0.0.0\n",
      "Successfully installed atomicwrites-1.3.0 attrs-19.1.0 importlib-metadata-0.19 liwc-text-analysis-1.0.2 more-itertools-7.2.0 packaging-19.1 pluggy-0.12.0 py-1.8.0 pyparsing-2.4.2 pytest-5.1.2 six-1.12.0 wcwidth-0.1.7 zipp-0.6.0\n"
     ]
    }
   ],
   "source": [
    "!pip install liwc\n",
    "!pip install liwc-text-analysis"
   ]
  },
  {
   "cell_type": "code",
   "execution_count": 81,
   "metadata": {},
   "outputs": [
    {
     "name": "stdout",
     "output_type": "stream",
     "text": [
      "Requirement already satisfied: nltk in c:\\users\\fannie\\anaconda3\\lib\\site-packages (3.5)\n",
      "Requirement already satisfied: click in c:\\users\\fannie\\anaconda3\\lib\\site-packages (from nltk) (7.1.2)\n",
      "Requirement already satisfied: joblib in c:\\users\\fannie\\anaconda3\\lib\\site-packages (from nltk) (0.17.0)\n",
      "Requirement already satisfied: tqdm in c:\\users\\fannie\\anaconda3\\lib\\site-packages (from nltk) (4.50.2)\n",
      "Requirement already satisfied: regex in c:\\users\\fannie\\anaconda3\\lib\\site-packages (from nltk) (2020.10.15)\n"
     ]
    }
   ],
   "source": [
    "!pip install nltk"
   ]
  },
  {
   "cell_type": "code",
   "execution_count": 76,
   "metadata": {},
   "outputs": [
    {
     "name": "stdout",
     "output_type": "stream",
     "text": [
      "Collecting liwc-analysis\n",
      "  Downloading liwc_analysis-1.2.4-py2.py3-none-any.whl (5.5 kB)\n",
      "Requirement already satisfied: pandas in c:\\users\\fannie\\anaconda3\\lib\\site-packages (from liwc-analysis) (1.1.3)\n",
      "Requirement already satisfied: python-dateutil>=2.7.3 in c:\\users\\fannie\\anaconda3\\lib\\site-packages (from pandas->liwc-analysis) (2.8.1)\n",
      "Requirement already satisfied: numpy>=1.15.4 in c:\\users\\fannie\\anaconda3\\lib\\site-packages (from pandas->liwc-analysis) (1.19.2)\n",
      "Requirement already satisfied: pytz>=2017.2 in c:\\users\\fannie\\anaconda3\\lib\\site-packages (from pandas->liwc-analysis) (2020.1)\n",
      "Requirement already satisfied: six>=1.5 in c:\\users\\fannie\\anaconda3\\lib\\site-packages (from python-dateutil>=2.7.3->pandas->liwc-analysis) (1.12.0)\n",
      "Installing collected packages: liwc-analysis\n",
      "Successfully installed liwc-analysis-1.2.4\n"
     ]
    }
   ],
   "source": [
    "!pip install liwc-analysis"
   ]
  },
  {
   "cell_type": "code",
   "execution_count": 1,
   "metadata": {},
   "outputs": [],
   "source": [
    "import ijson\n",
    "import pandas as pd\n",
    "import numpy as np\n",
    "import re\n",
    "import string"
   ]
  },
  {
   "cell_type": "code",
   "execution_count": 2,
   "metadata": {},
   "outputs": [],
   "source": [
    "file_name='C:/Users/Fannie/Desktop/yelp_academic_dataset_review.json'"
   ]
  },
  {
   "cell_type": "markdown",
   "metadata": {},
   "source": [
    "def extract_json(filename):\n",
    "    with open(filename, 'rb') as input_file:\n",
    "        return list(ijson.items(input_file, 'records.item', use_float=True))"
   ]
  },
  {
   "cell_type": "markdown",
   "metadata": {},
   "source": [
    "extract_json(file_name)"
   ]
  },
  {
   "cell_type": "code",
   "execution_count": null,
   "metadata": {},
   "outputs": [],
   "source": [
    "#list(ijson.parse(open(file_name,encoding=\"utf8\"),multiple_values=True))"
   ]
  },
  {
   "cell_type": "code",
   "execution_count": 3,
   "metadata": {},
   "outputs": [],
   "source": [
    "with open(file_name,encoding=\"utf8\") as file:\n",
    "\n",
    "    parser = ijson.parse(file, multiple_values=True)\n",
    "    review_id = []\n",
    "    user_id = []\n",
    "    business_id = []\n",
    "    stars = []\n",
    "    useful = []\n",
    "    funny = []\n",
    "    cool = []\n",
    "    text = []\n",
    "    date = []\n",
    "    \n",
    "    for prefix, event, value in parser:\n",
    "\n",
    "        #for i in ['review_id', 'user_id', 'business_id', 'stars', \"useful\", \"funny\", \"cool\", \"text\", \"date\"]:\n",
    "            \n",
    "        #   if prefix==i:\n",
    "        #   i.append(value)\n",
    "            \n",
    "        if prefix==\"review_id\":\n",
    "            review_id.append(value)\n",
    "\n",
    "        if prefix==\"user_id\":\n",
    "            user_id.append(value)\n",
    "\n",
    "        if prefix==\"useful\":\n",
    "            useful.append(value)\n",
    "            \n",
    "        if prefix==\"business_id\":\n",
    "            business_id.append(value)\n",
    "\n",
    "        if prefix==\"stars\":\n",
    "            stars.append(value)\n",
    "\n",
    "        if prefix==\"funny\":\n",
    "            funny.append(value)\n",
    "\n",
    "        if prefix==\"cool\":\n",
    "            cool.append(value)\n",
    "\n",
    "        if prefix==\"text\":\n",
    "            text.append(value)\n",
    "\n",
    "        if prefix==\"date\":\n",
    "            date.append(value)\n"
   ]
  },
  {
   "cell_type": "code",
   "execution_count": 8,
   "metadata": {},
   "outputs": [],
   "source": [
    "Review1 = pd.DataFrame({'review_id':review_id, 'user_id':user_id, 'business_id':business_id, 'stars':stars, \n",
    "                        'useful':useful, 'funny':funny, 'cool':cool, 'text':text, 'date':date})"
   ]
  },
  {
   "cell_type": "code",
   "execution_count": 13,
   "metadata": {},
   "outputs": [],
   "source": [
    "Review1.to_csv('C:/Users/Fannie/Desktop/yelpreview.csv')"
   ]
  },
  {
   "cell_type": "code",
   "execution_count": 11,
   "metadata": {},
   "outputs": [
    {
     "data": {
      "text/html": [
       "<div>\n",
       "<style scoped>\n",
       "    .dataframe tbody tr th:only-of-type {\n",
       "        vertical-align: middle;\n",
       "    }\n",
       "\n",
       "    .dataframe tbody tr th {\n",
       "        vertical-align: top;\n",
       "    }\n",
       "\n",
       "    .dataframe thead th {\n",
       "        text-align: right;\n",
       "    }\n",
       "</style>\n",
       "<table border=\"1\" class=\"dataframe\">\n",
       "  <thead>\n",
       "    <tr style=\"text-align: right;\">\n",
       "      <th></th>\n",
       "      <th>review_id</th>\n",
       "      <th>user_id</th>\n",
       "      <th>business_id</th>\n",
       "      <th>stars</th>\n",
       "      <th>useful</th>\n",
       "      <th>funny</th>\n",
       "      <th>cool</th>\n",
       "      <th>text</th>\n",
       "      <th>date</th>\n",
       "    </tr>\n",
       "  </thead>\n",
       "  <tbody>\n",
       "    <tr>\n",
       "      <th>0</th>\n",
       "      <td>lWC-xP3rd6obsecCYsGZRg</td>\n",
       "      <td>ak0TdVmGKo4pwqdJSTLwWw</td>\n",
       "      <td>buF9druCkbuXLX526sGELQ</td>\n",
       "      <td>4.0</td>\n",
       "      <td>3</td>\n",
       "      <td>1</td>\n",
       "      <td>1</td>\n",
       "      <td>Apparently Prides Osteria had a rough summer a...</td>\n",
       "      <td>2014-10-11 03:34:02</td>\n",
       "    </tr>\n",
       "    <tr>\n",
       "      <th>1</th>\n",
       "      <td>8bFej1QE5LXp4O05qjGqXA</td>\n",
       "      <td>YoVfDbnISlW0f7abNQACIg</td>\n",
       "      <td>RA4V8pr014UyUbDvI-LW2A</td>\n",
       "      <td>4.0</td>\n",
       "      <td>1</td>\n",
       "      <td>0</td>\n",
       "      <td>0</td>\n",
       "      <td>This store is pretty good. Not as great as Wal...</td>\n",
       "      <td>2015-07-03 20:38:25</td>\n",
       "    </tr>\n",
       "    <tr>\n",
       "      <th>2</th>\n",
       "      <td>NDhkzczKjLshODbqDoNLSg</td>\n",
       "      <td>eC5evKn1TWDyHCyQAwguUw</td>\n",
       "      <td>_sS2LBIGNT5NQb6PD1Vtjw</td>\n",
       "      <td>5.0</td>\n",
       "      <td>0</td>\n",
       "      <td>0</td>\n",
       "      <td>0</td>\n",
       "      <td>I called WVM on the recommendation of a couple...</td>\n",
       "      <td>2013-05-28 20:38:06</td>\n",
       "    </tr>\n",
       "    <tr>\n",
       "      <th>3</th>\n",
       "      <td>T5fAqjjFooT4V0OeZyuk1w</td>\n",
       "      <td>SFQ1jcnGguO0LYWnbbftAA</td>\n",
       "      <td>0AzLzHfOJgL7ROwhdww2ew</td>\n",
       "      <td>2.0</td>\n",
       "      <td>1</td>\n",
       "      <td>1</td>\n",
       "      <td>1</td>\n",
       "      <td>I've stayed at many Marriott and Renaissance M...</td>\n",
       "      <td>2010-01-08 02:29:15</td>\n",
       "    </tr>\n",
       "    <tr>\n",
       "      <th>4</th>\n",
       "      <td>sjm_uUcQVxab_EeLCqsYLg</td>\n",
       "      <td>0kA0PAJ8QFMeveQWHFqz2A</td>\n",
       "      <td>8zehGz9jnxPqXtOc7KaJxA</td>\n",
       "      <td>4.0</td>\n",
       "      <td>0</td>\n",
       "      <td>0</td>\n",
       "      <td>0</td>\n",
       "      <td>The food is always great here. The service fro...</td>\n",
       "      <td>2011-07-28 18:05:01</td>\n",
       "    </tr>\n",
       "    <tr>\n",
       "      <th>5</th>\n",
       "      <td>J4a2TuhDasjn2k3wWtHZnQ</td>\n",
       "      <td>RNm_RWkcd02Li2mKPRe7Eg</td>\n",
       "      <td>xGXzsc-hzam-VArK6eTvtw</td>\n",
       "      <td>1.0</td>\n",
       "      <td>2</td>\n",
       "      <td>0</td>\n",
       "      <td>0</td>\n",
       "      <td>This place used to be a cool, chill place. Now...</td>\n",
       "      <td>2018-01-21 04:41:03</td>\n",
       "    </tr>\n",
       "    <tr>\n",
       "      <th>6</th>\n",
       "      <td>28gGfkLs3igtjVy61lh77Q</td>\n",
       "      <td>Q8c91v7luItVB0cMFF_mRA</td>\n",
       "      <td>EXOsmAB1s71WePlQk0WZrA</td>\n",
       "      <td>2.0</td>\n",
       "      <td>0</td>\n",
       "      <td>0</td>\n",
       "      <td>0</td>\n",
       "      <td>The setting is perfectly adequate, and the foo...</td>\n",
       "      <td>2006-04-16 02:58:44</td>\n",
       "    </tr>\n",
       "    <tr>\n",
       "      <th>7</th>\n",
       "      <td>9vqwvFCBG3FBiHGmOHMmiA</td>\n",
       "      <td>XGkAG92TQ3MQUKGX9sLUhw</td>\n",
       "      <td>DbXHNl890xSXNiyRczLWAg</td>\n",
       "      <td>5.0</td>\n",
       "      <td>0</td>\n",
       "      <td>0</td>\n",
       "      <td>0</td>\n",
       "      <td>Probably one of the better breakfast sandwiche...</td>\n",
       "      <td>2017-12-02 18:16:13</td>\n",
       "    </tr>\n",
       "    <tr>\n",
       "      <th>8</th>\n",
       "      <td>2l_TDrQ7p-5tANOyiOlkLQ</td>\n",
       "      <td>LWUnzwK0ILquLLZcHHE1Mw</td>\n",
       "      <td>mD-A9KOWADXvfrZfwDs-jw</td>\n",
       "      <td>4.0</td>\n",
       "      <td>1</td>\n",
       "      <td>0</td>\n",
       "      <td>0</td>\n",
       "      <td>I am definitely a fan of Sports Authority.  Th...</td>\n",
       "      <td>2012-05-28 15:00:47</td>\n",
       "    </tr>\n",
       "    <tr>\n",
       "      <th>9</th>\n",
       "      <td>KKVFopqzcVfcubIBxmIjVA</td>\n",
       "      <td>99RsBrARhhx60UnAC4yDoA</td>\n",
       "      <td>EEHhKSxUvJkoPSzeGKkpVg</td>\n",
       "      <td>5.0</td>\n",
       "      <td>0</td>\n",
       "      <td>0</td>\n",
       "      <td>0</td>\n",
       "      <td>I work in the Pru and this is the most afforda...</td>\n",
       "      <td>2014-05-07 18:10:21</td>\n",
       "    </tr>\n",
       "    <tr>\n",
       "      <th>10</th>\n",
       "      <td>FdoBFTjXXMn4hVnJ59EtiQ</td>\n",
       "      <td>eLAYHxHUutiXswy-CfeiUw</td>\n",
       "      <td>WQFn1A7-UAA4JT5YWiop_w</td>\n",
       "      <td>1.0</td>\n",
       "      <td>0</td>\n",
       "      <td>0</td>\n",
       "      <td>0</td>\n",
       "      <td>They NEVER seem to get our \\norder correct, se...</td>\n",
       "      <td>2017-09-08 23:26:10</td>\n",
       "    </tr>\n",
       "    <tr>\n",
       "      <th>11</th>\n",
       "      <td>Qv_lQb1Yu9DGsUO3r-enNw</td>\n",
       "      <td>Ngl83gs3n22SzLAsNw2znw</td>\n",
       "      <td>iZxfWlfNPXV_0S1xO8QNSQ</td>\n",
       "      <td>2.0</td>\n",
       "      <td>3</td>\n",
       "      <td>0</td>\n",
       "      <td>0</td>\n",
       "      <td>Disappointing. Bolt is a follow up of Fanny's ...</td>\n",
       "      <td>2013-01-02 18:12:15</td>\n",
       "    </tr>\n",
       "    <tr>\n",
       "      <th>12</th>\n",
       "      <td>Gi5LSRmTXoL9Bp4jNGPjLw</td>\n",
       "      <td>hn0ZbitvmlHnF--KJGJ6_A</td>\n",
       "      <td>TA1KUSCu8GkWP9w0rmElxw</td>\n",
       "      <td>4.0</td>\n",
       "      <td>0</td>\n",
       "      <td>0</td>\n",
       "      <td>0</td>\n",
       "      <td>I have been here twice and have had really goo...</td>\n",
       "      <td>2011-10-27 14:32:57</td>\n",
       "    </tr>\n",
       "    <tr>\n",
       "      <th>13</th>\n",
       "      <td>m1GlqFGIN5eayrbb2IbRZg</td>\n",
       "      <td>B7YSV6r1ePAXc69FkDDuZw</td>\n",
       "      <td>wZgUAuDuEGPEzKK-PsngKQ</td>\n",
       "      <td>1.0</td>\n",
       "      <td>0</td>\n",
       "      <td>0</td>\n",
       "      <td>0</td>\n",
       "      <td>I wish I could give them zero stars. The call ...</td>\n",
       "      <td>2014-06-27 22:06:55</td>\n",
       "    </tr>\n",
       "    <tr>\n",
       "      <th>14</th>\n",
       "      <td>j_eh6Iw7qseluR-7KfZOMg</td>\n",
       "      <td>xpxWG7jQXZE6BcSeuIq4PQ</td>\n",
       "      <td>mw_qxZJraNu7Q6u0GkcMew</td>\n",
       "      <td>5.0</td>\n",
       "      <td>0</td>\n",
       "      <td>0</td>\n",
       "      <td>0</td>\n",
       "      <td>This is a five-star restaurant if ever I have ...</td>\n",
       "      <td>2016-08-12 21:59:03</td>\n",
       "    </tr>\n",
       "    <tr>\n",
       "      <th>15</th>\n",
       "      <td>egHMQBhFeaLhVyC6w3r0vQ</td>\n",
       "      <td>HvpNr0ohHCaVLp014CQrdw</td>\n",
       "      <td>gGvNgShksetPoimyKV8I9Q</td>\n",
       "      <td>4.0</td>\n",
       "      <td>0</td>\n",
       "      <td>0</td>\n",
       "      <td>0</td>\n",
       "      <td>Quickly stopped in for a UFC fight. I sat down...</td>\n",
       "      <td>2015-10-04 05:37:01</td>\n",
       "    </tr>\n",
       "    <tr>\n",
       "      <th>16</th>\n",
       "      <td>LBJJWJ0uNlIybMfPnQGS0A</td>\n",
       "      <td>bUHweiErUJ36WGeNrPmEbA</td>\n",
       "      <td>6Hm2FmfLcU_M91TrZI5htA</td>\n",
       "      <td>5.0</td>\n",
       "      <td>5</td>\n",
       "      <td>3</td>\n",
       "      <td>3</td>\n",
       "      <td>I loved everything about this place. I've only...</td>\n",
       "      <td>2014-02-05 21:09:05</td>\n",
       "    </tr>\n",
       "    <tr>\n",
       "      <th>17</th>\n",
       "      <td>ucFOnqgaV40oQ2YNyz5ddQ</td>\n",
       "      <td>JHXQEayrDHOWGexs0dCviA</td>\n",
       "      <td>KXCXaF5qimmtKKqnPc_LQA</td>\n",
       "      <td>1.0</td>\n",
       "      <td>0</td>\n",
       "      <td>0</td>\n",
       "      <td>0</td>\n",
       "      <td>Great coffee and pastries. Baristas are excell...</td>\n",
       "      <td>2018-03-03 23:45:25</td>\n",
       "    </tr>\n",
       "    <tr>\n",
       "      <th>18</th>\n",
       "      <td>btNWW2kdJYfwpTDyzJO3Iw</td>\n",
       "      <td>DECuRZwkUw8ELQZfNGef2Q</td>\n",
       "      <td>zmZ3HkVCeZPBefJJxzdJ7A</td>\n",
       "      <td>4.0</td>\n",
       "      <td>0</td>\n",
       "      <td>0</td>\n",
       "      <td>0</td>\n",
       "      <td>Nothing special but good enough.  I like anoth...</td>\n",
       "      <td>2012-12-04 04:29:47</td>\n",
       "    </tr>\n",
       "    <tr>\n",
       "      <th>19</th>\n",
       "      <td>3c4LFWiVUHPDQzAd8uxc3A</td>\n",
       "      <td>jySmPCkEkJR3cWJlkEs9cw</td>\n",
       "      <td>ZW7aI5FO_3q_vSzI4_zx-Q</td>\n",
       "      <td>5.0</td>\n",
       "      <td>5</td>\n",
       "      <td>2</td>\n",
       "      <td>4</td>\n",
       "      <td>Definitely 5 stars for the donuts.  Our family...</td>\n",
       "      <td>2013-08-15 14:47:40</td>\n",
       "    </tr>\n",
       "  </tbody>\n",
       "</table>\n",
       "</div>"
      ],
      "text/plain": [
       "                 review_id                 user_id             business_id  \\\n",
       "0   lWC-xP3rd6obsecCYsGZRg  ak0TdVmGKo4pwqdJSTLwWw  buF9druCkbuXLX526sGELQ   \n",
       "1   8bFej1QE5LXp4O05qjGqXA  YoVfDbnISlW0f7abNQACIg  RA4V8pr014UyUbDvI-LW2A   \n",
       "2   NDhkzczKjLshODbqDoNLSg  eC5evKn1TWDyHCyQAwguUw  _sS2LBIGNT5NQb6PD1Vtjw   \n",
       "3   T5fAqjjFooT4V0OeZyuk1w  SFQ1jcnGguO0LYWnbbftAA  0AzLzHfOJgL7ROwhdww2ew   \n",
       "4   sjm_uUcQVxab_EeLCqsYLg  0kA0PAJ8QFMeveQWHFqz2A  8zehGz9jnxPqXtOc7KaJxA   \n",
       "5   J4a2TuhDasjn2k3wWtHZnQ  RNm_RWkcd02Li2mKPRe7Eg  xGXzsc-hzam-VArK6eTvtw   \n",
       "6   28gGfkLs3igtjVy61lh77Q  Q8c91v7luItVB0cMFF_mRA  EXOsmAB1s71WePlQk0WZrA   \n",
       "7   9vqwvFCBG3FBiHGmOHMmiA  XGkAG92TQ3MQUKGX9sLUhw  DbXHNl890xSXNiyRczLWAg   \n",
       "8   2l_TDrQ7p-5tANOyiOlkLQ  LWUnzwK0ILquLLZcHHE1Mw  mD-A9KOWADXvfrZfwDs-jw   \n",
       "9   KKVFopqzcVfcubIBxmIjVA  99RsBrARhhx60UnAC4yDoA  EEHhKSxUvJkoPSzeGKkpVg   \n",
       "10  FdoBFTjXXMn4hVnJ59EtiQ  eLAYHxHUutiXswy-CfeiUw  WQFn1A7-UAA4JT5YWiop_w   \n",
       "11  Qv_lQb1Yu9DGsUO3r-enNw  Ngl83gs3n22SzLAsNw2znw  iZxfWlfNPXV_0S1xO8QNSQ   \n",
       "12  Gi5LSRmTXoL9Bp4jNGPjLw  hn0ZbitvmlHnF--KJGJ6_A  TA1KUSCu8GkWP9w0rmElxw   \n",
       "13  m1GlqFGIN5eayrbb2IbRZg  B7YSV6r1ePAXc69FkDDuZw  wZgUAuDuEGPEzKK-PsngKQ   \n",
       "14  j_eh6Iw7qseluR-7KfZOMg  xpxWG7jQXZE6BcSeuIq4PQ  mw_qxZJraNu7Q6u0GkcMew   \n",
       "15  egHMQBhFeaLhVyC6w3r0vQ  HvpNr0ohHCaVLp014CQrdw  gGvNgShksetPoimyKV8I9Q   \n",
       "16  LBJJWJ0uNlIybMfPnQGS0A  bUHweiErUJ36WGeNrPmEbA  6Hm2FmfLcU_M91TrZI5htA   \n",
       "17  ucFOnqgaV40oQ2YNyz5ddQ  JHXQEayrDHOWGexs0dCviA  KXCXaF5qimmtKKqnPc_LQA   \n",
       "18  btNWW2kdJYfwpTDyzJO3Iw  DECuRZwkUw8ELQZfNGef2Q  zmZ3HkVCeZPBefJJxzdJ7A   \n",
       "19  3c4LFWiVUHPDQzAd8uxc3A  jySmPCkEkJR3cWJlkEs9cw  ZW7aI5FO_3q_vSzI4_zx-Q   \n",
       "\n",
       "   stars  useful  funny  cool  \\\n",
       "0    4.0       3      1     1   \n",
       "1    4.0       1      0     0   \n",
       "2    5.0       0      0     0   \n",
       "3    2.0       1      1     1   \n",
       "4    4.0       0      0     0   \n",
       "5    1.0       2      0     0   \n",
       "6    2.0       0      0     0   \n",
       "7    5.0       0      0     0   \n",
       "8    4.0       1      0     0   \n",
       "9    5.0       0      0     0   \n",
       "10   1.0       0      0     0   \n",
       "11   2.0       3      0     0   \n",
       "12   4.0       0      0     0   \n",
       "13   1.0       0      0     0   \n",
       "14   5.0       0      0     0   \n",
       "15   4.0       0      0     0   \n",
       "16   5.0       5      3     3   \n",
       "17   1.0       0      0     0   \n",
       "18   4.0       0      0     0   \n",
       "19   5.0       5      2     4   \n",
       "\n",
       "                                                 text                 date  \n",
       "0   Apparently Prides Osteria had a rough summer a...  2014-10-11 03:34:02  \n",
       "1   This store is pretty good. Not as great as Wal...  2015-07-03 20:38:25  \n",
       "2   I called WVM on the recommendation of a couple...  2013-05-28 20:38:06  \n",
       "3   I've stayed at many Marriott and Renaissance M...  2010-01-08 02:29:15  \n",
       "4   The food is always great here. The service fro...  2011-07-28 18:05:01  \n",
       "5   This place used to be a cool, chill place. Now...  2018-01-21 04:41:03  \n",
       "6   The setting is perfectly adequate, and the foo...  2006-04-16 02:58:44  \n",
       "7   Probably one of the better breakfast sandwiche...  2017-12-02 18:16:13  \n",
       "8   I am definitely a fan of Sports Authority.  Th...  2012-05-28 15:00:47  \n",
       "9   I work in the Pru and this is the most afforda...  2014-05-07 18:10:21  \n",
       "10  They NEVER seem to get our \\norder correct, se...  2017-09-08 23:26:10  \n",
       "11  Disappointing. Bolt is a follow up of Fanny's ...  2013-01-02 18:12:15  \n",
       "12  I have been here twice and have had really goo...  2011-10-27 14:32:57  \n",
       "13  I wish I could give them zero stars. The call ...  2014-06-27 22:06:55  \n",
       "14  This is a five-star restaurant if ever I have ...  2016-08-12 21:59:03  \n",
       "15  Quickly stopped in for a UFC fight. I sat down...  2015-10-04 05:37:01  \n",
       "16  I loved everything about this place. I've only...  2014-02-05 21:09:05  \n",
       "17  Great coffee and pastries. Baristas are excell...  2018-03-03 23:45:25  \n",
       "18  Nothing special but good enough.  I like anoth...  2012-12-04 04:29:47  \n",
       "19  Definitely 5 stars for the donuts.  Our family...  2013-08-15 14:47:40  "
      ]
     },
     "execution_count": 11,
     "metadata": {},
     "output_type": "execute_result"
    }
   ],
   "source": [
    "Review1.head(20)"
   ]
  },
  {
   "cell_type": "code",
   "execution_count": 12,
   "metadata": {},
   "outputs": [
    {
     "data": {
      "text/html": [
       "<div>\n",
       "<style scoped>\n",
       "    .dataframe tbody tr th:only-of-type {\n",
       "        vertical-align: middle;\n",
       "    }\n",
       "\n",
       "    .dataframe tbody tr th {\n",
       "        vertical-align: top;\n",
       "    }\n",
       "\n",
       "    .dataframe thead th {\n",
       "        text-align: right;\n",
       "    }\n",
       "</style>\n",
       "<table border=\"1\" class=\"dataframe\">\n",
       "  <thead>\n",
       "    <tr style=\"text-align: right;\">\n",
       "      <th></th>\n",
       "      <th>useful</th>\n",
       "      <th>funny</th>\n",
       "      <th>cool</th>\n",
       "    </tr>\n",
       "  </thead>\n",
       "  <tbody>\n",
       "    <tr>\n",
       "      <th>count</th>\n",
       "      <td>8.635403e+06</td>\n",
       "      <td>8.635403e+06</td>\n",
       "      <td>8.635403e+06</td>\n",
       "    </tr>\n",
       "    <tr>\n",
       "      <th>mean</th>\n",
       "      <td>1.249294e+00</td>\n",
       "      <td>4.194358e-01</td>\n",
       "      <td>5.022635e-01</td>\n",
       "    </tr>\n",
       "    <tr>\n",
       "      <th>std</th>\n",
       "      <td>3.204236e+00</td>\n",
       "      <td>1.869675e+00</td>\n",
       "      <td>2.244378e+00</td>\n",
       "    </tr>\n",
       "    <tr>\n",
       "      <th>min</th>\n",
       "      <td>0.000000e+00</td>\n",
       "      <td>0.000000e+00</td>\n",
       "      <td>0.000000e+00</td>\n",
       "    </tr>\n",
       "    <tr>\n",
       "      <th>25%</th>\n",
       "      <td>0.000000e+00</td>\n",
       "      <td>0.000000e+00</td>\n",
       "      <td>0.000000e+00</td>\n",
       "    </tr>\n",
       "    <tr>\n",
       "      <th>50%</th>\n",
       "      <td>0.000000e+00</td>\n",
       "      <td>0.000000e+00</td>\n",
       "      <td>0.000000e+00</td>\n",
       "    </tr>\n",
       "    <tr>\n",
       "      <th>75%</th>\n",
       "      <td>1.000000e+00</td>\n",
       "      <td>0.000000e+00</td>\n",
       "      <td>0.000000e+00</td>\n",
       "    </tr>\n",
       "    <tr>\n",
       "      <th>max</th>\n",
       "      <td>7.580000e+02</td>\n",
       "      <td>6.100000e+02</td>\n",
       "      <td>7.320000e+02</td>\n",
       "    </tr>\n",
       "  </tbody>\n",
       "</table>\n",
       "</div>"
      ],
      "text/plain": [
       "             useful         funny          cool\n",
       "count  8.635403e+06  8.635403e+06  8.635403e+06\n",
       "mean   1.249294e+00  4.194358e-01  5.022635e-01\n",
       "std    3.204236e+00  1.869675e+00  2.244378e+00\n",
       "min    0.000000e+00  0.000000e+00  0.000000e+00\n",
       "25%    0.000000e+00  0.000000e+00  0.000000e+00\n",
       "50%    0.000000e+00  0.000000e+00  0.000000e+00\n",
       "75%    1.000000e+00  0.000000e+00  0.000000e+00\n",
       "max    7.580000e+02  6.100000e+02  7.320000e+02"
      ]
     },
     "execution_count": 12,
     "metadata": {},
     "output_type": "execute_result"
    }
   ],
   "source": [
    "Review1.describe()"
   ]
  },
  {
   "cell_type": "code",
   "execution_count": 15,
   "metadata": {},
   "outputs": [
    {
     "data": {
      "text/plain": [
       "0      4758168\n",
       "1      1827011\n",
       "2       839327\n",
       "3       433797\n",
       "4       242723\n",
       "5       147582\n",
       "6        95333\n",
       "7        64456\n",
       "8        46308\n",
       "9        34071\n",
       "10       25761\n",
       "11       19563\n",
       "12       15718\n",
       "13       12815\n",
       "14       10129\n",
       "15        8337\n",
       "16        7077\n",
       "17        5888\n",
       "18        4800\n",
       "19        4139\n",
       "20        3467\n",
       "21        2930\n",
       "22        2514\n",
       "23        2257\n",
       "24        1924\n",
       "25        1689\n",
       "26        1502\n",
       "27        1323\n",
       "28        1157\n",
       "29         998\n",
       "30         925\n",
       "31         865\n",
       "32         688\n",
       "33         639\n",
       "34         578\n",
       "35         523\n",
       "36         486\n",
       "37         451\n",
       "38         423\n",
       "39         389\n",
       "40         342\n",
       "41         334\n",
       "43         290\n",
       "44         285\n",
       "42         281\n",
       "45         251\n",
       "46         236\n",
       "47         225\n",
       "50         184\n",
       "48         174\n",
       "49         169\n",
       "55         156\n",
       "53         147\n",
       "51         146\n",
       "52         141\n",
       "56         135\n",
       "54         131\n",
       "59         112\n",
       "58         108\n",
       "57         102\n",
       "66          96\n",
       "60          95\n",
       "62          91\n",
       "64          90\n",
       "65          87\n",
       "63          82\n",
       "61          81\n",
       "67          78\n",
       "68          70\n",
       "69          66\n",
       "81          63\n",
       "70          61\n",
       "72          61\n",
       "73          61\n",
       "79          58\n",
       "75          57\n",
       "76          51\n",
       "74          49\n",
       "77          47\n",
       "78          45\n",
       "71          44\n",
       "80          43\n",
       "82          43\n",
       "85          41\n",
       "87          40\n",
       "83          36\n",
       "86          36\n",
       "88          35\n",
       "90          34\n",
       "84          34\n",
       "93          29\n",
       "89          29\n",
       "96          28\n",
       "92          27\n",
       "91          26\n",
       "97          26\n",
       "98          26\n",
       "101         25\n",
       "102         23\n",
       "105         21\n",
       "100         21\n",
       "94          20\n",
       "109         18\n",
       "107         18\n",
       "99          18\n",
       "95          18\n",
       "104         15\n",
       "117         15\n",
       "111         15\n",
       "112         15\n",
       "103         14\n",
       "115         13\n",
       "116         13\n",
       "126         13\n",
       "120         13\n",
       "122         13\n",
       "132         12\n",
       "113         12\n",
       "131         11\n",
       "123         11\n",
       "124         11\n",
       "119         10\n",
       "114         10\n",
       "127         10\n",
       "108         10\n",
       "128          9\n",
       "110          9\n",
       "134          8\n",
       "129          8\n",
       "141          8\n",
       "121          8\n",
       "148          8\n",
       "153          7\n",
       "142          7\n",
       "151          7\n",
       "106          7\n",
       "166          7\n",
       "133          7\n",
       "130          7\n",
       "143          7\n",
       "152          6\n",
       "150          6\n",
       "167          6\n",
       "209          6\n",
       "144          6\n",
       "135          6\n",
       "140          6\n",
       "137          6\n",
       "118          5\n",
       "147          5\n",
       "175          5\n",
       "138          5\n",
       "177          5\n",
       "125          5\n",
       "160          5\n",
       "158          5\n",
       "204          4\n",
       "159          4\n",
       "179          4\n",
       "161          4\n",
       "146          4\n",
       "157          4\n",
       "136          4\n",
       "139          4\n",
       "170          3\n",
       "190          3\n",
       "196          3\n",
       "176          3\n",
       "145          3\n",
       "172          3\n",
       "171          3\n",
       "205          3\n",
       "154          3\n",
       "164          3\n",
       "163          3\n",
       "182          3\n",
       "212          2\n",
       "187          2\n",
       "233          2\n",
       "226          2\n",
       "303          2\n",
       "211          2\n",
       "173          2\n",
       "184          2\n",
       "180          2\n",
       "149          2\n",
       "162          2\n",
       "165          2\n",
       "186          1\n",
       "252          1\n",
       "230          1\n",
       "232          1\n",
       "240          1\n",
       "242          1\n",
       "244          1\n",
       "247          1\n",
       "251          1\n",
       "260          1\n",
       "223          1\n",
       "284          1\n",
       "285          1\n",
       "446          1\n",
       "313          1\n",
       "316          1\n",
       "321          1\n",
       "343          1\n",
       "398          1\n",
       "400          1\n",
       "411          1\n",
       "155          1\n",
       "219          1\n",
       "222          1\n",
       "218          1\n",
       "188          1\n",
       "189          1\n",
       "191          1\n",
       "192          1\n",
       "194          1\n",
       "195          1\n",
       "178          1\n",
       "198          1\n",
       "200          1\n",
       "202          1\n",
       "203          1\n",
       "174          1\n",
       "169          1\n",
       "207          1\n",
       "208          1\n",
       "210          1\n",
       "156          1\n",
       "215          1\n",
       "217          1\n",
       "758          1\n",
       "Name: useful, dtype: int64"
      ]
     },
     "execution_count": 15,
     "metadata": {},
     "output_type": "execute_result"
    }
   ],
   "source": [
    "pd.set_option('display.max_rows', 500)\n",
    "pd.value_counts(Review1.useful)"
   ]
  },
  {
   "cell_type": "code",
   "execution_count": 2,
   "metadata": {},
   "outputs": [],
   "source": [
    "Review2=pd.read_csv('C:/Users/Fannie/Desktop/yelpreview.csv')"
   ]
  },
  {
   "cell_type": "code",
   "execution_count": 5,
   "metadata": {},
   "outputs": [],
   "source": [
    "df1=pd.DataFrame(pd.value_counts(Review2.useful))\n"
   ]
  },
  {
   "cell_type": "code",
   "execution_count": 8,
   "metadata": {},
   "outputs": [
    {
     "data": {
      "text/html": [
       "<div>\n",
       "<style scoped>\n",
       "    .dataframe tbody tr th:only-of-type {\n",
       "        vertical-align: middle;\n",
       "    }\n",
       "\n",
       "    .dataframe tbody tr th {\n",
       "        vertical-align: top;\n",
       "    }\n",
       "\n",
       "    .dataframe thead th {\n",
       "        text-align: right;\n",
       "    }\n",
       "</style>\n",
       "<table border=\"1\" class=\"dataframe\">\n",
       "  <thead>\n",
       "    <tr style=\"text-align: right;\">\n",
       "      <th></th>\n",
       "      <th>useful</th>\n",
       "    </tr>\n",
       "  </thead>\n",
       "  <tbody>\n",
       "    <tr>\n",
       "      <th>0</th>\n",
       "      <td>4758168</td>\n",
       "    </tr>\n",
       "    <tr>\n",
       "      <th>1</th>\n",
       "      <td>1827011</td>\n",
       "    </tr>\n",
       "    <tr>\n",
       "      <th>2</th>\n",
       "      <td>839327</td>\n",
       "    </tr>\n",
       "    <tr>\n",
       "      <th>3</th>\n",
       "      <td>433797</td>\n",
       "    </tr>\n",
       "    <tr>\n",
       "      <th>4</th>\n",
       "      <td>242723</td>\n",
       "    </tr>\n",
       "  </tbody>\n",
       "</table>\n",
       "</div>"
      ],
      "text/plain": [
       "    useful\n",
       "0  4758168\n",
       "1  1827011\n",
       "2   839327\n",
       "3   433797\n",
       "4   242723"
      ]
     },
     "execution_count": 8,
     "metadata": {},
     "output_type": "execute_result"
    }
   ],
   "source": [
    "df1.head()"
   ]
  },
  {
   "cell_type": "code",
   "execution_count": 6,
   "metadata": {},
   "outputs": [],
   "source": [
    "import matplotlib.pyplot as plt\n",
    "import numpy as np\n",
    "import matplotlib"
   ]
  },
  {
   "cell_type": "code",
   "execution_count": 18,
   "metadata": {},
   "outputs": [],
   "source": [
    "name_list = list(df1.index)"
   ]
  },
  {
   "cell_type": "code",
   "execution_count": 22,
   "metadata": {},
   "outputs": [
    {
     "data": {
      "image/png": "[encoded data removed]",
      "text/plain": [
       "<Figure size 720x360 with 1 Axes>"
      ]
     },
     "metadata": {
      "needs_background": "light"
     },
     "output_type": "display_data"
    }
   ],
   "source": [
    "\n",
    "plt.figure(figsize=(10,5))\n",
    "plt.bar(range(len(df1)),df1['useful'])\n",
    "plt.show()"
   ]
  },
  {
   "cell_type": "code",
   "execution_count": 24,
   "metadata": {},
   "outputs": [
    {
     "data": {
      "image/png": "[encoded data removed]",
      "text/plain": [
       "<Figure size 720x360 with 1 Axes>"
      ]
     },
     "metadata": {
      "needs_background": "light"
     },
     "output_type": "display_data"
    }
   ],
   "source": [
    "plt.figure(figsize=(10,5))\n",
    "name_list = ['not useful','moderate useful','useful']\n",
    "num_list = [24256,17358,13637]\n",
    "plt.bar(range(len(num_list)), num_list,tick_label=name_list)\n",
    "plt.show()"
   ]
  },
  {
   "cell_type": "code",
   "execution_count": null,
   "metadata": {},
   "outputs": [],
   "source": [
    "not useful         24256\n",
    "moderate useful    17358\n",
    "useful             13637\n"
   ]
  },
  {
   "cell_type": "code",
   "execution_count": 7,
   "metadata": {},
   "outputs": [
    {
     "ename": "AttributeError",
     "evalue": "'Rectangle' object has no property 'normed'",
     "output_type": "error",
     "traceback": [
      "\u001b[1;31m---------------------------------------------------------------------------\u001b[0m",
      "\u001b[1;31mAttributeError\u001b[0m                            Traceback (most recent call last)",
      "\u001b[1;32m<ipython-input-7-ac6857e440ca>\u001b[0m in \u001b[0;36m<module>\u001b[1;34m\u001b[0m\n\u001b[1;32m----> 1\u001b[1;33m \u001b[0mplt\u001b[0m\u001b[1;33m.\u001b[0m\u001b[0mhist\u001b[0m\u001b[1;33m(\u001b[0m\u001b[0mdf1\u001b[0m\u001b[1;33m,\u001b[0m \u001b[0mbins\u001b[0m\u001b[1;33m=\u001b[0m\u001b[1;36m40\u001b[0m\u001b[1;33m,\u001b[0m \u001b[0mnormed\u001b[0m\u001b[1;33m=\u001b[0m\u001b[1;36m0\u001b[0m\u001b[1;33m,\u001b[0m \u001b[0mfacecolor\u001b[0m\u001b[1;33m=\u001b[0m\u001b[1;34m\"blue\"\u001b[0m\u001b[1;33m,\u001b[0m \u001b[0medgecolor\u001b[0m\u001b[1;33m=\u001b[0m\u001b[1;34m\"black\"\u001b[0m\u001b[1;33m,\u001b[0m \u001b[0malpha\u001b[0m\u001b[1;33m=\u001b[0m\u001b[1;36m0.7\u001b[0m\u001b[1;33m)\u001b[0m\u001b[1;33m\u001b[0m\u001b[1;33m\u001b[0m\u001b[0m\n\u001b[0m\u001b[0;32m      2\u001b[0m \u001b[1;31m# 显示横轴标签\u001b[0m\u001b[1;33m\u001b[0m\u001b[1;33m\u001b[0m\u001b[1;33m\u001b[0m\u001b[0m\n\u001b[0;32m      3\u001b[0m \u001b[0mplt\u001b[0m\u001b[1;33m.\u001b[0m\u001b[0mxlabel\u001b[0m\u001b[1;33m(\u001b[0m\u001b[1;34m\"区间\"\u001b[0m\u001b[1;33m)\u001b[0m\u001b[1;33m\u001b[0m\u001b[1;33m\u001b[0m\u001b[0m\n\u001b[0;32m      4\u001b[0m \u001b[1;31m# 显示纵轴标签\u001b[0m\u001b[1;33m\u001b[0m\u001b[1;33m\u001b[0m\u001b[1;33m\u001b[0m\u001b[0m\n\u001b[0;32m      5\u001b[0m \u001b[0mplt\u001b[0m\u001b[1;33m.\u001b[0m\u001b[0mylabel\u001b[0m\u001b[1;33m(\u001b[0m\u001b[1;34m\"频数/频率\"\u001b[0m\u001b[1;33m)\u001b[0m\u001b[1;33m\u001b[0m\u001b[1;33m\u001b[0m\u001b[0m\n",
      "\u001b[1;32m~\\anaconda3\\lib\\site-packages\\matplotlib\\pyplot.py\u001b[0m in \u001b[0;36mhist\u001b[1;34m(x, bins, range, density, weights, cumulative, bottom, histtype, align, orientation, rwidth, log, color, label, stacked, data, **kwargs)\u001b[0m\n\u001b[0;32m   2683\u001b[0m         \u001b[0morientation\u001b[0m\u001b[1;33m=\u001b[0m\u001b[1;34m'vertical'\u001b[0m\u001b[1;33m,\u001b[0m \u001b[0mrwidth\u001b[0m\u001b[1;33m=\u001b[0m\u001b[1;32mNone\u001b[0m\u001b[1;33m,\u001b[0m \u001b[0mlog\u001b[0m\u001b[1;33m=\u001b[0m\u001b[1;32mFalse\u001b[0m\u001b[1;33m,\u001b[0m \u001b[0mcolor\u001b[0m\u001b[1;33m=\u001b[0m\u001b[1;32mNone\u001b[0m\u001b[1;33m,\u001b[0m\u001b[1;33m\u001b[0m\u001b[1;33m\u001b[0m\u001b[0m\n\u001b[0;32m   2684\u001b[0m         label=None, stacked=False, *, data=None, **kwargs):\n\u001b[1;32m-> 2685\u001b[1;33m     return gca().hist(\n\u001b[0m\u001b[0;32m   2686\u001b[0m         \u001b[0mx\u001b[0m\u001b[1;33m,\u001b[0m \u001b[0mbins\u001b[0m\u001b[1;33m=\u001b[0m\u001b[0mbins\u001b[0m\u001b[1;33m,\u001b[0m \u001b[0mrange\u001b[0m\u001b[1;33m=\u001b[0m\u001b[0mrange\u001b[0m\u001b[1;33m,\u001b[0m \u001b[0mdensity\u001b[0m\u001b[1;33m=\u001b[0m\u001b[0mdensity\u001b[0m\u001b[1;33m,\u001b[0m \u001b[0mweights\u001b[0m\u001b[1;33m=\u001b[0m\u001b[0mweights\u001b[0m\u001b[1;33m,\u001b[0m\u001b[1;33m\u001b[0m\u001b[1;33m\u001b[0m\u001b[0m\n\u001b[0;32m   2687\u001b[0m         \u001b[0mcumulative\u001b[0m\u001b[1;33m=\u001b[0m\u001b[0mcumulative\u001b[0m\u001b[1;33m,\u001b[0m \u001b[0mbottom\u001b[0m\u001b[1;33m=\u001b[0m\u001b[0mbottom\u001b[0m\u001b[1;33m,\u001b[0m \u001b[0mhisttype\u001b[0m\u001b[1;33m=\u001b[0m\u001b[0mhisttype\u001b[0m\u001b[1;33m,\u001b[0m\u001b[1;33m\u001b[0m\u001b[1;33m\u001b[0m\u001b[0m\n",
      "\u001b[1;32m~\\anaconda3\\lib\\site-packages\\matplotlib\\__init__.py\u001b[0m in \u001b[0;36minner\u001b[1;34m(ax, data, *args, **kwargs)\u001b[0m\n\u001b[0;32m   1436\u001b[0m     \u001b[1;32mdef\u001b[0m \u001b[0minner\u001b[0m\u001b[1;33m(\u001b[0m\u001b[0max\u001b[0m\u001b[1;33m,\u001b[0m \u001b[1;33m*\u001b[0m\u001b[0margs\u001b[0m\u001b[1;33m,\u001b[0m \u001b[0mdata\u001b[0m\u001b[1;33m=\u001b[0m\u001b[1;32mNone\u001b[0m\u001b[1;33m,\u001b[0m \u001b[1;33m**\u001b[0m\u001b[0mkwargs\u001b[0m\u001b[1;33m)\u001b[0m\u001b[1;33m:\u001b[0m\u001b[1;33m\u001b[0m\u001b[1;33m\u001b[0m\u001b[0m\n\u001b[0;32m   1437\u001b[0m         \u001b[1;32mif\u001b[0m \u001b[0mdata\u001b[0m \u001b[1;32mis\u001b[0m \u001b[1;32mNone\u001b[0m\u001b[1;33m:\u001b[0m\u001b[1;33m\u001b[0m\u001b[1;33m\u001b[0m\u001b[0m\n\u001b[1;32m-> 1438\u001b[1;33m             \u001b[1;32mreturn\u001b[0m \u001b[0mfunc\u001b[0m\u001b[1;33m(\u001b[0m\u001b[0max\u001b[0m\u001b[1;33m,\u001b[0m \u001b[1;33m*\u001b[0m\u001b[0mmap\u001b[0m\u001b[1;33m(\u001b[0m\u001b[0msanitize_sequence\u001b[0m\u001b[1;33m,\u001b[0m \u001b[0margs\u001b[0m\u001b[1;33m)\u001b[0m\u001b[1;33m,\u001b[0m \u001b[1;33m**\u001b[0m\u001b[0mkwargs\u001b[0m\u001b[1;33m)\u001b[0m\u001b[1;33m\u001b[0m\u001b[1;33m\u001b[0m\u001b[0m\n\u001b[0m\u001b[0;32m   1439\u001b[0m \u001b[1;33m\u001b[0m\u001b[0m\n\u001b[0;32m   1440\u001b[0m         \u001b[0mbound\u001b[0m \u001b[1;33m=\u001b[0m \u001b[0mnew_sig\u001b[0m\u001b[1;33m.\u001b[0m\u001b[0mbind\u001b[0m\u001b[1;33m(\u001b[0m\u001b[0max\u001b[0m\u001b[1;33m,\u001b[0m \u001b[1;33m*\u001b[0m\u001b[0margs\u001b[0m\u001b[1;33m,\u001b[0m \u001b[1;33m**\u001b[0m\u001b[0mkwargs\u001b[0m\u001b[1;33m)\u001b[0m\u001b[1;33m\u001b[0m\u001b[1;33m\u001b[0m\u001b[0m\n",
      "\u001b[1;32m~\\anaconda3\\lib\\site-packages\\matplotlib\\axes\\_axes.py\u001b[0m in \u001b[0;36mhist\u001b[1;34m(self, x, bins, range, density, weights, cumulative, bottom, histtype, align, orientation, rwidth, log, color, label, stacked, **kwargs)\u001b[0m\n\u001b[0;32m   6818\u001b[0m             \u001b[1;32mif\u001b[0m \u001b[0mpatch\u001b[0m\u001b[1;33m:\u001b[0m\u001b[1;33m\u001b[0m\u001b[1;33m\u001b[0m\u001b[0m\n\u001b[0;32m   6819\u001b[0m                 \u001b[0mp\u001b[0m \u001b[1;33m=\u001b[0m \u001b[0mpatch\u001b[0m\u001b[1;33m[\u001b[0m\u001b[1;36m0\u001b[0m\u001b[1;33m]\u001b[0m\u001b[1;33m\u001b[0m\u001b[1;33m\u001b[0m\u001b[0m\n\u001b[1;32m-> 6820\u001b[1;33m                 \u001b[0mp\u001b[0m\u001b[1;33m.\u001b[0m\u001b[0mupdate\u001b[0m\u001b[1;33m(\u001b[0m\u001b[0mkwargs\u001b[0m\u001b[1;33m)\u001b[0m\u001b[1;33m\u001b[0m\u001b[1;33m\u001b[0m\u001b[0m\n\u001b[0m\u001b[0;32m   6821\u001b[0m                 \u001b[1;32mif\u001b[0m \u001b[0mlbl\u001b[0m \u001b[1;32mis\u001b[0m \u001b[1;32mnot\u001b[0m \u001b[1;32mNone\u001b[0m\u001b[1;33m:\u001b[0m\u001b[1;33m\u001b[0m\u001b[1;33m\u001b[0m\u001b[0m\n\u001b[0;32m   6822\u001b[0m                     \u001b[0mp\u001b[0m\u001b[1;33m.\u001b[0m\u001b[0mset_label\u001b[0m\u001b[1;33m(\u001b[0m\u001b[0mlbl\u001b[0m\u001b[1;33m)\u001b[0m\u001b[1;33m\u001b[0m\u001b[1;33m\u001b[0m\u001b[0m\n",
      "\u001b[1;32m~\\anaconda3\\lib\\site-packages\\matplotlib\\artist.py\u001b[0m in \u001b[0;36mupdate\u001b[1;34m(self, props)\u001b[0m\n\u001b[0;32m    994\u001b[0m                     \u001b[0mfunc\u001b[0m \u001b[1;33m=\u001b[0m \u001b[0mgetattr\u001b[0m\u001b[1;33m(\u001b[0m\u001b[0mself\u001b[0m\u001b[1;33m,\u001b[0m \u001b[1;34mf\"set_{k}\"\u001b[0m\u001b[1;33m,\u001b[0m \u001b[1;32mNone\u001b[0m\u001b[1;33m)\u001b[0m\u001b[1;33m\u001b[0m\u001b[1;33m\u001b[0m\u001b[0m\n\u001b[0;32m    995\u001b[0m                     \u001b[1;32mif\u001b[0m \u001b[1;32mnot\u001b[0m \u001b[0mcallable\u001b[0m\u001b[1;33m(\u001b[0m\u001b[0mfunc\u001b[0m\u001b[1;33m)\u001b[0m\u001b[1;33m:\u001b[0m\u001b[1;33m\u001b[0m\u001b[1;33m\u001b[0m\u001b[0m\n\u001b[1;32m--> 996\u001b[1;33m                         raise AttributeError(f\"{type(self).__name__!r} object \"\n\u001b[0m\u001b[0;32m    997\u001b[0m                                              f\"has no property {k!r}\")\n\u001b[0;32m    998\u001b[0m                     \u001b[0mret\u001b[0m\u001b[1;33m.\u001b[0m\u001b[0mappend\u001b[0m\u001b[1;33m(\u001b[0m\u001b[0mfunc\u001b[0m\u001b[1;33m(\u001b[0m\u001b[0mv\u001b[0m\u001b[1;33m)\u001b[0m\u001b[1;33m)\u001b[0m\u001b[1;33m\u001b[0m\u001b[1;33m\u001b[0m\u001b[0m\n",
      "\u001b[1;31mAttributeError\u001b[0m: 'Rectangle' object has no property 'normed'"
     ]
    },
    {
     "data": {
      "image/png": "[encoded data removed]",
      "text/plain": [
       "<Figure size 432x288 with 1 Axes>"
      ]
     },
     "metadata": {
      "needs_background": "light"
     },
     "output_type": "display_data"
    }
   ],
   "source": [
    "plt.hist(df1, bins=40, normed=0, facecolor=\"blue\", edgecolor=\"black\", alpha=0.7)\n",
    "# 显示横轴标签\n",
    "plt.xlabel(\"区间\")\n",
    "# 显示纵轴标签\n",
    "plt.ylabel(\"频数/频率\")\n",
    "# 显示图标题\n",
    "plt.title(\"频数/频率分布直方图\")\n",
    "plt.show()"
   ]
  },
  {
   "cell_type": "code",
   "execution_count": 4,
   "metadata": {},
   "outputs": [
    {
     "data": {
      "text/plain": [
       "8635403"
      ]
     },
     "execution_count": 4,
     "metadata": {},
     "output_type": "execute_result"
    }
   ],
   "source": [
    "len(Review2)"
   ]
  },
  {
   "cell_type": "code",
   "execution_count": null,
   "metadata": {},
   "outputs": [],
   "source": []
  },
  {
   "cell_type": "code",
   "execution_count": 10,
   "metadata": {},
   "outputs": [],
   "source": [
    "Test = Review2.head(50000)"
   ]
  },
  {
   "cell_type": "code",
   "execution_count": 20,
   "metadata": {},
   "outputs": [
    {
     "data": {
      "text/plain": [
       "56"
      ]
     },
     "execution_count": 20,
     "metadata": {},
     "output_type": "execute_result"
    }
   ],
   "source": [
    "Test1=Test[(Test['useful']> 10)]\n",
    "Test1_use=Test1.sample(n=56,random_state=1)\n",
    "len(Test1_use)"
   ]
  },
  {
   "cell_type": "code",
   "execution_count": 22,
   "metadata": {},
   "outputs": [
    {
     "data": {
      "text/plain": [
       "80"
      ]
     },
     "execution_count": 22,
     "metadata": {},
     "output_type": "execute_result"
    }
   ],
   "source": [
    "Test2=Test[(Test['useful']>5)&(Test['useful']<=10)]\n",
    "Test2_use=Test2.sample(n=80,random_state=1)\n",
    "len(Test2_use)"
   ]
  },
  {
   "cell_type": "code",
   "execution_count": 24,
   "metadata": {},
   "outputs": [
    {
     "data": {
      "text/plain": [
       "64"
      ]
     },
     "execution_count": 24,
     "metadata": {},
     "output_type": "execute_result"
    }
   ],
   "source": [
    "Test3=Test[(Test['useful']<=5)&(Test['useful']>1)]\n",
    "Test3_use=Test3.sample(n=64,random_state=1)\n",
    "len(Test3_use)"
   ]
  },
  {
   "cell_type": "code",
   "execution_count": 25,
   "metadata": {},
   "outputs": [
    {
     "data": {
      "text/plain": [
       "100"
      ]
     },
     "execution_count": 25,
     "metadata": {},
     "output_type": "execute_result"
    }
   ],
   "source": [
    "Test4=Test[(Test['useful']<1)]\n",
    "Test4_use=Test4.sample(n=100,random_state=1)\n",
    "len(Test4_use)"
   ]
  },
  {
   "cell_type": "code",
   "execution_count": 60,
   "metadata": {},
   "outputs": [
    {
     "data": {
      "text/plain": [
       "300"
      ]
     },
     "execution_count": 60,
     "metadata": {},
     "output_type": "execute_result"
    }
   ],
   "source": [
    "review_sample = pd.concat([Test1_use, Test2_use, Test3_use, Test4_use], axis=0)\n",
    "len(review_sample)"
   ]
  },
  {
   "cell_type": "code",
   "execution_count": 57,
   "metadata": {},
   "outputs": [],
   "source": [
    "review_sample['useful_level']=review_sample['useful']"
   ]
  },
  {
   "cell_type": "code",
   "execution_count": 64,
   "metadata": {},
   "outputs": [],
   "source": [
    "review_sample.loc[review_sample['useful']>10,'useful_level']=4"
   ]
  },
  {
   "cell_type": "code",
   "execution_count": 63,
   "metadata": {},
   "outputs": [],
   "source": [
    "review_sample.loc[ (review_sample['useful']>5) & (review_sample['useful']<=10) , 'useful_level' ] = 3"
   ]
  },
  {
   "cell_type": "code",
   "execution_count": 62,
   "metadata": {},
   "outputs": [],
   "source": [
    "review_sample.loc[ (review_sample['useful']>1) & (review_sample['useful']<=5) , 'useful_level' ] = 2"
   ]
  },
  {
   "cell_type": "code",
   "execution_count": 61,
   "metadata": {},
   "outputs": [],
   "source": [
    "review_sample.loc[review_sample['useful']<=1,'useful_level']=1"
   ]
  },
  {
   "cell_type": "code",
   "execution_count": null,
   "metadata": {},
   "outputs": [],
   "source": [
    "#review_sample['useful_level'][review_sample['useful_level']>10] = 4\n",
    "#review_sample['useful_level'][review_sample['useful_level']>5] = 4\n",
    "# https://blog.csdn.net/destiny_python/article/details/78675036\n"
   ]
  },
  {
   "cell_type": "code",
   "execution_count": 45,
   "metadata": {},
   "outputs": [],
   "source": [
    "#review_sample.loc[review_sample['useful_level']>5,'useful_level']=='useful3'\n",
    "\n",
    "#review_sample.loc[ review_sample['useful_level']>1,'useful_level']=='useful2'\n",
    "review_sample.loc[review_sample['useful']<=1,'useful_level']=1\n",
    "review_sample.loc[ (review_sample['useful']>1) | (review_sample['useful']<=5) , 'useful_level' ] = 2\n",
    "review_sample.loc[ (review_sample['useful']>5) | (review_sample['useful']<=10) , 'useful_level' ] = 3\n",
    "review_sample.loc[review_sample['useful']>10,'useful_level']=4"
   ]
  },
  {
   "cell_type": "code",
   "execution_count": 66,
   "metadata": {},
   "outputs": [],
   "source": [
    "review_sample.to_csv('review_sample.csv', sep=',', index=False)"
   ]
  },
  {
   "cell_type": "code",
   "execution_count": 2,
   "metadata": {},
   "outputs": [],
   "source": [
    "review_sample=pd.read_csv('review_sample.csv')"
   ]
  },
  {
   "cell_type": "code",
   "execution_count": 3,
   "metadata": {},
   "outputs": [],
   "source": [
    "import liwc"
   ]
  },
  {
   "cell_type": "code",
   "execution_count": 4,
   "metadata": {},
   "outputs": [
    {
     "data": {
      "text/html": [
       "<div>\n",
       "<style scoped>\n",
       "    .dataframe tbody tr th:only-of-type {\n",
       "        vertical-align: middle;\n",
       "    }\n",
       "\n",
       "    .dataframe tbody tr th {\n",
       "        vertical-align: top;\n",
       "    }\n",
       "\n",
       "    .dataframe thead th {\n",
       "        text-align: right;\n",
       "    }\n",
       "</style>\n",
       "<table border=\"1\" class=\"dataframe\">\n",
       "  <thead>\n",
       "    <tr style=\"text-align: right;\">\n",
       "      <th></th>\n",
       "      <th>Unnamed: 0</th>\n",
       "      <th>review_id</th>\n",
       "      <th>user_id</th>\n",
       "      <th>business_id</th>\n",
       "      <th>stars</th>\n",
       "      <th>useful</th>\n",
       "      <th>funny</th>\n",
       "      <th>cool</th>\n",
       "      <th>text</th>\n",
       "      <th>date</th>\n",
       "      <th>useful_level</th>\n",
       "    </tr>\n",
       "  </thead>\n",
       "  <tbody>\n",
       "    <tr>\n",
       "      <th>0</th>\n",
       "      <td>38869</td>\n",
       "      <td>MjnHa2qe5_BLKOv2Yk7dxQ</td>\n",
       "      <td>dSVqrbqRoH4_a0CV4TqPzw</td>\n",
       "      <td>zH5SKmxO4-YalZnMMQRPtA</td>\n",
       "      <td>1.0</td>\n",
       "      <td>14</td>\n",
       "      <td>6</td>\n",
       "      <td>1</td>\n",
       "      <td>DO NOT SHOP HERE!!!!!!!!!!!!!!!!!!!!  BE FOREW...</td>\n",
       "      <td>2009-10-21 17:14:39</td>\n",
       "      <td>4.0</td>\n",
       "    </tr>\n",
       "    <tr>\n",
       "      <th>1</th>\n",
       "      <td>41643</td>\n",
       "      <td>4iKp1TPdLGh6Jcq-wa8DrA</td>\n",
       "      <td>GmHLPpVYrC3ibFwSrhONPw</td>\n",
       "      <td>U5fyW8R622QWtsFrbgwg8Q</td>\n",
       "      <td>5.0</td>\n",
       "      <td>13</td>\n",
       "      <td>2</td>\n",
       "      <td>0</td>\n",
       "      <td>I laughed when my wife told me the double-digi...</td>\n",
       "      <td>2013-01-03 22:19:44</td>\n",
       "      <td>4.0</td>\n",
       "    </tr>\n",
       "    <tr>\n",
       "      <th>2</th>\n",
       "      <td>12479</td>\n",
       "      <td>IcSchN-nE9mWCTM5oeBK8g</td>\n",
       "      <td>bo-T1AOS1mR-Xcr-PBBIiA</td>\n",
       "      <td>upY1H63uocaOJm_cBD81ww</td>\n",
       "      <td>2.0</td>\n",
       "      <td>13</td>\n",
       "      <td>1</td>\n",
       "      <td>1</td>\n",
       "      <td>My partner and I were tenants at this property...</td>\n",
       "      <td>2016-03-17 23:14:23</td>\n",
       "      <td>4.0</td>\n",
       "    </tr>\n",
       "  </tbody>\n",
       "</table>\n",
       "</div>"
      ],
      "text/plain": [
       "   Unnamed: 0               review_id                 user_id  \\\n",
       "0       38869  MjnHa2qe5_BLKOv2Yk7dxQ  dSVqrbqRoH4_a0CV4TqPzw   \n",
       "1       41643  4iKp1TPdLGh6Jcq-wa8DrA  GmHLPpVYrC3ibFwSrhONPw   \n",
       "2       12479  IcSchN-nE9mWCTM5oeBK8g  bo-T1AOS1mR-Xcr-PBBIiA   \n",
       "\n",
       "              business_id  stars  useful  funny  cool  \\\n",
       "0  zH5SKmxO4-YalZnMMQRPtA    1.0      14      6     1   \n",
       "1  U5fyW8R622QWtsFrbgwg8Q    5.0      13      2     0   \n",
       "2  upY1H63uocaOJm_cBD81ww    2.0      13      1     1   \n",
       "\n",
       "                                                text                 date  \\\n",
       "0  DO NOT SHOP HERE!!!!!!!!!!!!!!!!!!!!  BE FOREW...  2009-10-21 17:14:39   \n",
       "1  I laughed when my wife told me the double-digi...  2013-01-03 22:19:44   \n",
       "2  My partner and I were tenants at this property...  2016-03-17 23:14:23   \n",
       "\n",
       "   useful_level  \n",
       "0           4.0  \n",
       "1           4.0  \n",
       "2           4.0  "
      ]
     },
     "execution_count": 4,
     "metadata": {},
     "output_type": "execute_result"
    }
   ],
   "source": [
    "review_sample.head(3)"
   ]
  },
  {
   "cell_type": "code",
   "execution_count": 7,
   "metadata": {},
   "outputs": [],
   "source": [
    "stri=review_sample.iat[2,8]"
   ]
  },
  {
   "cell_type": "code",
   "execution_count": 97,
   "metadata": {},
   "outputs": [
    {
     "data": {
      "text/plain": [
       "'My partner and I were tenants at this property for a year  The location is perfect--close to the north end across the TD Garden a few steps away from Quincy Marker and a  minute walk to downtown Boston  The concierge is wonderful-- very attentive and engaged with the community  Compared to other buildings this property has relatively decent amenities Management is perhaps the worst The manager and staff do not care about residents they do not respond to requests are unfriendly driven by new tenants rather than keeping existing tenants and are not able to create any feeling of community'"
      ]
     },
     "execution_count": 97,
     "metadata": {},
     "output_type": "execute_result"
    }
   ],
   "source": [
    "re.sub(\"[^-9A-Za-z ]\", \"\" , review_sample.iat[2,8])"
   ]
  },
  {
   "cell_type": "code",
   "execution_count": 10,
   "metadata": {},
   "outputs": [],
   "source": [
    "stri1 = review_sample.iat[2,8]"
   ]
  },
  {
   "cell_type": "code",
   "execution_count": 11,
   "metadata": {},
   "outputs": [
    {
     "data": {
      "text/plain": [
       "'My partner and I were tenants at this property for a year \\n\\n1 The location is perfectclose to the north end across the TD Garden a few steps away from Quincy Marker and a 15 minute walk to downtown Boston \\n\\n2 The concierge is wonderful very attentive and engaged with the community \\n\\n3 Compared to other buildings this property has relatively decent amenities\\n\\n4 Management is perhaps the worst The manager and staff do not care about residents they do not respond to requests are unfriendly driven by new tenants rather than keeping existing tenants and are not able to create any feeling of community'"
      ]
     },
     "execution_count": 11,
     "metadata": {},
     "output_type": "execute_result"
    }
   ],
   "source": [
    "# 先用\n",
    "s1 = re.sub(r'[^\\w\\s]','',stri)\n",
    "s1"
   ]
  },
  {
   "cell_type": "code",
   "execution_count": 12,
   "metadata": {},
   "outputs": [
    {
     "data": {
      "text/plain": [
       "'My partner and I were tenants at this property for a year  The location is perfectclose to the north end across the TD Garden a few steps away from Quincy Marker and a 15 minute walk to downtown Boston  The concierge is wonderful very attentive and engaged with the community  Compared to other buildings this property has relatively decent amenities Management is perhaps the worst The manager and staff do not care about residents they do not respond to requests are unfriendly driven by new tenants rather than keeping existing tenants and are not able to create any feeling of community'"
      ]
     },
     "execution_count": 12,
     "metadata": {},
     "output_type": "execute_result"
    }
   ],
   "source": [
    "# 用这个！！！\n",
    "s2=re.sub(r'\\n[0-9]?(spoilers)?', '',s1)\n",
    "s2"
   ]
  },
  {
   "cell_type": "code",
   "execution_count": null,
   "metadata": {},
   "outputs": [],
   "source": []
  }
 ],
 "metadata": {
  "kernelspec": {
   "display_name": "Python 3",
   "language": "python",
   "name": "python3"
  },
  "language_info": {
   "codemirror_mode": {
    "name": "ipython",
    "version": 3
   },
   "file_extension": ".py",
   "mimetype": "text/x-python",
   "name": "python",
   "nbconvert_exporter": "python",
   "pygments_lexer": "ipython3",
   "version": "3.8.5"
  }
 },
 "nbformat": 4,
 "nbformat_minor": 4
}

{
 "cells": [
  {
   "cell_type": "code",
   "execution_count": 1,
   "metadata": {},
   "outputs": [],
   "source": [
    "import pandas as pd\n",
    "import json\n",
    "import ijson\n",
    "import os\n",
    "import json\n",
    "import re"
   ]
  },
  {
   "cell_type": "code",
   "execution_count": 4,
   "metadata": {},
   "outputs": [],
   "source": [
    "user_path = 'C:/Users/Fannie/Desktop/yelp_academic_dataset_user.json'"
   ]
  },
  {
   "cell_type": "code",
   "execution_count": 19,
   "metadata": {},
   "outputs": [],
   "source": [
    "with open(user_path,encoding=\"utf8\") as file:\n",
    "\n",
    "    parser = ijson.parse(file, multiple_values=True)\n",
    "    user_id = []\n",
    "    name = []\n",
    "    review_count = []\n",
    "    yelping_since = []\n",
    "    friends = []\n",
    "    useful=[]\n",
    "    funny = []\n",
    "    cool = []\n",
    "    fans = []\n",
    "    elite = []\n",
    "    average_stars=[]\n",
    "    compliment_hot=[]\n",
    "    compliment_more=[]\n",
    "    compliment_profile=[]\n",
    "    compliment_cute=[]\n",
    "    compliment_list=[]\n",
    "    compliment_note=[]\n",
    "    compliment_plain=[]\n",
    "    compliment_cool=[]\n",
    "    compliment_funny=[]\n",
    "    compliment_writer=[]\n",
    "    compliment_photos=[]\n",
    "    \n",
    "    for prefix, event, value in parser:\n",
    "\n",
    "            \n",
    "        if prefix==\"user_id\":\n",
    "            user_id.append(value)\n",
    "\n",
    "        if prefix==\"name\":\n",
    "            name.append(value)\n",
    "            \n",
    "        if prefix==\"review_count\":\n",
    "            review_count.append(value)\n",
    "\n",
    "        if prefix==\"yelping_since\":\n",
    "            yelping_since.append(value)\n",
    "\n",
    "        if prefix==\"friends\":\n",
    "            friends.append(value)\n",
    "\n",
    "        if prefix==\"useful\":\n",
    "            useful.append(value)\n",
    "\n",
    "        if prefix==\"funny\":\n",
    "            funny.append(value)\n",
    "\n",
    "        if prefix==\"cool\":\n",
    "            cool.append(value)\n",
    "            \n",
    "        if prefix==\"fans\":\n",
    "            fans.append(value)\n",
    "            \n",
    "        if prefix==\"elite\":\n",
    "            elite.append(value)\n",
    "            \n",
    "        if prefix==\"average_stars\":\n",
    "            average_stars.append(value)\n",
    "            \n",
    "        if prefix==\"compliment_hot\":\n",
    "            compliment_hot.append(value)\n",
    "            \n",
    "        if prefix==\"compliment_more\":\n",
    "            compliment_more.append(value)\n",
    "            \n",
    "        if prefix==\"compliment_profile\":\n",
    "            compliment_profile.append(value)\n",
    "            \n",
    "        if prefix==\"compliment_cute\":\n",
    "            compliment_cute.append(value)\n",
    "            \n",
    "        if prefix==\"compliment_list\":\n",
    "            compliment_list.append(value)\n",
    "            \n",
    "        if prefix==\"compliment_note\":\n",
    "            compliment_note.append(value)\n",
    "            \n",
    "        if prefix==\"compliment_plain\":\n",
    "            compliment_plain.append(value)\n",
    "            \n",
    "        if prefix==\"compliment_cool\":\n",
    "            compliment_cool.append(value)\n",
    "            \n",
    "        if prefix==\"compliment_funny\":\n",
    "            compliment_funny.append(value)\n",
    "            \n",
    "        if prefix==\"compliment_writer\":\n",
    "            compliment_writer.append(value)\n",
    "            \n",
    "        if prefix==\"compliment_photos\":\n",
    "            compliment_photos.append(value)"
   ]
  },
  {
   "cell_type": "code",
   "execution_count": 13,
   "metadata": {},
   "outputs": [
    {
     "data": {
      "text/plain": [
       "2189457"
      ]
     },
     "execution_count": 13,
     "metadata": {},
     "output_type": "execute_result"
    }
   ],
   "source": [
    "len(user_id)"
   ]
  },
  {
   "cell_type": "code",
   "execution_count": 14,
   "metadata": {},
   "outputs": [
    {
     "data": {
      "text/plain": [
       "2189457"
      ]
     },
     "execution_count": 14,
     "metadata": {},
     "output_type": "execute_result"
    }
   ],
   "source": [
    "len(name)"
   ]
  },
  {
   "cell_type": "code",
   "execution_count": 15,
   "metadata": {},
   "outputs": [
    {
     "data": {
      "text/plain": [
       "2189457"
      ]
     },
     "execution_count": 15,
     "metadata": {},
     "output_type": "execute_result"
    }
   ],
   "source": [
    "len(yelping_since)"
   ]
  },
  {
   "cell_type": "code",
   "execution_count": 16,
   "metadata": {},
   "outputs": [
    {
     "data": {
      "text/plain": [
       "2189457"
      ]
     },
     "execution_count": 16,
     "metadata": {},
     "output_type": "execute_result"
    }
   ],
   "source": [
    "len(friends)"
   ]
  },
  {
   "cell_type": "code",
   "execution_count": 20,
   "metadata": {},
   "outputs": [
    {
     "data": {
      "text/plain": [
       "2189457"
      ]
     },
     "execution_count": 20,
     "metadata": {},
     "output_type": "execute_result"
    }
   ],
   "source": [
    "len(useful)"
   ]
  },
  {
   "cell_type": "code",
   "execution_count": 21,
   "metadata": {},
   "outputs": [
    {
     "data": {
      "text/plain": [
       "2189457"
      ]
     },
     "execution_count": 21,
     "metadata": {},
     "output_type": "execute_result"
    }
   ],
   "source": [
    "len(funny)"
   ]
  },
  {
   "cell_type": "code",
   "execution_count": 22,
   "metadata": {},
   "outputs": [],
   "source": [
    "User = pd.DataFrame({'user_id':user_id,'name':name, 'review_count':review_count, 'yelping_since':yelping_since, 'friends':friends, \n",
    "                        'useful':useful, 'funny':funny, 'cool':cool, 'fans':fans, 'elite':elite, 'average_stars':average_stars,\n",
    "                     'compliment_hot':compliment_hot, 'compliment_more':compliment_more, \n",
    "                     ' compliment_profile': compliment_profile, 'compliment_cute':compliment_cute, \n",
    "                     'compliment_list':compliment_list, 'compliment_note':compliment_note, 'compliment_plain':compliment_plain,\n",
    "                     'compliment_cool':compliment_cool, 'compliment_funny':compliment_funny, \n",
    "                     'compliment_writer':compliment_writer, 'compliment_photos':compliment_photos})"
   ]
  },
  {
   "cell_type": "code",
   "execution_count": 23,
   "metadata": {},
   "outputs": [],
   "source": [
    "fromreview=pd.read_csv('Review_project_sentiment.csv')"
   ]
  },
  {
   "cell_type": "code",
   "execution_count": 27,
   "metadata": {},
   "outputs": [],
   "source": [
    "userlist=list(fromreview['user_id'])"
   ]
  },
  {
   "cell_type": "code",
   "execution_count": 29,
   "metadata": {},
   "outputs": [],
   "source": [
    "user_select=User.loc[User['user_id'].isin(userlist)]"
   ]
  },
  {
   "cell_type": "code",
   "execution_count": 31,
   "metadata": {},
   "outputs": [],
   "source": [
    "user_select=user_select[['user_id','review_count','yelping_since','fans','elite','average_stars']]"
   ]
  },
  {
   "cell_type": "code",
   "execution_count": 32,
   "metadata": {},
   "outputs": [
    {
     "data": {
      "text/html": [
       "<div>\n",
       "<style scoped>\n",
       "    .dataframe tbody tr th:only-of-type {\n",
       "        vertical-align: middle;\n",
       "    }\n",
       "\n",
       "    .dataframe tbody tr th {\n",
       "        vertical-align: top;\n",
       "    }\n",
       "\n",
       "    .dataframe thead th {\n",
       "        text-align: right;\n",
       "    }\n",
       "</style>\n",
       "<table border=\"1\" class=\"dataframe\">\n",
       "  <thead>\n",
       "    <tr style=\"text-align: right;\">\n",
       "      <th></th>\n",
       "      <th>user_id</th>\n",
       "      <th>review_count</th>\n",
       "      <th>yelping_since</th>\n",
       "      <th>fans</th>\n",
       "      <th>elite</th>\n",
       "      <th>average_stars</th>\n",
       "    </tr>\n",
       "  </thead>\n",
       "  <tbody>\n",
       "    <tr>\n",
       "      <th>1</th>\n",
       "      <td>dIIKEfOgo0KqUfGQvGikPg</td>\n",
       "      <td>2136</td>\n",
       "      <td>2007-08-10 19:01:51</td>\n",
       "      <td>1025</td>\n",
       "      <td>2007,2008,2009,2010,2011,2012,2013,2014,2015,2...</td>\n",
       "      <td>4.09</td>\n",
       "    </tr>\n",
       "    <tr>\n",
       "      <th>3</th>\n",
       "      <td>JnPIjvC0cmooNDfsa9BmXg</td>\n",
       "      <td>987</td>\n",
       "      <td>2009-02-09 16:14:29</td>\n",
       "      <td>420</td>\n",
       "      <td>2009,2010,2011,2012,2013,2014</td>\n",
       "      <td>3.77</td>\n",
       "    </tr>\n",
       "    <tr>\n",
       "      <th>7</th>\n",
       "      <td>cojecOwQJpsYDxnjtgzteQ</td>\n",
       "      <td>51</td>\n",
       "      <td>2010-07-04 17:18:40</td>\n",
       "      <td>4</td>\n",
       "      <td>2010,2011</td>\n",
       "      <td>3.79</td>\n",
       "    </tr>\n",
       "    <tr>\n",
       "      <th>8</th>\n",
       "      <td>1jXmzuIFKxTnEnR0pxO0Hg</td>\n",
       "      <td>299</td>\n",
       "      <td>2010-10-01 17:29:36</td>\n",
       "      <td>23</td>\n",
       "      <td>2010,2011,2012,2013,2014,2015</td>\n",
       "      <td>3.43</td>\n",
       "    </tr>\n",
       "    <tr>\n",
       "      <th>9</th>\n",
       "      <td>-8QoOIfvwwxJ4sY201WP5A</td>\n",
       "      <td>288</td>\n",
       "      <td>2007-08-04 20:21:09</td>\n",
       "      <td>25</td>\n",
       "      <td>2012,2013,2014,2015,2016,2017,2018</td>\n",
       "      <td>3.88</td>\n",
       "    </tr>\n",
       "  </tbody>\n",
       "</table>\n",
       "</div>"
      ],
      "text/plain": [
       "                  user_id  review_count        yelping_since  fans  \\\n",
       "1  dIIKEfOgo0KqUfGQvGikPg          2136  2007-08-10 19:01:51  1025   \n",
       "3  JnPIjvC0cmooNDfsa9BmXg           987  2009-02-09 16:14:29   420   \n",
       "7  cojecOwQJpsYDxnjtgzteQ            51  2010-07-04 17:18:40     4   \n",
       "8  1jXmzuIFKxTnEnR0pxO0Hg           299  2010-10-01 17:29:36    23   \n",
       "9  -8QoOIfvwwxJ4sY201WP5A           288  2007-08-04 20:21:09    25   \n",
       "\n",
       "                                               elite average_stars  \n",
       "1  2007,2008,2009,2010,2011,2012,2013,2014,2015,2...          4.09  \n",
       "3                      2009,2010,2011,2012,2013,2014          3.77  \n",
       "7                                          2010,2011          3.79  \n",
       "8                      2010,2011,2012,2013,2014,2015          3.43  \n",
       "9                 2012,2013,2014,2015,2016,2017,2018          3.88  "
      ]
     },
     "execution_count": 32,
     "metadata": {},
     "output_type": "execute_result"
    }
   ],
   "source": [
    "user_select.head()"
   ]
  },
  {
   "cell_type": "code",
   "execution_count": 33,
   "metadata": {},
   "outputs": [],
   "source": [
    "user_select.to_csv('user_selected.csv')"
   ]
  },
  {
   "cell_type": "code",
   "execution_count": 30,
   "metadata": {},
   "outputs": [
    {
     "data": {
      "text/plain": [
       "39203"
      ]
     },
     "execution_count": 30,
     "metadata": {},
     "output_type": "execute_result"
    }
   ],
   "source": [
    "len(user_select)"
   ]
  },
  {
   "cell_type": "code",
   "execution_count": null,
   "metadata": {},
   "outputs": [],
   "source": []
  },
  {
   "cell_type": "code",
   "execution_count": null,
   "metadata": {},
   "outputs": [],
   "source": []
  }
 ],
 "metadata": {
  "kernelspec": {
   "display_name": "Python 3",
   "language": "python",
   "name": "python3"
  },
  "language_info": {
   "codemirror_mode": {
    "name": "ipython",
    "version": 3
   },
   "file_extension": ".py",
   "mimetype": "text/x-python",
   "name": "python",
   "nbconvert_exporter": "python",
   "pygments_lexer": "ipython3",
   "version": "3.8.5"
  }
 },
 "nbformat": 4,
 "nbformat_minor": 4
}

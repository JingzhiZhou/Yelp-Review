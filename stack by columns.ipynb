{
 "cells": [
  {
   "cell_type": "code",
   "execution_count": 1,
   "metadata": {},
   "outputs": [],
   "source": [
    "import pandas as pd\n",
    "import numpy as np\n",
    "## for plotting\n",
    "import matplotlib.pyplot as plt\n",
    "import seaborn as sns\n",
    "## for processing\n",
    "import re\n",
    "import nltk\n",
    "## for bag-of-words\n",
    "from sklearn import feature_extraction, model_selection, naive_bayes, pipeline, manifold, preprocessing,feature_selection\n",
    "## for explainer\n",
    "from lime import lime_text\n",
    "## for word embedding\n",
    "import gensim\n",
    "import gensim.downloader as gensim_api\n",
    "## for deep learning\n",
    "from tensorflow.keras import models, layers, preprocessing as kprocessing\n",
    "from tensorflow.keras import backend as K\n",
    "## for bert language model\n",
    "import transformers"
   ]
  },
  {
   "cell_type": "code",
   "execution_count": 2,
   "metadata": {},
   "outputs": [],
   "source": [
    "from sklearn import feature_selection\n",
    "from sklearn import metrics\n",
    "from sklearn.preprocessing import LabelEncoder"
   ]
  },
  {
   "cell_type": "code",
   "execution_count": 62,
   "metadata": {},
   "outputs": [],
   "source": [
    "review1=pd.read_csv('Review_project_sentiment_wUser.csv')"
   ]
  },
  {
   "cell_type": "code",
   "execution_count": 63,
   "metadata": {},
   "outputs": [],
   "source": [
    "## Tf-Idf (advanced variant of BoW)\n",
    "vectorizer = feature_extraction.text.TfidfVectorizer(max_features=5000, ngram_range=(1,1))"
   ]
  },
  {
   "cell_type": "code",
   "execution_count": 64,
   "metadata": {},
   "outputs": [],
   "source": [
    "## split dataset\n",
    "dtf_train, dtf_test = model_selection.train_test_split(review1, test_size=0.3)\n",
    "## get target\n",
    "y_train = dtf_train[\"useful_level\"].values\n",
    "y_test = np.array(dtf_test[\"useful_level\"].values)"
   ]
  },
  {
   "cell_type": "code",
   "execution_count": 65,
   "metadata": {},
   "outputs": [],
   "source": [
    "corpus1 = dtf_train[\"text_clean\"]\n",
    "vectorizer.fit(corpus1)\n",
    "X_train = vectorizer.transform(corpus1)\n",
    "dic_vocabulary = vectorizer.vocabulary_"
   ]
  },
  {
   "cell_type": "code",
   "execution_count": 66,
   "metadata": {},
   "outputs": [],
   "source": [
    "y = dtf_train[\"useful_level\"]\n",
    "X_names = vectorizer.get_feature_names()\n",
    "p_value_limit = 0.95\n",
    "dtf_features = pd.DataFrame()\n",
    "for cat in np.unique(y):\n",
    "    chi2, p = feature_selection.chi2(X_train, y==cat)\n",
    "    dtf_features = dtf_features.append(pd.DataFrame(\n",
    "                   {\"feature\":X_names, \"score\":1-p, \"y\":cat}))\n",
    "    dtf_features = dtf_features.sort_values([\"y\",\"score\"], \n",
    "                    ascending=[True,False])\n",
    "    dtf_features = dtf_features[dtf_features[\"score\"]>p_value_limit]\n",
    "X_names = dtf_features[\"feature\"].unique().tolist()"
   ]
  },
  {
   "cell_type": "code",
   "execution_count": 67,
   "metadata": {},
   "outputs": [
    {
     "name": "stdout",
     "output_type": "stream",
     "text": [
      "# 0:\n",
      "  . selected features: 1536\n",
      "  . top features: company,food,great,amazing,atmosphere,call,told,see,review,month\n",
      " \n",
      "# 1:\n",
      "  . selected features: 547\n",
      "  . top features: great,food,car,apartment,said,office,told,call,dog,company\n",
      " \n",
      "# 2:\n",
      "  . selected features: 462\n",
      "  . top features: ride,park,ron,disney,food,tattoo,great,contract,mall,store\n",
      " \n"
     ]
    }
   ],
   "source": [
    "for cat in np.unique(y):\n",
    "    print(\"# {}:\".format(cat))\n",
    "    print(\"  . selected features:\",\n",
    "         len(dtf_features[dtf_features[\"y\"]==cat]))\n",
    "    print(\"  . top features:\", \",\".join(\n",
    "dtf_features[dtf_features[\"y\"]==cat][\"feature\"].values[:10]))\n",
    "    print(\" \")"
   ]
  },
  {
   "cell_type": "code",
   "execution_count": 68,
   "metadata": {},
   "outputs": [],
   "source": [
    "# refit vecorizor\n",
    "vectorizer = feature_extraction.text.TfidfVectorizer(vocabulary=X_names)\n",
    "vectorizer.fit(corpus1)\n",
    "X_train = vectorizer.transform(corpus1)\n",
    "dic_vocabulary = vectorizer.vocabulary_"
   ]
  },
  {
   "cell_type": "code",
   "execution_count": 69,
   "metadata": {},
   "outputs": [],
   "source": [
    "corpus2 = dtf_test[\"text_clean\"]\n",
    "X_test= vectorizer.transform(corpus2)"
   ]
  },
  {
   "cell_type": "code",
   "execution_count": 87,
   "metadata": {},
   "outputs": [
    {
     "data": {
      "text/plain": [
       "(38630, 21)"
      ]
     },
     "execution_count": 87,
     "metadata": {},
     "output_type": "execute_result"
    }
   ],
   "source": [
    "dtf_train.shape"
   ]
  },
  {
   "cell_type": "code",
   "execution_count": 88,
   "metadata": {},
   "outputs": [
    {
     "data": {
      "text/plain": [
       "(16557, 21)"
      ]
     },
     "execution_count": 88,
     "metadata": {},
     "output_type": "execute_result"
    }
   ],
   "source": [
    "dtf_test.shape"
   ]
  },
  {
   "cell_type": "code",
   "execution_count": 71,
   "metadata": {},
   "outputs": [],
   "source": [
    "AllotherTrain = dtf_train[[\"useful_level\", \"read_ease\", \"polarity\", \"subjectivity\", \n",
    "                           \"Adj_ratio\",'review_count','NumElite','average_stars','NumofWords']]"
   ]
  },
  {
   "cell_type": "code",
   "execution_count": 89,
   "metadata": {},
   "outputs": [
    {
     "data": {
      "text/plain": [
       "(38630, 1629)"
      ]
     },
     "execution_count": 89,
     "metadata": {},
     "output_type": "execute_result"
    }
   ],
   "source": [
    "X_train.shape"
   ]
  },
  {
   "cell_type": "code",
   "execution_count": 90,
   "metadata": {},
   "outputs": [
    {
     "data": {
      "text/plain": [
       "(16557, 1629)"
      ]
     },
     "execution_count": 90,
     "metadata": {},
     "output_type": "execute_result"
    }
   ],
   "source": [
    "X_test.shape"
   ]
  },
  {
   "cell_type": "code",
   "execution_count": 72,
   "metadata": {},
   "outputs": [],
   "source": [
    "EmbeddingTrain = pd.DataFrame(X_train.toarray(), columns = vectorizer.get_feature_names())"
   ]
  },
  {
   "cell_type": "code",
   "execution_count": 73,
   "metadata": {},
   "outputs": [],
   "source": [
    "for i in [\"useful_level\", \"read_ease\", \"polarity\", \"subjectivity\", \"Adj_ratio\",'review_count','NumElite','average_stars','NumofWords']:\n",
    "    EmbeddingTrain[i] = AllotherTrain[i].values"
   ]
  },
  {
   "cell_type": "code",
   "execution_count": 74,
   "metadata": {},
   "outputs": [
    {
     "data": {
      "text/html": [
       "<div>\n",
       "<style scoped>\n",
       "    .dataframe tbody tr th:only-of-type {\n",
       "        vertical-align: middle;\n",
       "    }\n",
       "\n",
       "    .dataframe tbody tr th {\n",
       "        vertical-align: top;\n",
       "    }\n",
       "\n",
       "    .dataframe thead th {\n",
       "        text-align: right;\n",
       "    }\n",
       "</style>\n",
       "<table border=\"1\" class=\"dataframe\">\n",
       "  <thead>\n",
       "    <tr style=\"text-align: right;\">\n",
       "      <th></th>\n",
       "      <th>company</th>\n",
       "      <th>food</th>\n",
       "      <th>great</th>\n",
       "      <th>amazing</th>\n",
       "      <th>atmosphere</th>\n",
       "      <th>call</th>\n",
       "      <th>told</th>\n",
       "      <th>see</th>\n",
       "      <th>review</th>\n",
       "      <th>month</th>\n",
       "      <th>...</th>\n",
       "      <th>forest</th>\n",
       "      <th>useful_level</th>\n",
       "      <th>read_ease</th>\n",
       "      <th>polarity</th>\n",
       "      <th>subjectivity</th>\n",
       "      <th>Adj_ratio</th>\n",
       "      <th>review_count</th>\n",
       "      <th>NumElite</th>\n",
       "      <th>average_stars</th>\n",
       "      <th>NumofWords</th>\n",
       "    </tr>\n",
       "  </thead>\n",
       "  <tbody>\n",
       "    <tr>\n",
       "      <th>0</th>\n",
       "      <td>0.000000</td>\n",
       "      <td>0.161856</td>\n",
       "      <td>0.000000</td>\n",
       "      <td>0.00000</td>\n",
       "      <td>0.100269</td>\n",
       "      <td>0.000000</td>\n",
       "      <td>0.000000</td>\n",
       "      <td>0.000000</td>\n",
       "      <td>0.000000</td>\n",
       "      <td>0.000000</td>\n",
       "      <td>...</td>\n",
       "      <td>0.0</td>\n",
       "      <td>2</td>\n",
       "      <td>64.58</td>\n",
       "      <td>0.244345</td>\n",
       "      <td>0.554992</td>\n",
       "      <td>0.202312</td>\n",
       "      <td>1303</td>\n",
       "      <td>9</td>\n",
       "      <td>4.15</td>\n",
       "      <td>325</td>\n",
       "    </tr>\n",
       "    <tr>\n",
       "      <th>1</th>\n",
       "      <td>0.000000</td>\n",
       "      <td>0.156125</td>\n",
       "      <td>0.077486</td>\n",
       "      <td>0.00000</td>\n",
       "      <td>0.000000</td>\n",
       "      <td>0.000000</td>\n",
       "      <td>0.000000</td>\n",
       "      <td>0.103274</td>\n",
       "      <td>0.000000</td>\n",
       "      <td>0.000000</td>\n",
       "      <td>...</td>\n",
       "      <td>0.0</td>\n",
       "      <td>1</td>\n",
       "      <td>39.00</td>\n",
       "      <td>0.095000</td>\n",
       "      <td>0.418333</td>\n",
       "      <td>0.220339</td>\n",
       "      <td>16</td>\n",
       "      <td>0</td>\n",
       "      <td>4.19</td>\n",
       "      <td>114</td>\n",
       "    </tr>\n",
       "    <tr>\n",
       "      <th>2</th>\n",
       "      <td>0.000000</td>\n",
       "      <td>0.000000</td>\n",
       "      <td>0.000000</td>\n",
       "      <td>0.00000</td>\n",
       "      <td>0.000000</td>\n",
       "      <td>0.000000</td>\n",
       "      <td>0.000000</td>\n",
       "      <td>0.000000</td>\n",
       "      <td>0.000000</td>\n",
       "      <td>0.000000</td>\n",
       "      <td>...</td>\n",
       "      <td>0.0</td>\n",
       "      <td>0</td>\n",
       "      <td>57.27</td>\n",
       "      <td>-0.483333</td>\n",
       "      <td>0.666667</td>\n",
       "      <td>0.444444</td>\n",
       "      <td>3</td>\n",
       "      <td>0</td>\n",
       "      <td>2.75</td>\n",
       "      <td>14</td>\n",
       "    </tr>\n",
       "    <tr>\n",
       "      <th>3</th>\n",
       "      <td>0.000000</td>\n",
       "      <td>0.037261</td>\n",
       "      <td>0.036985</td>\n",
       "      <td>0.00000</td>\n",
       "      <td>0.000000</td>\n",
       "      <td>0.057615</td>\n",
       "      <td>0.000000</td>\n",
       "      <td>0.049294</td>\n",
       "      <td>0.051002</td>\n",
       "      <td>0.059816</td>\n",
       "      <td>...</td>\n",
       "      <td>0.0</td>\n",
       "      <td>2</td>\n",
       "      <td>-160.80</td>\n",
       "      <td>0.055780</td>\n",
       "      <td>0.508000</td>\n",
       "      <td>0.243137</td>\n",
       "      <td>824</td>\n",
       "      <td>8</td>\n",
       "      <td>4.25</td>\n",
       "      <td>491</td>\n",
       "    </tr>\n",
       "    <tr>\n",
       "      <th>4</th>\n",
       "      <td>0.000000</td>\n",
       "      <td>0.000000</td>\n",
       "      <td>0.035570</td>\n",
       "      <td>0.00000</td>\n",
       "      <td>0.000000</td>\n",
       "      <td>0.000000</td>\n",
       "      <td>0.000000</td>\n",
       "      <td>0.000000</td>\n",
       "      <td>0.000000</td>\n",
       "      <td>0.000000</td>\n",
       "      <td>...</td>\n",
       "      <td>0.0</td>\n",
       "      <td>1</td>\n",
       "      <td>67.18</td>\n",
       "      <td>0.321462</td>\n",
       "      <td>0.588639</td>\n",
       "      <td>0.170854</td>\n",
       "      <td>21</td>\n",
       "      <td>0</td>\n",
       "      <td>4.21</td>\n",
       "      <td>356</td>\n",
       "    </tr>\n",
       "    <tr>\n",
       "      <th>...</th>\n",
       "      <td>...</td>\n",
       "      <td>...</td>\n",
       "      <td>...</td>\n",
       "      <td>...</td>\n",
       "      <td>...</td>\n",
       "      <td>...</td>\n",
       "      <td>...</td>\n",
       "      <td>...</td>\n",
       "      <td>...</td>\n",
       "      <td>...</td>\n",
       "      <td>...</td>\n",
       "      <td>...</td>\n",
       "      <td>...</td>\n",
       "      <td>...</td>\n",
       "      <td>...</td>\n",
       "      <td>...</td>\n",
       "      <td>...</td>\n",
       "      <td>...</td>\n",
       "      <td>...</td>\n",
       "      <td>...</td>\n",
       "      <td>...</td>\n",
       "    </tr>\n",
       "    <tr>\n",
       "      <th>38625</th>\n",
       "      <td>0.000000</td>\n",
       "      <td>0.000000</td>\n",
       "      <td>0.000000</td>\n",
       "      <td>0.00000</td>\n",
       "      <td>0.000000</td>\n",
       "      <td>0.000000</td>\n",
       "      <td>0.000000</td>\n",
       "      <td>0.000000</td>\n",
       "      <td>0.000000</td>\n",
       "      <td>0.000000</td>\n",
       "      <td>...</td>\n",
       "      <td>0.0</td>\n",
       "      <td>0</td>\n",
       "      <td>89.58</td>\n",
       "      <td>0.266667</td>\n",
       "      <td>0.575000</td>\n",
       "      <td>0.250000</td>\n",
       "      <td>395</td>\n",
       "      <td>3</td>\n",
       "      <td>4.01</td>\n",
       "      <td>31</td>\n",
       "    </tr>\n",
       "    <tr>\n",
       "      <th>38626</th>\n",
       "      <td>0.000000</td>\n",
       "      <td>0.043796</td>\n",
       "      <td>0.000000</td>\n",
       "      <td>0.13306</td>\n",
       "      <td>0.000000</td>\n",
       "      <td>0.000000</td>\n",
       "      <td>0.000000</td>\n",
       "      <td>0.057941</td>\n",
       "      <td>0.000000</td>\n",
       "      <td>0.000000</td>\n",
       "      <td>...</td>\n",
       "      <td>0.0</td>\n",
       "      <td>2</td>\n",
       "      <td>53.17</td>\n",
       "      <td>0.254134</td>\n",
       "      <td>0.620768</td>\n",
       "      <td>0.165138</td>\n",
       "      <td>153</td>\n",
       "      <td>2</td>\n",
       "      <td>3.87</td>\n",
       "      <td>210</td>\n",
       "    </tr>\n",
       "    <tr>\n",
       "      <th>38627</th>\n",
       "      <td>0.000000</td>\n",
       "      <td>0.000000</td>\n",
       "      <td>0.000000</td>\n",
       "      <td>0.00000</td>\n",
       "      <td>0.000000</td>\n",
       "      <td>0.017256</td>\n",
       "      <td>0.047130</td>\n",
       "      <td>0.000000</td>\n",
       "      <td>0.000000</td>\n",
       "      <td>0.053745</td>\n",
       "      <td>...</td>\n",
       "      <td>0.0</td>\n",
       "      <td>1</td>\n",
       "      <td>71.58</td>\n",
       "      <td>0.060192</td>\n",
       "      <td>0.417879</td>\n",
       "      <td>0.129956</td>\n",
       "      <td>14</td>\n",
       "      <td>0</td>\n",
       "      <td>3.29</td>\n",
       "      <td>898</td>\n",
       "    </tr>\n",
       "    <tr>\n",
       "      <th>38628</th>\n",
       "      <td>0.000000</td>\n",
       "      <td>0.056365</td>\n",
       "      <td>0.000000</td>\n",
       "      <td>0.00000</td>\n",
       "      <td>0.000000</td>\n",
       "      <td>0.000000</td>\n",
       "      <td>0.317396</td>\n",
       "      <td>0.074568</td>\n",
       "      <td>0.000000</td>\n",
       "      <td>0.000000</td>\n",
       "      <td>...</td>\n",
       "      <td>0.0</td>\n",
       "      <td>0</td>\n",
       "      <td>-43.22</td>\n",
       "      <td>0.194866</td>\n",
       "      <td>0.457589</td>\n",
       "      <td>0.151515</td>\n",
       "      <td>7</td>\n",
       "      <td>0</td>\n",
       "      <td>4.29</td>\n",
       "      <td>276</td>\n",
       "    </tr>\n",
       "    <tr>\n",
       "      <th>38629</th>\n",
       "      <td>0.054006</td>\n",
       "      <td>0.000000</td>\n",
       "      <td>0.000000</td>\n",
       "      <td>0.00000</td>\n",
       "      <td>0.000000</td>\n",
       "      <td>0.024026</td>\n",
       "      <td>0.000000</td>\n",
       "      <td>0.000000</td>\n",
       "      <td>0.085075</td>\n",
       "      <td>0.049888</td>\n",
       "      <td>...</td>\n",
       "      <td>0.0</td>\n",
       "      <td>2</td>\n",
       "      <td>69.31</td>\n",
       "      <td>0.016458</td>\n",
       "      <td>0.316835</td>\n",
       "      <td>0.158209</td>\n",
       "      <td>81</td>\n",
       "      <td>0</td>\n",
       "      <td>3.58</td>\n",
       "      <td>642</td>\n",
       "    </tr>\n",
       "  </tbody>\n",
       "</table>\n",
       "<p>38630 rows × 1638 columns</p>\n",
       "</div>"
      ],
      "text/plain": [
       "        company      food     great  amazing  atmosphere      call      told  \\\n",
       "0      0.000000  0.161856  0.000000  0.00000    0.100269  0.000000  0.000000   \n",
       "1      0.000000  0.156125  0.077486  0.00000    0.000000  0.000000  0.000000   \n",
       "2      0.000000  0.000000  0.000000  0.00000    0.000000  0.000000  0.000000   \n",
       "3      0.000000  0.037261  0.036985  0.00000    0.000000  0.057615  0.000000   \n",
       "4      0.000000  0.000000  0.035570  0.00000    0.000000  0.000000  0.000000   \n",
       "...         ...       ...       ...      ...         ...       ...       ...   \n",
       "38625  0.000000  0.000000  0.000000  0.00000    0.000000  0.000000  0.000000   \n",
       "38626  0.000000  0.043796  0.000000  0.13306    0.000000  0.000000  0.000000   \n",
       "38627  0.000000  0.000000  0.000000  0.00000    0.000000  0.017256  0.047130   \n",
       "38628  0.000000  0.056365  0.000000  0.00000    0.000000  0.000000  0.317396   \n",
       "38629  0.054006  0.000000  0.000000  0.00000    0.000000  0.024026  0.000000   \n",
       "\n",
       "            see    review     month  ...  forest  useful_level  read_ease  \\\n",
       "0      0.000000  0.000000  0.000000  ...     0.0             2      64.58   \n",
       "1      0.103274  0.000000  0.000000  ...     0.0             1      39.00   \n",
       "2      0.000000  0.000000  0.000000  ...     0.0             0      57.27   \n",
       "3      0.049294  0.051002  0.059816  ...     0.0             2    -160.80   \n",
       "4      0.000000  0.000000  0.000000  ...     0.0             1      67.18   \n",
       "...         ...       ...       ...  ...     ...           ...        ...   \n",
       "38625  0.000000  0.000000  0.000000  ...     0.0             0      89.58   \n",
       "38626  0.057941  0.000000  0.000000  ...     0.0             2      53.17   \n",
       "38627  0.000000  0.000000  0.053745  ...     0.0             1      71.58   \n",
       "38628  0.074568  0.000000  0.000000  ...     0.0             0     -43.22   \n",
       "38629  0.000000  0.085075  0.049888  ...     0.0             2      69.31   \n",
       "\n",
       "       polarity  subjectivity  Adj_ratio  review_count  NumElite  \\\n",
       "0      0.244345      0.554992   0.202312          1303         9   \n",
       "1      0.095000      0.418333   0.220339            16         0   \n",
       "2     -0.483333      0.666667   0.444444             3         0   \n",
       "3      0.055780      0.508000   0.243137           824         8   \n",
       "4      0.321462      0.588639   0.170854            21         0   \n",
       "...         ...           ...        ...           ...       ...   \n",
       "38625  0.266667      0.575000   0.250000           395         3   \n",
       "38626  0.254134      0.620768   0.165138           153         2   \n",
       "38627  0.060192      0.417879   0.129956            14         0   \n",
       "38628  0.194866      0.457589   0.151515             7         0   \n",
       "38629  0.016458      0.316835   0.158209            81         0   \n",
       "\n",
       "       average_stars  NumofWords  \n",
       "0               4.15         325  \n",
       "1               4.19         114  \n",
       "2               2.75          14  \n",
       "3               4.25         491  \n",
       "4               4.21         356  \n",
       "...              ...         ...  \n",
       "38625           4.01          31  \n",
       "38626           3.87         210  \n",
       "38627           3.29         898  \n",
       "38628           4.29         276  \n",
       "38629           3.58         642  \n",
       "\n",
       "[38630 rows x 1638 columns]"
      ]
     },
     "execution_count": 74,
     "metadata": {},
     "output_type": "execute_result"
    }
   ],
   "source": [
    "EmbeddingTrain"
   ]
  },
  {
   "cell_type": "code",
   "execution_count": 75,
   "metadata": {},
   "outputs": [],
   "source": [
    "NewXTrain = EmbeddingTrain.loc[:, EmbeddingTrain.columns != 'useful_level']"
   ]
  },
  {
   "cell_type": "code",
   "execution_count": 97,
   "metadata": {},
   "outputs": [
    {
     "data": {
      "text/plain": [
       "(38630, 1637)"
      ]
     },
     "execution_count": 97,
     "metadata": {},
     "output_type": "execute_result"
    }
   ],
   "source": [
    "NewXTrain.shape"
   ]
  },
  {
   "cell_type": "code",
   "execution_count": 78,
   "metadata": {},
   "outputs": [],
   "source": [
    "NewYTrain = EmbeddingTrain.loc[:, EmbeddingTrain.columns == 'useful_level']"
   ]
  },
  {
   "cell_type": "code",
   "execution_count": 86,
   "metadata": {},
   "outputs": [
    {
     "data": {
      "text/plain": [
       "(38630, 1638)"
      ]
     },
     "execution_count": 86,
     "metadata": {},
     "output_type": "execute_result"
    }
   ],
   "source": [
    "EmbeddingTrain.shape"
   ]
  },
  {
   "cell_type": "code",
   "execution_count": 79,
   "metadata": {},
   "outputs": [],
   "source": [
    "# test set\n",
    "AllotherTest = dtf_test[[\"useful_level\", \"read_ease\", \"polarity\", \"subjectivity\", \n",
    "                           \"Adj_ratio\",'review_count','NumElite','average_stars','NumofWords']]"
   ]
  },
  {
   "cell_type": "code",
   "execution_count": 80,
   "metadata": {},
   "outputs": [],
   "source": [
    "EmbeddingTest = pd.DataFrame(X_test.toarray(), columns = vectorizer.get_feature_names())"
   ]
  },
  {
   "cell_type": "code",
   "execution_count": 92,
   "metadata": {},
   "outputs": [
    {
     "data": {
      "text/plain": [
       "(16557, 1638)"
      ]
     },
     "execution_count": 92,
     "metadata": {},
     "output_type": "execute_result"
    }
   ],
   "source": [
    "EmbeddingTest.shape"
   ]
  },
  {
   "cell_type": "code",
   "execution_count": 93,
   "metadata": {},
   "outputs": [],
   "source": []
  },
  {
   "cell_type": "code",
   "execution_count": 96,
   "metadata": {},
   "outputs": [
    {
     "data": {
      "text/plain": [
       "(16557, 1637)"
      ]
     },
     "execution_count": 96,
     "metadata": {},
     "output_type": "execute_result"
    }
   ],
   "source": [
    "NewXTest.shape"
   ]
  },
  {
   "cell_type": "code",
   "execution_count": 91,
   "metadata": {},
   "outputs": [],
   "source": [
    "for i in [\"useful_level\", \"read_ease\", \"polarity\", \"subjectivity\", \"Adj_ratio\",'review_count','NumElite','average_stars','NumofWords']:\n",
    "    EmbeddingTest[i] = AllotherTest[i].values"
   ]
  },
  {
   "cell_type": "code",
   "execution_count": 95,
   "metadata": {},
   "outputs": [],
   "source": [
    "NewXTest = EmbeddingTest.loc[:, EmbeddingTest.columns != 'useful_level']\n",
    "NewYTest = EmbeddingTest.loc[:, EmbeddingTest.columns == 'useful_level'].values"
   ]
  },
  {
   "cell_type": "code",
   "execution_count": 23,
   "metadata": {},
   "outputs": [],
   "source": [
    "from sklearn.metrics import mean_squared_error\n",
    "\n",
    "# importing machine learning models for prediction\n",
    "from sklearn.ensemble import RandomForestRegressor\n",
    "import xgboost as xgb\n",
    "from sklearn.linear_model import LinearRegression"
   ]
  },
  {
   "cell_type": "code",
   "execution_count": 98,
   "metadata": {},
   "outputs": [],
   "source": [
    "from sklearn.model_selection import train_test_split\n",
    "X_train, X_valid, y_train, y_valid = train_test_split(NewXTrain, NewYTrain, test_size=0.20)"
   ]
  },
  {
   "cell_type": "code",
   "execution_count": 99,
   "metadata": {},
   "outputs": [],
   "source": [
    "X_senti_train=X_train[[ \"read_ease\", \"polarity\", \"subjectivity\", \n",
    "                         \"Adj_ratio\",'review_count','NumElite','average_stars','NumofWords']]"
   ]
  },
  {
   "cell_type": "code",
   "execution_count": 100,
   "metadata": {},
   "outputs": [],
   "source": [
    "X_tfidf_train=X_train.drop([\"read_ease\", \"polarity\", \"subjectivity\", \"Adj_ratio\",\n",
    "                           'review_count','NumElite','average_stars','NumofWords'], axis=1)"
   ]
  },
  {
   "cell_type": "code",
   "execution_count": 101,
   "metadata": {},
   "outputs": [],
   "source": [
    "X_senti_valid=X_valid[[ \"read_ease\", \"polarity\", \"subjectivity\", \n",
    "                         \"Adj_ratio\",'review_count','NumElite','average_stars','NumofWords']]"
   ]
  },
  {
   "cell_type": "code",
   "execution_count": 102,
   "metadata": {},
   "outputs": [],
   "source": [
    "X_tfidf_valid=X_valid.drop([\"read_ease\", \"polarity\", \"subjectivity\", \"Adj_ratio\",\n",
    "                           'review_count','NumElite','average_stars','NumofWords'], axis=1)"
   ]
  },
  {
   "cell_type": "code",
   "execution_count": 37,
   "metadata": {},
   "outputs": [
    {
     "data": {
      "text/html": [
       "<div>\n",
       "<style scoped>\n",
       "    .dataframe tbody tr th:only-of-type {\n",
       "        vertical-align: middle;\n",
       "    }\n",
       "\n",
       "    .dataframe tbody tr th {\n",
       "        vertical-align: top;\n",
       "    }\n",
       "\n",
       "    .dataframe thead th {\n",
       "        text-align: right;\n",
       "    }\n",
       "</style>\n",
       "<table border=\"1\" class=\"dataframe\">\n",
       "  <thead>\n",
       "    <tr style=\"text-align: right;\">\n",
       "      <th></th>\n",
       "      <th>amazing</th>\n",
       "      <th>company</th>\n",
       "      <th>food</th>\n",
       "      <th>great</th>\n",
       "      <th>call</th>\n",
       "      <th>told</th>\n",
       "      <th>atmosphere</th>\n",
       "      <th>delicious</th>\n",
       "      <th>doctor</th>\n",
       "      <th>review</th>\n",
       "      <th>...</th>\n",
       "      <th>doughnut</th>\n",
       "      <th>splash</th>\n",
       "      <th>distancing</th>\n",
       "      <th>joining</th>\n",
       "      <th>nearby</th>\n",
       "      <th>christian</th>\n",
       "      <th>walt</th>\n",
       "      <th>jalapeños</th>\n",
       "      <th>castle</th>\n",
       "      <th>goal</th>\n",
       "    </tr>\n",
       "  </thead>\n",
       "  <tbody>\n",
       "    <tr>\n",
       "      <th>0</th>\n",
       "      <td>0.0</td>\n",
       "      <td>0.0</td>\n",
       "      <td>0.000000</td>\n",
       "      <td>0.000000</td>\n",
       "      <td>0.0</td>\n",
       "      <td>0.0</td>\n",
       "      <td>0.0</td>\n",
       "      <td>0.000000</td>\n",
       "      <td>0.0</td>\n",
       "      <td>0.000000</td>\n",
       "      <td>...</td>\n",
       "      <td>0.0</td>\n",
       "      <td>0.0</td>\n",
       "      <td>0.0</td>\n",
       "      <td>0.0</td>\n",
       "      <td>0.0</td>\n",
       "      <td>0.0</td>\n",
       "      <td>0.0</td>\n",
       "      <td>0.0</td>\n",
       "      <td>0.0</td>\n",
       "      <td>0.0</td>\n",
       "    </tr>\n",
       "    <tr>\n",
       "      <th>1</th>\n",
       "      <td>0.0</td>\n",
       "      <td>0.0</td>\n",
       "      <td>0.151594</td>\n",
       "      <td>0.000000</td>\n",
       "      <td>0.0</td>\n",
       "      <td>0.0</td>\n",
       "      <td>0.0</td>\n",
       "      <td>0.110247</td>\n",
       "      <td>0.0</td>\n",
       "      <td>0.000000</td>\n",
       "      <td>...</td>\n",
       "      <td>0.0</td>\n",
       "      <td>0.0</td>\n",
       "      <td>0.0</td>\n",
       "      <td>0.0</td>\n",
       "      <td>0.0</td>\n",
       "      <td>0.0</td>\n",
       "      <td>0.0</td>\n",
       "      <td>0.0</td>\n",
       "      <td>0.0</td>\n",
       "      <td>0.0</td>\n",
       "    </tr>\n",
       "    <tr>\n",
       "      <th>2</th>\n",
       "      <td>0.0</td>\n",
       "      <td>0.0</td>\n",
       "      <td>0.000000</td>\n",
       "      <td>0.000000</td>\n",
       "      <td>0.0</td>\n",
       "      <td>0.0</td>\n",
       "      <td>0.0</td>\n",
       "      <td>0.000000</td>\n",
       "      <td>0.0</td>\n",
       "      <td>0.074698</td>\n",
       "      <td>...</td>\n",
       "      <td>0.0</td>\n",
       "      <td>0.0</td>\n",
       "      <td>0.0</td>\n",
       "      <td>0.0</td>\n",
       "      <td>0.0</td>\n",
       "      <td>0.0</td>\n",
       "      <td>0.0</td>\n",
       "      <td>0.0</td>\n",
       "      <td>0.0</td>\n",
       "      <td>0.0</td>\n",
       "    </tr>\n",
       "    <tr>\n",
       "      <th>3</th>\n",
       "      <td>0.0</td>\n",
       "      <td>0.0</td>\n",
       "      <td>0.098653</td>\n",
       "      <td>0.098090</td>\n",
       "      <td>0.0</td>\n",
       "      <td>0.0</td>\n",
       "      <td>0.0</td>\n",
       "      <td>0.000000</td>\n",
       "      <td>0.0</td>\n",
       "      <td>0.000000</td>\n",
       "      <td>...</td>\n",
       "      <td>0.0</td>\n",
       "      <td>0.0</td>\n",
       "      <td>0.0</td>\n",
       "      <td>0.0</td>\n",
       "      <td>0.0</td>\n",
       "      <td>0.0</td>\n",
       "      <td>0.0</td>\n",
       "      <td>0.0</td>\n",
       "      <td>0.0</td>\n",
       "      <td>0.0</td>\n",
       "    </tr>\n",
       "    <tr>\n",
       "      <th>4</th>\n",
       "      <td>0.0</td>\n",
       "      <td>0.0</td>\n",
       "      <td>0.239783</td>\n",
       "      <td>0.000000</td>\n",
       "      <td>0.0</td>\n",
       "      <td>0.0</td>\n",
       "      <td>0.0</td>\n",
       "      <td>0.174382</td>\n",
       "      <td>0.0</td>\n",
       "      <td>0.000000</td>\n",
       "      <td>...</td>\n",
       "      <td>0.0</td>\n",
       "      <td>0.0</td>\n",
       "      <td>0.0</td>\n",
       "      <td>0.0</td>\n",
       "      <td>0.0</td>\n",
       "      <td>0.0</td>\n",
       "      <td>0.0</td>\n",
       "      <td>0.0</td>\n",
       "      <td>0.0</td>\n",
       "      <td>0.0</td>\n",
       "    </tr>\n",
       "    <tr>\n",
       "      <th>...</th>\n",
       "      <td>...</td>\n",
       "      <td>...</td>\n",
       "      <td>...</td>\n",
       "      <td>...</td>\n",
       "      <td>...</td>\n",
       "      <td>...</td>\n",
       "      <td>...</td>\n",
       "      <td>...</td>\n",
       "      <td>...</td>\n",
       "      <td>...</td>\n",
       "      <td>...</td>\n",
       "      <td>...</td>\n",
       "      <td>...</td>\n",
       "      <td>...</td>\n",
       "      <td>...</td>\n",
       "      <td>...</td>\n",
       "      <td>...</td>\n",
       "      <td>...</td>\n",
       "      <td>...</td>\n",
       "      <td>...</td>\n",
       "      <td>...</td>\n",
       "    </tr>\n",
       "    <tr>\n",
       "      <th>16552</th>\n",
       "      <td>0.0</td>\n",
       "      <td>0.0</td>\n",
       "      <td>0.140102</td>\n",
       "      <td>0.000000</td>\n",
       "      <td>0.0</td>\n",
       "      <td>0.0</td>\n",
       "      <td>0.0</td>\n",
       "      <td>0.000000</td>\n",
       "      <td>0.0</td>\n",
       "      <td>0.000000</td>\n",
       "      <td>...</td>\n",
       "      <td>0.0</td>\n",
       "      <td>0.0</td>\n",
       "      <td>0.0</td>\n",
       "      <td>0.0</td>\n",
       "      <td>0.0</td>\n",
       "      <td>0.0</td>\n",
       "      <td>0.0</td>\n",
       "      <td>0.0</td>\n",
       "      <td>0.0</td>\n",
       "      <td>0.0</td>\n",
       "    </tr>\n",
       "    <tr>\n",
       "      <th>16553</th>\n",
       "      <td>0.0</td>\n",
       "      <td>0.0</td>\n",
       "      <td>0.000000</td>\n",
       "      <td>0.000000</td>\n",
       "      <td>0.0</td>\n",
       "      <td>0.0</td>\n",
       "      <td>0.0</td>\n",
       "      <td>0.000000</td>\n",
       "      <td>0.0</td>\n",
       "      <td>0.000000</td>\n",
       "      <td>...</td>\n",
       "      <td>0.0</td>\n",
       "      <td>0.0</td>\n",
       "      <td>0.0</td>\n",
       "      <td>0.0</td>\n",
       "      <td>0.0</td>\n",
       "      <td>0.0</td>\n",
       "      <td>0.0</td>\n",
       "      <td>0.0</td>\n",
       "      <td>0.0</td>\n",
       "      <td>0.0</td>\n",
       "    </tr>\n",
       "    <tr>\n",
       "      <th>16554</th>\n",
       "      <td>0.0</td>\n",
       "      <td>0.0</td>\n",
       "      <td>0.000000</td>\n",
       "      <td>0.200112</td>\n",
       "      <td>0.0</td>\n",
       "      <td>0.0</td>\n",
       "      <td>0.0</td>\n",
       "      <td>0.000000</td>\n",
       "      <td>0.0</td>\n",
       "      <td>0.000000</td>\n",
       "      <td>...</td>\n",
       "      <td>0.0</td>\n",
       "      <td>0.0</td>\n",
       "      <td>0.0</td>\n",
       "      <td>0.0</td>\n",
       "      <td>0.0</td>\n",
       "      <td>0.0</td>\n",
       "      <td>0.0</td>\n",
       "      <td>0.0</td>\n",
       "      <td>0.0</td>\n",
       "      <td>0.0</td>\n",
       "    </tr>\n",
       "    <tr>\n",
       "      <th>16555</th>\n",
       "      <td>0.0</td>\n",
       "      <td>0.0</td>\n",
       "      <td>0.000000</td>\n",
       "      <td>0.000000</td>\n",
       "      <td>0.0</td>\n",
       "      <td>0.0</td>\n",
       "      <td>0.0</td>\n",
       "      <td>0.000000</td>\n",
       "      <td>0.0</td>\n",
       "      <td>0.000000</td>\n",
       "      <td>...</td>\n",
       "      <td>0.0</td>\n",
       "      <td>0.0</td>\n",
       "      <td>0.0</td>\n",
       "      <td>0.0</td>\n",
       "      <td>0.0</td>\n",
       "      <td>0.0</td>\n",
       "      <td>0.0</td>\n",
       "      <td>0.0</td>\n",
       "      <td>0.0</td>\n",
       "      <td>0.0</td>\n",
       "    </tr>\n",
       "    <tr>\n",
       "      <th>16556</th>\n",
       "      <td>0.0</td>\n",
       "      <td>0.0</td>\n",
       "      <td>0.000000</td>\n",
       "      <td>0.000000</td>\n",
       "      <td>0.0</td>\n",
       "      <td>0.0</td>\n",
       "      <td>0.0</td>\n",
       "      <td>0.000000</td>\n",
       "      <td>0.0</td>\n",
       "      <td>0.000000</td>\n",
       "      <td>...</td>\n",
       "      <td>0.0</td>\n",
       "      <td>0.0</td>\n",
       "      <td>0.0</td>\n",
       "      <td>0.0</td>\n",
       "      <td>0.0</td>\n",
       "      <td>0.0</td>\n",
       "      <td>0.0</td>\n",
       "      <td>0.0</td>\n",
       "      <td>0.0</td>\n",
       "      <td>0.0</td>\n",
       "    </tr>\n",
       "  </tbody>\n",
       "</table>\n",
       "<p>16557 rows × 1670 columns</p>\n",
       "</div>"
      ],
      "text/plain": [
       "       amazing  company      food     great  call  told  atmosphere  \\\n",
       "0          0.0      0.0  0.000000  0.000000   0.0   0.0         0.0   \n",
       "1          0.0      0.0  0.151594  0.000000   0.0   0.0         0.0   \n",
       "2          0.0      0.0  0.000000  0.000000   0.0   0.0         0.0   \n",
       "3          0.0      0.0  0.098653  0.098090   0.0   0.0         0.0   \n",
       "4          0.0      0.0  0.239783  0.000000   0.0   0.0         0.0   \n",
       "...        ...      ...       ...       ...   ...   ...         ...   \n",
       "16552      0.0      0.0  0.140102  0.000000   0.0   0.0         0.0   \n",
       "16553      0.0      0.0  0.000000  0.000000   0.0   0.0         0.0   \n",
       "16554      0.0      0.0  0.000000  0.200112   0.0   0.0         0.0   \n",
       "16555      0.0      0.0  0.000000  0.000000   0.0   0.0         0.0   \n",
       "16556      0.0      0.0  0.000000  0.000000   0.0   0.0         0.0   \n",
       "\n",
       "       delicious  doctor    review  ...  doughnut  splash  distancing  \\\n",
       "0       0.000000     0.0  0.000000  ...       0.0     0.0         0.0   \n",
       "1       0.110247     0.0  0.000000  ...       0.0     0.0         0.0   \n",
       "2       0.000000     0.0  0.074698  ...       0.0     0.0         0.0   \n",
       "3       0.000000     0.0  0.000000  ...       0.0     0.0         0.0   \n",
       "4       0.174382     0.0  0.000000  ...       0.0     0.0         0.0   \n",
       "...          ...     ...       ...  ...       ...     ...         ...   \n",
       "16552   0.000000     0.0  0.000000  ...       0.0     0.0         0.0   \n",
       "16553   0.000000     0.0  0.000000  ...       0.0     0.0         0.0   \n",
       "16554   0.000000     0.0  0.000000  ...       0.0     0.0         0.0   \n",
       "16555   0.000000     0.0  0.000000  ...       0.0     0.0         0.0   \n",
       "16556   0.000000     0.0  0.000000  ...       0.0     0.0         0.0   \n",
       "\n",
       "       joining  nearby  christian  walt  jalapeños  castle  goal  \n",
       "0          0.0     0.0        0.0   0.0        0.0     0.0   0.0  \n",
       "1          0.0     0.0        0.0   0.0        0.0     0.0   0.0  \n",
       "2          0.0     0.0        0.0   0.0        0.0     0.0   0.0  \n",
       "3          0.0     0.0        0.0   0.0        0.0     0.0   0.0  \n",
       "4          0.0     0.0        0.0   0.0        0.0     0.0   0.0  \n",
       "...        ...     ...        ...   ...        ...     ...   ...  \n",
       "16552      0.0     0.0        0.0   0.0        0.0     0.0   0.0  \n",
       "16553      0.0     0.0        0.0   0.0        0.0     0.0   0.0  \n",
       "16554      0.0     0.0        0.0   0.0        0.0     0.0   0.0  \n",
       "16555      0.0     0.0        0.0   0.0        0.0     0.0   0.0  \n",
       "16556      0.0     0.0        0.0   0.0        0.0     0.0   0.0  \n",
       "\n",
       "[16557 rows x 1670 columns]"
      ]
     },
     "execution_count": 37,
     "metadata": {},
     "output_type": "execute_result"
    }
   ],
   "source": [
    "NewXTest"
   ]
  },
  {
   "cell_type": "code",
   "execution_count": 103,
   "metadata": {},
   "outputs": [],
   "source": [
    "X_senti_test=EmbeddingTest[[ \"read_ease\", \"polarity\", \"subjectivity\", \n",
    "                         \"Adj_ratio\",'review_count','NumElite','average_stars','NumofWords']]"
   ]
  },
  {
   "cell_type": "code",
   "execution_count": 104,
   "metadata": {},
   "outputs": [],
   "source": [
    "X_tfidf_test=EmbeddingTest.drop([\"read_ease\", \"polarity\", \"subjectivity\", \"Adj_ratio\",\n",
    "                           'review_count','NumElite','average_stars','NumofWords','useful_level'], axis=1)"
   ]
  },
  {
   "cell_type": "code",
   "execution_count": 105,
   "metadata": {},
   "outputs": [],
   "source": [
    "model_1 = LinearRegression()\n",
    "model_2 = xgb.XGBRegressor()"
   ]
  },
  {
   "cell_type": "code",
   "execution_count": 106,
   "metadata": {},
   "outputs": [],
   "source": [
    "model_1.fit(X_senti_train, y_train)\n",
    "val_pred_1 = model_1.predict(X_senti_valid)\n",
    "test_pred_1 = model_1.predict(X_senti_test)"
   ]
  },
  {
   "cell_type": "code",
   "execution_count": 107,
   "metadata": {},
   "outputs": [],
   "source": [
    "model_2.fit(X_tfidf_train, y_train)\n",
    "val_pred_2 = model_2.predict(X_tfidf_valid)\n",
    "test_pred_2 = model_2.predict(X_tfidf_test)"
   ]
  },
  {
   "cell_type": "code",
   "execution_count": 108,
   "metadata": {},
   "outputs": [],
   "source": [
    "val_pred_1 = pd.DataFrame(val_pred_1)\n",
    "test_pred_1 = pd.DataFrame(test_pred_1)"
   ]
  },
  {
   "cell_type": "code",
   "execution_count": 109,
   "metadata": {},
   "outputs": [],
   "source": [
    "val_pred_2 = pd.DataFrame(val_pred_2)\n",
    "test_pred_2 = pd.DataFrame(test_pred_2)"
   ]
  },
  {
   "cell_type": "code",
   "execution_count": 110,
   "metadata": {},
   "outputs": [],
   "source": [
    "X_valid.index=list(range(7726))\n",
    "NewXTest.index=list(range(16557))"
   ]
  },
  {
   "cell_type": "code",
   "execution_count": 111,
   "metadata": {},
   "outputs": [],
   "source": [
    "df_val = pd.concat([X_valid, val_pred_1, val_pred_2], axis=1)\n",
    "df_test = pd.concat([NewXTest, test_pred_1, test_pred_2], axis=1)"
   ]
  },
  {
   "cell_type": "code",
   "execution_count": 112,
   "metadata": {},
   "outputs": [
    {
     "name": "stderr",
     "output_type": "stream",
     "text": [
      "C:\\Users\\Fannie\\anaconda3\\lib\\site-packages\\sklearn\\utils\\validation.py:72: DataConversionWarning: A column-vector y was passed when a 1d array was expected. Please change the shape of y to (n_samples, ), for example using ravel().\n",
      "  return f(**kwargs)\n",
      "C:\\Users\\Fannie\\anaconda3\\lib\\site-packages\\sklearn\\linear_model\\_logistic.py:762: ConvergenceWarning: lbfgs failed to converge (status=1):\n",
      "STOP: TOTAL NO. of ITERATIONS REACHED LIMIT.\n",
      "\n",
      "Increase the number of iterations (max_iter) or scale the data as shown in:\n",
      "    https://scikit-learn.org/stable/modules/preprocessing.html\n",
      "Please also refer to the documentation for alternative solver options:\n",
      "    https://scikit-learn.org/stable/modules/linear_model.html#logistic-regression\n",
      "  n_iter_i = _check_optimize_result(\n"
     ]
    },
    {
     "data": {
      "text/plain": [
       "LogisticRegression()"
      ]
     },
     "execution_count": 112,
     "metadata": {},
     "output_type": "execute_result"
    }
   ],
   "source": [
    "from sklearn.linear_model import LogisticRegression\n",
    "final_model = LogisticRegression()\n",
    "final_model.fit(df_val, y_valid)"
   ]
  },
  {
   "cell_type": "code",
   "execution_count": 113,
   "metadata": {},
   "outputs": [],
   "source": [
    "final_pred = final_model.predict(df_test)"
   ]
  },
  {
   "cell_type": "code",
   "execution_count": 114,
   "metadata": {},
   "outputs": [
    {
     "name": "stdout",
     "output_type": "stream",
     "text": [
      "0.5712991483964487\n"
     ]
    }
   ],
   "source": [
    "print(mean_squared_error(y_test, final_pred))"
   ]
  },
  {
   "cell_type": "code",
   "execution_count": null,
   "metadata": {},
   "outputs": [],
   "source": []
  }
 ],
 "metadata": {
  "kernelspec": {
   "display_name": "Python 3",
   "language": "python",
   "name": "python3"
  },
  "language_info": {
   "codemirror_mode": {
    "name": "ipython",
    "version": 3
   },
   "file_extension": ".py",
   "mimetype": "text/x-python",
   "name": "python",
   "nbconvert_exporter": "python",
   "pygments_lexer": "ipython3",
   "version": "3.8.5"
  }
 },
 "nbformat": 4,
 "nbformat_minor": 4
}

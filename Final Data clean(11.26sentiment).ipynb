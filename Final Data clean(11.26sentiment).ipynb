{
 "cells": [
  {
   "cell_type": "code",
   "execution_count": 1,
   "metadata": {},
   "outputs": [],
   "source": [
    "import ijson\n",
    "import pandas as pd\n",
    "import numpy as np\n",
    "import re\n",
    "import string\n",
    "from langdetect import detect\n",
    "import nltk\n",
    "from stop_words import get_stop_words\n",
    "from nltk.corpus import stopwords\n",
    "import tqdm\n",
    "from collections import Counter\n",
    "from nltk.sentiment.vader import SentimentIntensityAnalyzer\n",
    "import spacy\n",
    "from spacytextblob.spacytextblob import SpacyTextBlob"
   ]
  },
  {
   "cell_type": "code",
   "execution_count": 2,
   "metadata": {},
   "outputs": [],
   "source": [
    "Review=pd.read_csv('C:/Users/Fannie/Desktop/yelpreview.csv')"
   ]
  },
  {
   "cell_type": "code",
   "execution_count": 7,
   "metadata": {},
   "outputs": [
    {
     "data": {
      "text/plain": [
       "8635403"
      ]
     },
     "execution_count": 7,
     "metadata": {},
     "output_type": "execute_result"
    }
   ],
   "source": [
    "len(Review)"
   ]
  },
  {
   "cell_type": "code",
   "execution_count": 5,
   "metadata": {},
   "outputs": [],
   "source": [
    "Review_dropna=Review\n",
    "Review_dropna=Review_dropna.dropna()"
   ]
  },
  {
   "cell_type": "code",
   "execution_count": 6,
   "metadata": {},
   "outputs": [
    {
     "data": {
      "text/plain": [
       "8635401"
      ]
     },
     "execution_count": 6,
     "metadata": {},
     "output_type": "execute_result"
    }
   ],
   "source": [
    "len(Review_dropna)"
   ]
  },
  {
   "cell_type": "code",
   "execution_count": 19,
   "metadata": {},
   "outputs": [
    {
     "data": {
      "text/plain": [
       "13637"
      ]
     },
     "execution_count": 19,
     "metadata": {},
     "output_type": "execute_result"
    }
   ],
   "source": [
    "# ueful\n",
    "Review_29up=Review_dropna[(Review_dropna['useful']>= 29)]\n",
    "len(Review_29up)"
   ]
  },
  {
   "cell_type": "code",
   "execution_count": 20,
   "metadata": {},
   "outputs": [
    {
     "data": {
      "text/plain": [
       "91933"
      ]
     },
     "execution_count": 20,
     "metadata": {},
     "output_type": "execute_result"
    }
   ],
   "source": [
    "# moderate useful\n",
    "Review_10to20 = Review_dropna[(Review_dropna['useful']>10)&(Review_dropna['useful']<=20)]\n",
    "len(Review_10to20)"
   ]
  },
  {
   "cell_type": "code",
   "execution_count": 21,
   "metadata": {},
   "outputs": [
    {
     "data": {
      "text/plain": [
       "6585177"
      ]
     },
     "execution_count": 21,
     "metadata": {},
     "output_type": "execute_result"
    }
   ],
   "source": [
    "# not useful\n",
    "Review_0to1 = Review_dropna[(Review_dropna['useful']>=0)&(Review_dropna['useful']<=1)]\n",
    "len(Review_0to1)"
   ]
  },
  {
   "cell_type": "code",
   "execution_count": 70,
   "metadata": {},
   "outputs": [],
   "source": [
    "Review_useful=Review_29up\n",
    "Review_moderate= Review_10to20.sample(n=17358)\n",
    "Review_notuseful=Review_0to1.sample(n=24256)\n",
    "Review_project = pd.concat([Review_useful,Review_moderate, Review_notuseful], axis=0)"
   ]
  },
  {
   "cell_type": "code",
   "execution_count": 71,
   "metadata": {},
   "outputs": [
    {
     "data": {
      "text/plain": [
       "55251"
      ]
     },
     "execution_count": 71,
     "metadata": {},
     "output_type": "execute_result"
    }
   ],
   "source": [
    "len(Review_project)"
   ]
  },
  {
   "cell_type": "code",
   "execution_count": 72,
   "metadata": {},
   "outputs": [],
   "source": [
    "Review_project['useful_level']=\"\""
   ]
  },
  {
   "cell_type": "code",
   "execution_count": 73,
   "metadata": {},
   "outputs": [],
   "source": [
    "Review_project.loc[ (Review_project['useful']>10) | (Review_project['useful']<=20) , 'useful_level' ] = \"moderate useful\"\n",
    "Review_project.loc[Review_project['useful']>=29,'useful_level']=\"useful\"\n",
    "Review_project.loc[Review_project['useful']<=1,'useful_level']=\"not useful\""
   ]
  },
  {
   "cell_type": "code",
   "execution_count": 74,
   "metadata": {},
   "outputs": [
    {
     "data": {
      "text/plain": [
       "not useful         24256\n",
       "moderate useful    17358\n",
       "useful             13637\n",
       "Name: useful_level, dtype: int64"
      ]
     },
     "execution_count": 74,
     "metadata": {},
     "output_type": "execute_result"
    }
   ],
   "source": [
    "Review_project['useful_level'].value_counts()"
   ]
  },
  {
   "cell_type": "code",
   "execution_count": 75,
   "metadata": {},
   "outputs": [],
   "source": [
    "from sklearn.utils import shuffle\n",
    "Review_project = shuffle(Review_project)"
   ]
  },
  {
   "cell_type": "code",
   "execution_count": 76,
   "metadata": {},
   "outputs": [],
   "source": [
    "language = []\n",
    "for i in list(range(len(Review_project))):   \n",
    "    m = detect(Review_project.iat[i,8])\n",
    "    language.append(m)"
   ]
  },
  {
   "cell_type": "code",
   "execution_count": 77,
   "metadata": {},
   "outputs": [],
   "source": [
    "Review_project['language']=language\n",
    "Review_project = Review_project[Review_project['language'] == 'en']# keep english"
   ]
  },
  {
   "cell_type": "code",
   "execution_count": 78,
   "metadata": {},
   "outputs": [
    {
     "data": {
      "text/plain": [
       "55187"
      ]
     },
     "execution_count": 78,
     "metadata": {},
     "output_type": "execute_result"
    }
   ],
   "source": [
    "len(Review_project)"
   ]
  },
  {
   "cell_type": "code",
   "execution_count": 79,
   "metadata": {},
   "outputs": [],
   "source": [
    "Review_project.to_csv('Review_project.csv', sep=',', index=False)"
   ]
  },
  {
   "cell_type": "markdown",
   "metadata": {},
   "source": [
    "data processing"
   ]
  },
  {
   "cell_type": "code",
   "execution_count": 3,
   "metadata": {},
   "outputs": [],
   "source": [
    "Review_project=pd.read_csv('Review_project.csv')"
   ]
  },
  {
   "cell_type": "code",
   "execution_count": 4,
   "metadata": {},
   "outputs": [],
   "source": [
    "def utils_preprocess_text(text, flg_stemm=False, flg_lemm=True, lst_stopwords=None):\n",
    "    ## clean (convert to lowercase and remove punctuations and   characters and then strip)\n",
    "    text = re.sub(r'[^\\w\\s]', '',str(text).lower().strip())\n",
    "            \n",
    "    ## Tokenize (convert from string to list)\n",
    "    lst_text = text.split()\n",
    "    ## remove Stopwords\n",
    "    if lst_stopwords is not None:\n",
    "        lst_text = [word for word in lst_text if word not in \n",
    "                    lst_stopwords]\n",
    "                \n",
    "    ## Stemming (remove -ing, -ly, ...)\n",
    "    if flg_stemm == True:\n",
    "        ps = nltk.stem.porter.PorterStemmer()\n",
    "        lst_text = [ps.stem(word) for word in lst_text]\n",
    "                \n",
    "    ## Lemmatisation (convert the word into root word)\n",
    "    if flg_lemm == True:\n",
    "        lem = nltk.stem.wordnet.WordNetLemmatizer()\n",
    "        lst_text = [lem.lemmatize(word) for word in lst_text]\n",
    "            \n",
    "    ## back to string from list\n",
    "    text = \" \".join(lst_text)\n",
    "    return text"
   ]
  },
  {
   "cell_type": "code",
   "execution_count": 5,
   "metadata": {},
   "outputs": [],
   "source": [
    "lst_stopwords = nltk.corpus.stopwords.words(\"english\")"
   ]
  },
  {
   "cell_type": "code",
   "execution_count": 6,
   "metadata": {},
   "outputs": [
    {
     "data": {
      "text/plain": [
       "'blackened redfish taco celis white restaurant never let delicious fresh fish cooked well taco come onion cilantro lettuce white sauce healthy slice lime sloppy fantastic'"
      ]
     },
     "execution_count": 6,
     "metadata": {},
     "output_type": "execute_result"
    }
   ],
   "source": [
    "Review_project[\"text_clean\"] = Review_project[\"text\"].apply(lambda x: \n",
    "          utils_preprocess_text(x, flg_stemm=False, flg_lemm=True, \n",
    "          lst_stopwords=lst_stopwords))\n",
    "Review_project.at[8,'text_clean']"
   ]
  },
  {
   "cell_type": "markdown",
   "metadata": {},
   "source": [
    "Readability"
   ]
  },
  {
   "cell_type": "code",
   "execution_count": 7,
   "metadata": {},
   "outputs": [],
   "source": [
    "import textstat\n",
    "#textstat.flesch_reading_ease(Review_project.iat[7,8])\n",
    "reading_ease= []\n",
    "for i in list(range(len(Review_project))):   \n",
    "    ease = textstat.flesch_reading_ease(Review_project.at[i,'text'])\n",
    "    reading_ease.append(ease)"
   ]
  },
  {
   "cell_type": "code",
   "execution_count": 8,
   "metadata": {},
   "outputs": [],
   "source": [
    "Review_project['read_ease']=\"\"\n",
    "Review_project['read_ease']=reading_ease"
   ]
  },
  {
   "cell_type": "code",
   "execution_count": 16,
   "metadata": {},
   "outputs": [],
   "source": [
    "Review_project.to_csv('Review_project_readease.csv', sep=',', index=False)"
   ]
  },
  {
   "cell_type": "markdown",
   "metadata": {},
   "source": [
    "polarity and subjectivity"
   ]
  },
  {
   "cell_type": "code",
   "execution_count": 15,
   "metadata": {},
   "outputs": [],
   "source": [
    "Review_project=pd.read_csv('Review_project_readease.csv')"
   ]
  },
  {
   "cell_type": "code",
   "execution_count": 16,
   "metadata": {},
   "outputs": [],
   "source": [
    "from textblob import TextBlob"
   ]
  },
  {
   "cell_type": "code",
   "execution_count": 17,
   "metadata": {},
   "outputs": [],
   "source": [
    "def detect_polarity(text):\n",
    "    return TextBlob(text).sentiment.polarity"
   ]
  },
  {
   "cell_type": "code",
   "execution_count": 18,
   "metadata": {},
   "outputs": [],
   "source": [
    "def detect_subjectivity(text):\n",
    "    return TextBlob(text).sentiment.subjectivity"
   ]
  },
  {
   "cell_type": "code",
   "execution_count": 19,
   "metadata": {},
   "outputs": [],
   "source": [
    "Review_project['polarity'] = Review_project.text.apply(detect_polarity)"
   ]
  },
  {
   "cell_type": "code",
   "execution_count": 20,
   "metadata": {},
   "outputs": [],
   "source": [
    "Review_project['subjectivity'] = Review_project.text.apply(detect_subjectivity)"
   ]
  },
  {
   "cell_type": "code",
   "execution_count": 21,
   "metadata": {},
   "outputs": [
    {
     "data": {
      "text/html": [
       "<div>\n",
       "<style scoped>\n",
       "    .dataframe tbody tr th:only-of-type {\n",
       "        vertical-align: middle;\n",
       "    }\n",
       "\n",
       "    .dataframe tbody tr th {\n",
       "        vertical-align: top;\n",
       "    }\n",
       "\n",
       "    .dataframe thead th {\n",
       "        text-align: right;\n",
       "    }\n",
       "</style>\n",
       "<table border=\"1\" class=\"dataframe\">\n",
       "  <thead>\n",
       "    <tr style=\"text-align: right;\">\n",
       "      <th></th>\n",
       "      <th>Unnamed: 0</th>\n",
       "      <th>review_id</th>\n",
       "      <th>user_id</th>\n",
       "      <th>business_id</th>\n",
       "      <th>stars</th>\n",
       "      <th>useful</th>\n",
       "      <th>funny</th>\n",
       "      <th>cool</th>\n",
       "      <th>text</th>\n",
       "      <th>date</th>\n",
       "      <th>useful_level</th>\n",
       "      <th>language</th>\n",
       "      <th>text_clean</th>\n",
       "      <th>read_ease</th>\n",
       "      <th>polarity</th>\n",
       "      <th>subjectivity</th>\n",
       "    </tr>\n",
       "  </thead>\n",
       "  <tbody>\n",
       "    <tr>\n",
       "      <th>0</th>\n",
       "      <td>1073206</td>\n",
       "      <td>JdReKgETiiJEDmshrO4TLw</td>\n",
       "      <td>pyarmAnR-i-qookQamqRTA</td>\n",
       "      <td>V2GOReqPvr8qpCC7sWfoTw</td>\n",
       "      <td>1.0</td>\n",
       "      <td>17</td>\n",
       "      <td>1</td>\n",
       "      <td>0</td>\n",
       "      <td>Just to let this car company that people DO re...</td>\n",
       "      <td>2014-03-06 12:38:52</td>\n",
       "      <td>moderate useful</td>\n",
       "      <td>en</td>\n",
       "      <td>let car company people read yelp check review ...</td>\n",
       "      <td>85.49</td>\n",
       "      <td>-0.500000</td>\n",
       "      <td>1.000000</td>\n",
       "    </tr>\n",
       "    <tr>\n",
       "      <th>1</th>\n",
       "      <td>6229216</td>\n",
       "      <td>zL4se_Ixdcl8kvTOHCS3rg</td>\n",
       "      <td>s16-BUo-orUsELvMu5ocKg</td>\n",
       "      <td>VH0Ib9S3E-dxbQdQC4rffg</td>\n",
       "      <td>1.0</td>\n",
       "      <td>15</td>\n",
       "      <td>6</td>\n",
       "      <td>4</td>\n",
       "      <td>Mistral was the worst dining experience I have...</td>\n",
       "      <td>2010-07-22 18:08:01</td>\n",
       "      <td>moderate useful</td>\n",
       "      <td>en</td>\n",
       "      <td>mistral worst dining experience ever life bad ...</td>\n",
       "      <td>79.19</td>\n",
       "      <td>0.029864</td>\n",
       "      <td>0.502499</td>\n",
       "    </tr>\n",
       "    <tr>\n",
       "      <th>2</th>\n",
       "      <td>7607157</td>\n",
       "      <td>wlLQ42QMHiQMJISCTUVX5A</td>\n",
       "      <td>aQA2eIdEC3_ZDHwUregu8A</td>\n",
       "      <td>wygOtij7aEb7dTdTFFnOcw</td>\n",
       "      <td>5.0</td>\n",
       "      <td>0</td>\n",
       "      <td>0</td>\n",
       "      <td>0</td>\n",
       "      <td>Took a VIP tour with DeMon of the Atlanta Merc...</td>\n",
       "      <td>2020-02-04 16:05:20</td>\n",
       "      <td>not useful</td>\n",
       "      <td>en</td>\n",
       "      <td>took vip tour demon atlanta mercedes benz stad...</td>\n",
       "      <td>-32.40</td>\n",
       "      <td>0.422500</td>\n",
       "      <td>0.696111</td>\n",
       "    </tr>\n",
       "    <tr>\n",
       "      <th>3</th>\n",
       "      <td>141509</td>\n",
       "      <td>OMw52-Eo-BYFHdUldLMc5Q</td>\n",
       "      <td>mmr-P0i__uQJHGXXeVjXxg</td>\n",
       "      <td>0Ng-wDNyA-96uaJZP8EKZg</td>\n",
       "      <td>4.0</td>\n",
       "      <td>40</td>\n",
       "      <td>0</td>\n",
       "      <td>0</td>\n",
       "      <td>When I first came here for the first time last...</td>\n",
       "      <td>2015-03-09 22:42:06</td>\n",
       "      <td>useful</td>\n",
       "      <td>en</td>\n",
       "      <td>first came first time last year best friend ap...</td>\n",
       "      <td>83.96</td>\n",
       "      <td>0.168452</td>\n",
       "      <td>0.419841</td>\n",
       "    </tr>\n",
       "    <tr>\n",
       "      <th>4</th>\n",
       "      <td>7962637</td>\n",
       "      <td>RWq78T9FIyauVHaHj7yl9g</td>\n",
       "      <td>CyCI71vLDa923zOMeDDA5w</td>\n",
       "      <td>WUfZXjTtBUbezJE7LnWABw</td>\n",
       "      <td>3.0</td>\n",
       "      <td>0</td>\n",
       "      <td>0</td>\n",
       "      <td>0</td>\n",
       "      <td>I only got the take-out, so I cannot speak of ...</td>\n",
       "      <td>2013-03-22 20:47:40</td>\n",
       "      <td>not useful</td>\n",
       "      <td>en</td>\n",
       "      <td>got takeout cannot speak service food good wou...</td>\n",
       "      <td>51.86</td>\n",
       "      <td>0.320000</td>\n",
       "      <td>0.780000</td>\n",
       "    </tr>\n",
       "  </tbody>\n",
       "</table>\n",
       "</div>"
      ],
      "text/plain": [
       "   Unnamed: 0               review_id                 user_id  \\\n",
       "0     1073206  JdReKgETiiJEDmshrO4TLw  pyarmAnR-i-qookQamqRTA   \n",
       "1     6229216  zL4se_Ixdcl8kvTOHCS3rg  s16-BUo-orUsELvMu5ocKg   \n",
       "2     7607157  wlLQ42QMHiQMJISCTUVX5A  aQA2eIdEC3_ZDHwUregu8A   \n",
       "3      141509  OMw52-Eo-BYFHdUldLMc5Q  mmr-P0i__uQJHGXXeVjXxg   \n",
       "4     7962637  RWq78T9FIyauVHaHj7yl9g  CyCI71vLDa923zOMeDDA5w   \n",
       "\n",
       "              business_id  stars  useful  funny  cool  \\\n",
       "0  V2GOReqPvr8qpCC7sWfoTw    1.0      17      1     0   \n",
       "1  VH0Ib9S3E-dxbQdQC4rffg    1.0      15      6     4   \n",
       "2  wygOtij7aEb7dTdTFFnOcw    5.0       0      0     0   \n",
       "3  0Ng-wDNyA-96uaJZP8EKZg    4.0      40      0     0   \n",
       "4  WUfZXjTtBUbezJE7LnWABw    3.0       0      0     0   \n",
       "\n",
       "                                                text                 date  \\\n",
       "0  Just to let this car company that people DO re...  2014-03-06 12:38:52   \n",
       "1  Mistral was the worst dining experience I have...  2010-07-22 18:08:01   \n",
       "2  Took a VIP tour with DeMon of the Atlanta Merc...  2020-02-04 16:05:20   \n",
       "3  When I first came here for the first time last...  2015-03-09 22:42:06   \n",
       "4  I only got the take-out, so I cannot speak of ...  2013-03-22 20:47:40   \n",
       "\n",
       "      useful_level language  \\\n",
       "0  moderate useful       en   \n",
       "1  moderate useful       en   \n",
       "2       not useful       en   \n",
       "3           useful       en   \n",
       "4       not useful       en   \n",
       "\n",
       "                                          text_clean  read_ease  polarity  \\\n",
       "0  let car company people read yelp check review ...      85.49 -0.500000   \n",
       "1  mistral worst dining experience ever life bad ...      79.19  0.029864   \n",
       "2  took vip tour demon atlanta mercedes benz stad...     -32.40  0.422500   \n",
       "3  first came first time last year best friend ap...      83.96  0.168452   \n",
       "4  got takeout cannot speak service food good wou...      51.86  0.320000   \n",
       "\n",
       "   subjectivity  \n",
       "0      1.000000  \n",
       "1      0.502499  \n",
       "2      0.696111  \n",
       "3      0.419841  \n",
       "4      0.780000  "
      ]
     },
     "execution_count": 21,
     "metadata": {},
     "output_type": "execute_result"
    }
   ],
   "source": [
    "Review_project.head()"
   ]
  },
  {
   "cell_type": "code",
   "execution_count": 22,
   "metadata": {},
   "outputs": [],
   "source": [
    "Review_project.to_csv('Review_project_polarity+readease+sub.csv', sep=',', index=False)"
   ]
  },
  {
   "cell_type": "code",
   "execution_count": 29,
   "metadata": {},
   "outputs": [
    {
     "data": {
      "text/plain": [
       "Counter({'NN': 540,\n",
       "         'VBP': 53,\n",
       "         'JJ': 92,\n",
       "         'VBD': 24,\n",
       "         'IN': 7,\n",
       "         'DT': 55,\n",
       "         'NNP': 117,\n",
       "         'VBZ': 42,\n",
       "         'FW': 3,\n",
       "         'CD': 10,\n",
       "         'NNS': 1,\n",
       "         '$': 1,\n",
       "         'VB': 3,\n",
       "         'CC': 2})"
      ]
     },
     "execution_count": 29,
     "metadata": {},
     "output_type": "execute_result"
    }
   ],
   "source": [
    "corpus=Review_project.at[5,'text_clean']\n",
    "text1=nltk.Text(Review_project.at[5,'text_clean'])\n",
    "tags=nltk.pos_tag(text1)\n",
    "from collections import Counter\n",
    "counts = Counter(tag for text1,tag in tags)\n",
    "counts"
   ]
  },
  {
   "cell_type": "markdown",
   "metadata": {},
   "source": [
    "ratio of adjectives"
   ]
  },
  {
   "cell_type": "code",
   "execution_count": 33,
   "metadata": {},
   "outputs": [
    {
     "name": "stdout",
     "output_type": "stream",
     "text": [
      "0.13333333333333333\n"
     ]
    }
   ],
   "source": [
    "sentence = nltk.word_tokenize(Review_project.at[5,'text_clean'])\n",
    "sent = nltk.pos_tag(sentence)\n",
    "listnn = ([s for s in sent if s[1] == 'JJ'])\n",
    "adj_ratio=len(listnn)/len(sentence)\n"
   ]
  },
  {
   "cell_type": "code",
   "execution_count": 34,
   "metadata": {},
   "outputs": [],
   "source": [
    "Adj_ratio= []\n",
    "for i in list(range(len(Review_project))):   \n",
    "    sentence = nltk.word_tokenize(Review_project.at[i,'text_clean'])\n",
    "    tags = nltk.pos_tag(sentence)\n",
    "    adj = ([s for s in tags if s[1] == 'JJ'])\n",
    "    adj_ratio=len(adj)/len(sentence)\n",
    "    Adj_ratio.append(adj_ratio)"
   ]
  },
  {
   "cell_type": "code",
   "execution_count": 35,
   "metadata": {},
   "outputs": [],
   "source": [
    "Review_project['Adj_ratio']=Adj_ratio"
   ]
  },
  {
   "cell_type": "code",
   "execution_count": 36,
   "metadata": {},
   "outputs": [],
   "source": [
    "Review_project.to_csv('Review_project_sentiment.csv', sep=',', index=False)"
   ]
  }
 ],
 "metadata": {
  "kernelspec": {
   "display_name": "Python 3",
   "language": "python",
   "name": "python3"
  },
  "language_info": {
   "codemirror_mode": {
    "name": "ipython",
    "version": 3
   },
   "file_extension": ".py",
   "mimetype": "text/x-python",
   "name": "python",
   "nbconvert_exporter": "python",
   "pygments_lexer": "ipython3",
   "version": "3.8.5"
  }
 },
 "nbformat": 4,
 "nbformat_minor": 4
}
